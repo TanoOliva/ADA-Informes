{
  "nbformat": 4,
  "nbformat_minor": 0,
  "metadata": {
    "colab": {
      "provenance": [],
      "include_colab_link": true
    },
    "kernelspec": {
      "name": "python3",
      "display_name": "Python 3"
    },
    "language_info": {
      "name": "python"
    }
  },
  "cells": [
    {
      "cell_type": "markdown",
      "metadata": {
        "id": "view-in-github",
        "colab_type": "text"
      },
      "source": [
        "<a href=\"https://colab.research.google.com/github/TanoOliva/ADA-Informes/blob/main/Informe_6.ipynb\" target=\"_parent\"><img src=\"https://colab.research.google.com/assets/colab-badge.svg\" alt=\"Open In Colab\"/></a>"
      ]
    },
    {
      "cell_type": "code",
      "source": [
        "def insertionSort(arr):\n",
        " \n",
        "    # Traverse through 1 to len(arr)\n",
        "    for i in range(1, len(arr)):\n",
        " \n",
        "        key = arr[i]\n",
        " \n",
        "        # Move elements of arr[0..i-1], that are\n",
        "        # greater than key, to one position ahead\n",
        "        # of their current position\n",
        "        j = i-1\n",
        "        while j >=0 and key < arr[j] :\n",
        "                arr[j+1] = arr[j]\n",
        "                j -= 1\n",
        "        arr[j+1] = key\n",
        "    return arr        "
      ],
      "metadata": {
        "id": "H6sITFanMzIo"
      },
      "execution_count": null,
      "outputs": []
    },
    {
      "cell_type": "code",
      "source": [
        "def median_of_medians(arr):\n",
        "    \"\"\"\n",
        "    Median of medians is an algorithm to select an approximate median as a pivot for a partitioning algorithm.\n",
        "    :param arr:\n",
        "    :return:\n",
        "    \"\"\"\n",
        "    if arr is None or len(arr) == 0:\n",
        "        return None\n",
        "\n",
        "    return select_pivot(arr, len(arr) // 2)"
      ],
      "metadata": {
        "id": "JTjP0njaP9qH"
      },
      "execution_count": null,
      "outputs": []
    },
    {
      "cell_type": "code",
      "source": [
        "def partition(arr, pivot):\n",
        "    \n",
        "    left = 0\n",
        "    right = len(arr) - 1\n",
        "    i = 0\n",
        "\n",
        "    while i <= right:\n",
        "        if arr[i] == pivot:\n",
        "            i += 1\n",
        "\n",
        "        elif arr[i] < pivot:\n",
        "            arr[left], arr[i] = arr[i], arr[left]\n",
        "            left += 1\n",
        "            i += 1\n",
        "        else:\n",
        "            arr[right], arr[i] = arr[i], arr[right]\n",
        "            right -= 1\n",
        "\n",
        "    return left"
      ],
      "metadata": {
        "id": "pfM45KqLL6sP"
      },
      "execution_count": null,
      "outputs": []
    },
    {
      "cell_type": "code",
      "source": [
        "def select_pivot(arr, k):\n",
        "    \"\"\"\n",
        "    Select a pivot corresponding to the kth largest element in the array\n",
        "    :param arr: Array from which we need to find the median.\n",
        "    :param k: cardinality that represents the kth larget element in the array\n",
        "    :return: The value of the pivot\n",
        "    \"\"\"\n",
        "    # Divide array into chunks of 5\n",
        "    #chunks by taking i from 0 to 4, 5 to 9, 10 to 14, etc\n",
        "    chunks = [arr[i : i+5] for i in range(0, len(arr), 5)]\n",
        "\n",
        "    #sort each chunks\n",
        "    sorted_chunks = [insertionSort(chunk) for chunk in chunks]\n",
        "\n",
        "\n",
        "    #take the median of each chunk\n",
        "    medians = [chunk[len(chunk) // 2] for chunk in sorted_chunks]\n",
        "\n",
        "    #find the median of medians\n",
        "    if len(medians) <= 5:\n",
        "        pivot = insertionSort(medians)[len(medians) // 2]\n",
        "    else:\n",
        "        pivot = select_pivot(len(medians) // 2)\n",
        "\n",
        "\n",
        "\n",
        "    #partition the array around the pivot\n",
        "    p = partition(arr, pivot)\n",
        "\n",
        "    #is the pivot position at the k position?\n",
        "    if k == p:\n",
        "        #select that pivot\n",
        "        return pivot\n",
        "\n",
        "    if k < p:\n",
        "        #select a new pivot by looking on the left side of the partioning\n",
        "        return select_pivot(arr[0:p], k)\n",
        "    else:\n",
        "        #select a new pivot by looking on the right side of the partioning\n",
        "        return select_pivot(arr[p+1:len(arr)], k - p - 1)"
      ],
      "metadata": {
        "id": "1FoP5givRHMN"
      },
      "execution_count": null,
      "outputs": []
    },
    {
      "cell_type": "code",
      "source": [
        "from re import A\n",
        "def select(arr, l, r, k, verbose = False):\n",
        "\n",
        "    if (k > 0 and k <= r - l + 1):\n",
        "  \n",
        "        if verbose == True: \n",
        "          index = partition(arr, l, r, True)\n",
        "          \n",
        "        else:\n",
        "          index = median_of_medians(arr)\n",
        "        \n",
        "  \n",
        "        if (index - l == k - 1):\n",
        "            return arr[index]\n",
        "  \n",
        "        if (index - l > k - 1):\n",
        "            return select(arr, l, index - 1, k)\n",
        "  \n",
        "        return select(arr, index + 1, r, \n",
        "                      k - index + l - 1)\n"
      ],
      "metadata": {
        "id": "eB6qg1n9Z6II"
      },
      "execution_count": null,
      "outputs": []
    },
    {
      "cell_type": "code",
      "source": [
        "arr = [ 10, 4, 5, 8, 6, 11, 26 ]\n",
        "n = len(arr)\n",
        "k = 3\n",
        "print(\"I-ESIMO ELEMENTO MÁS PEQUEÑO:\")\n",
        "print(select(arr, 0, n - 1, k))"
      ],
      "metadata": {
        "colab": {
          "base_uri": "https://localhost:8080/",
          "height": 397
        },
        "id": "fFzs4xVHOOfw",
        "outputId": "3c4a6ed4-5794-49dd-b6b9-9b562b61b573"
      },
      "execution_count": null,
      "outputs": [
        {
          "output_type": "stream",
          "name": "stdout",
          "text": [
            "I-ESIMO ELEMENTO MÁS PEQUEÑO:\n"
          ]
        },
        {
          "output_type": "error",
          "ename": "RecursionError",
          "evalue": "ignored",
          "traceback": [
            "\u001b[0;31m---------------------------------------------------------------------------\u001b[0m",
            "\u001b[0;31mRecursionError\u001b[0m                            Traceback (most recent call last)",
            "\u001b[0;32m<ipython-input-19-960a76c07a44>\u001b[0m in \u001b[0;36m<module>\u001b[0;34m\u001b[0m\n\u001b[1;32m      3\u001b[0m \u001b[0mk\u001b[0m \u001b[0;34m=\u001b[0m \u001b[0;36m3\u001b[0m\u001b[0;34m\u001b[0m\u001b[0;34m\u001b[0m\u001b[0m\n\u001b[1;32m      4\u001b[0m \u001b[0mprint\u001b[0m\u001b[0;34m(\u001b[0m\u001b[0;34m\"I-ESIMO ELEMENTO MÁS PEQUEÑO:\"\u001b[0m\u001b[0;34m)\u001b[0m\u001b[0;34m\u001b[0m\u001b[0;34m\u001b[0m\u001b[0m\n\u001b[0;32m----> 5\u001b[0;31m \u001b[0mprint\u001b[0m\u001b[0;34m(\u001b[0m\u001b[0mselect\u001b[0m\u001b[0;34m(\u001b[0m\u001b[0marr\u001b[0m\u001b[0;34m,\u001b[0m \u001b[0;36m0\u001b[0m\u001b[0;34m,\u001b[0m \u001b[0mn\u001b[0m \u001b[0;34m-\u001b[0m \u001b[0;36m1\u001b[0m\u001b[0;34m,\u001b[0m \u001b[0mk\u001b[0m\u001b[0;34m)\u001b[0m\u001b[0;34m)\u001b[0m\u001b[0;34m\u001b[0m\u001b[0;34m\u001b[0m\u001b[0m\n\u001b[0m",
            "\u001b[0;32m<ipython-input-18-0725dd49e76f>\u001b[0m in \u001b[0;36mselect\u001b[0;34m(arr, l, r, k, verbose)\u001b[0m\n\u001b[1;32m     15\u001b[0m \u001b[0;34m\u001b[0m\u001b[0m\n\u001b[1;32m     16\u001b[0m         \u001b[0;32mif\u001b[0m \u001b[0;34m(\u001b[0m\u001b[0mindex\u001b[0m \u001b[0;34m-\u001b[0m \u001b[0ml\u001b[0m \u001b[0;34m>\u001b[0m \u001b[0mk\u001b[0m \u001b[0;34m-\u001b[0m \u001b[0;36m1\u001b[0m\u001b[0;34m)\u001b[0m\u001b[0;34m:\u001b[0m\u001b[0;34m\u001b[0m\u001b[0;34m\u001b[0m\u001b[0m\n\u001b[0;32m---> 17\u001b[0;31m             \u001b[0;32mreturn\u001b[0m \u001b[0mselect\u001b[0m\u001b[0;34m(\u001b[0m\u001b[0marr\u001b[0m\u001b[0;34m,\u001b[0m \u001b[0ml\u001b[0m\u001b[0;34m,\u001b[0m \u001b[0mindex\u001b[0m \u001b[0;34m-\u001b[0m \u001b[0;36m1\u001b[0m\u001b[0;34m,\u001b[0m \u001b[0mk\u001b[0m\u001b[0;34m)\u001b[0m\u001b[0;34m\u001b[0m\u001b[0;34m\u001b[0m\u001b[0m\n\u001b[0m\u001b[1;32m     18\u001b[0m \u001b[0;34m\u001b[0m\u001b[0m\n\u001b[1;32m     19\u001b[0m         return select(arr, index + 1, r, \n",
            "\u001b[0;32m<ipython-input-18-0725dd49e76f>\u001b[0m in \u001b[0;36mselect\u001b[0;34m(arr, l, r, k, verbose)\u001b[0m\n\u001b[1;32m     15\u001b[0m \u001b[0;34m\u001b[0m\u001b[0m\n\u001b[1;32m     16\u001b[0m         \u001b[0;32mif\u001b[0m \u001b[0;34m(\u001b[0m\u001b[0mindex\u001b[0m \u001b[0;34m-\u001b[0m \u001b[0ml\u001b[0m \u001b[0;34m>\u001b[0m \u001b[0mk\u001b[0m \u001b[0;34m-\u001b[0m \u001b[0;36m1\u001b[0m\u001b[0;34m)\u001b[0m\u001b[0;34m:\u001b[0m\u001b[0;34m\u001b[0m\u001b[0;34m\u001b[0m\u001b[0m\n\u001b[0;32m---> 17\u001b[0;31m             \u001b[0;32mreturn\u001b[0m \u001b[0mselect\u001b[0m\u001b[0;34m(\u001b[0m\u001b[0marr\u001b[0m\u001b[0;34m,\u001b[0m \u001b[0ml\u001b[0m\u001b[0;34m,\u001b[0m \u001b[0mindex\u001b[0m \u001b[0;34m-\u001b[0m \u001b[0;36m1\u001b[0m\u001b[0;34m,\u001b[0m \u001b[0mk\u001b[0m\u001b[0;34m)\u001b[0m\u001b[0;34m\u001b[0m\u001b[0;34m\u001b[0m\u001b[0m\n\u001b[0m\u001b[1;32m     18\u001b[0m \u001b[0;34m\u001b[0m\u001b[0m\n\u001b[1;32m     19\u001b[0m         return select(arr, index + 1, r, \n",
            "... last 2 frames repeated, from the frame below ...\n",
            "\u001b[0;32m<ipython-input-18-0725dd49e76f>\u001b[0m in \u001b[0;36mselect\u001b[0;34m(arr, l, r, k, verbose)\u001b[0m\n\u001b[1;32m     15\u001b[0m \u001b[0;34m\u001b[0m\u001b[0m\n\u001b[1;32m     16\u001b[0m         \u001b[0;32mif\u001b[0m \u001b[0;34m(\u001b[0m\u001b[0mindex\u001b[0m \u001b[0;34m-\u001b[0m \u001b[0ml\u001b[0m \u001b[0;34m>\u001b[0m \u001b[0mk\u001b[0m \u001b[0;34m-\u001b[0m \u001b[0;36m1\u001b[0m\u001b[0;34m)\u001b[0m\u001b[0;34m:\u001b[0m\u001b[0;34m\u001b[0m\u001b[0;34m\u001b[0m\u001b[0m\n\u001b[0;32m---> 17\u001b[0;31m             \u001b[0;32mreturn\u001b[0m \u001b[0mselect\u001b[0m\u001b[0;34m(\u001b[0m\u001b[0marr\u001b[0m\u001b[0;34m,\u001b[0m \u001b[0ml\u001b[0m\u001b[0;34m,\u001b[0m \u001b[0mindex\u001b[0m \u001b[0;34m-\u001b[0m \u001b[0;36m1\u001b[0m\u001b[0;34m,\u001b[0m \u001b[0mk\u001b[0m\u001b[0;34m)\u001b[0m\u001b[0;34m\u001b[0m\u001b[0;34m\u001b[0m\u001b[0m\n\u001b[0m\u001b[1;32m     18\u001b[0m \u001b[0;34m\u001b[0m\u001b[0m\n\u001b[1;32m     19\u001b[0m         return select(arr, index + 1, r, \n",
            "\u001b[0;31mRecursionError\u001b[0m: maximum recursion depth exceeded in comparison"
          ]
        }
      ]
    },
    {
      "cell_type": "markdown",
      "source": [
        "# Descripcion del problema:\n",
        "\n",
        "Entrada: un arreglo de tamaño n cos sus datos en cualquier posicion y un indice k.\n",
        "\n",
        "Salida:el k-ésimo elemento más pequeño del arreglo"
      ],
      "metadata": {
        "id": "KFUipvuj_M4o"
      }
    },
    {
      "cell_type": "markdown",
      "source": [
        "# Descripcion del algoritmo:\n",
        "\n",
        "\n",
        "\n",
        "1.   Divide los n elementos de la entrada en grupos de hasta 5 elementos cada grupo \n",
        "2.   Calcula la mediana de cada grupo con InsertionSor\n",
        "\n",
        "1.   Calcula la mediana de las medianas de forma recursiva\n",
        "2.   Utiliza la mediana de las medianas como pivote para particionar los elementos de la entrada, garantizando una particion balanceada\n",
        "3.   Hace recursion sobre el subproblema apropiado\n",
        "\n",
        "\n",
        "\n"
      ],
      "metadata": {
        "id": "GdFtN-VF_Mi8"
      }
    },
    {
      "cell_type": "markdown",
      "source": [
        "# Correctitud\n",
        "\n",
        "por induccion en el tamaño n\n",
        "\n",
        "\n",
        "Caso n=1:\n",
        "\n",
        " Entonces i= 1,p=r, y el i-esimo es A[p] =A[r]\n",
        "\n",
        "Caso n>1:\n",
        "\n",
        "Con el pivote q siendo la mediana de la mediana tal que A[j]<A[q]<[k] para todo j y k con p<= j < q < k<=r\n",
        "\n",
        "Para k=q-p+1; tenemos:\n",
        "\n",
        "\n",
        "*   El k-ésimo elemento de A[p....r] es A[q]\n",
        "*   si i < k, el i-esimo de A[p.....r]es el i-esimo de A[p....q-1]\n",
        "\n",
        "\n",
        "*   si i > k, el i-esimo de A[p....r]es el(i-k)-esimo de A[q+ 1.....r]\n",
        "\n",
        "\n",
        "Entonces por induccion Select es correcto\n",
        "\n",
        "\n",
        "\n"
      ],
      "metadata": {
        "id": "4E9mNSF7IMBz"
      }
    },
    {
      "cell_type": "markdown",
      "source": [
        "# Tiempo de ejecucion\n",
        "\n",
        "T(n)=T(n/5)+T(7n/10+5)+O(n)\n",
        "\n",
        "\n",
        " Si el índice es menor que k se reduce el tiempo de O(nlogn) a O(n) y en el peor de los casos sera O(n^2)"
      ],
      "metadata": {
        "id": "OKIFCUk_GgPe"
      }
    }
  ]
}