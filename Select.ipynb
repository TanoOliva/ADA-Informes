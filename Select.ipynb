{
  "nbformat": 4,
  "nbformat_minor": 0,
  "metadata": {
    "colab": {
      "provenance": [],
      "authorship_tag": "ABX9TyMPR5UaThosDjjon2Z8fgQO"
    },
    "kernelspec": {
      "name": "python3",
      "display_name": "Python 3"
    },
    "language_info": {
      "name": "python"
    }
  },
  "cells": [
    {
      "cell_type": "markdown",
      "source": [
        "#1. Descripcion del problema\n",
        "\n",
        "#Estadisticos de orden\n",
        "\n",
        "\n",
        "**Entrada:** Una secuencia $a$ de $n$ números $[a_1, a_2, \\ldots, a_n]$ y un número $k$ **menor al tamaño de la secuencia**.\n",
        "\n",
        "**Salida:** El $k$-ésimo **menor elemento** de la secuencia $a$.\n",
        "\n",
        "Un estadístico de orden es el $k$-ésimo menor elemento de una muestra, y este es una de las herramientas mas importantes de la estadística no paramétrica y de inferencia, además de tener muchas aplicaciones en diversas áreas, como la **ingeniería** y **data science**.\n",
        "\n",
        "En este informe, presentaremos el algoritmo **Select**, que es capaz de resolver el problema de encontrar un estadístico de orden en una muestra no ordenada en **tiempo lineal**.\n"
      ],
      "metadata": {
        "id": "p5PGiFLBWfyQ"
      }
    },
    {
      "cell_type": "markdown",
      "source": [
        "#2. Codigo\n",
        "\n",
        "El siguiente codigo muestra la Implementacion de Select"
      ],
      "metadata": {
        "id": "mQjy9uvtYAOJ"
      }
    },
    {
      "cell_type": "markdown",
      "source": [
        "##2.1"
      ],
      "metadata": {
        "id": "-nbBAWMvUgqK"
      }
    },
    {
      "cell_type": "code",
      "source": [
        "import random\n",
        "import numpy as np\n",
        "\n",
        "def insertionSort(arreglo, cont):\n",
        "  \n",
        "  for i in range(1, len(arreglo)):\n",
        "   \n",
        "    elem = arreglo[i] #Variable que guarda el elemento en la posicion de la fila\n",
        "    j = i\n",
        "   \n",
        "    #Si los elementos están desordenados y existe un predecesor entran al ciclo\n",
        "    while(j > 0 and arreglo[j - 1] > elem):\n",
        "      cont[0]+=1\n",
        "      #Intercambio de posiciones entre los elementos\n",
        "      arreglo[j], arreglo[j - 1]= arreglo[j - 1], arreglo[j]\n",
        "      j = j - 1\n",
        "\n",
        "  return arreglo      \n",
        "\n",
        "\n",
        "\n",
        "def partition(arreglo, pivote, cont):\n",
        "  cont[0]+=1\n",
        "  posPivote = arreglo.index(pivote)\n",
        "  if(pivote != 0):\n",
        "    #intercambio\n",
        "    arreglo[0], arreglo[posPivote] = arreglo[posPivote], arreglo[0]\n",
        "  largo = len(arreglo)\n",
        "  j = 1\n",
        "  for i in range(1, largo)  : \n",
        "    cont[0]+=1\n",
        "    if(arreglo[i] < arreglo[0]):\n",
        "      arreglo[i], arreglo[j] = arreglo[j], arreglo[i]\n",
        "      j+=1\n",
        "\n",
        "  arreglo[0], arreglo[j - 1] = arreglo[j - 1], arreglo[0]\n",
        "  return j-1\n",
        "\n",
        "def pivotSelection(arreglo, cont):\n",
        "\n",
        "\n",
        "  cont[0]+=1\n",
        "  largo = len(arreglo) \n",
        "  # Caso 1, el largo del arreglo es 1\n",
        "  if(largo == 1) : \n",
        "    return arreglo[0];\n",
        "\n",
        "  #Caso 2 , el largo del arreglo <= 5\n",
        "  if(largo <= 5):\n",
        "    #ordenamos el arreglo y obtenemos su mediana\n",
        "    arreglo = insertionSort(arreglo, cont)\n",
        "    med = arreglo[largo//2]\n",
        "    return med\n",
        "\n",
        "  #Caso 3, el largo del arreglo > 5\n",
        "  #Se debe subdividir el arreglo en grupos de 5 elementos ordenados y obtener \n",
        "  # sus medianas\n",
        "\n",
        "  subarreglos = []\n",
        "  medianas = []\n",
        "  subarreglos = [arreglo[i:(i+5)] for i in range(0,largo,5)]\n",
        "  numSubArreglos = len(subarreglos)\n",
        "\n",
        "  for i in range (numSubArreglos) :\n",
        "      cont[0] += 1\n",
        "      subarreglos[i] = insertionSort(subarreglos[i], cont)\n",
        "\n",
        "  medianas = [i[len(i)//2] for i in subarreglos]\n",
        "\n",
        "\n",
        "  \n",
        " #Hasta no encontrar un caso base, llamamos recursivamente la función\n",
        "  medianaFinal = pivotSelection(medianas, cont)\n",
        "  return medianaFinal\n",
        "\n",
        "\n",
        "\n",
        "def select(arreglo, k, cont):\n",
        "  med = pivotSelection(arreglo,cont)\n",
        "  pivote = partition(arreglo,med, cont)\n",
        "\n",
        "\n",
        "  if(len(arreglo) == 1): return arreglo\n",
        "  #caso 1\n",
        "  if (pivote == (k - 1)): \n",
        "    cont[0] = cont[0] + 1\n",
        "\n",
        "    return med;\n",
        "\n",
        "  #caso 2\n",
        "  if (pivote < (k - 1)):\n",
        "    cont[0] = cont[0] + 1\n",
        "    k = k - pivote - 1\n",
        "    return select(arreglo[pivote + 1:], k, cont)\n",
        "\n",
        "  #caso 3\n",
        "  if (pivote > (k - 1)) :\n",
        "    cont[0]+=1;\n",
        "    return select(arreglo[:pivote], k, cont)\n",
        "\n",
        "\n",
        "\n",
        "\n",
        "arreglo = [ 10, 4, 5, 8, 6, 11, 26 ]\n",
        "cont = [0]\n",
        "k = 3\n",
        "print(\"Arreglo inicial: \", arreglo)\n",
        "k_esimo = select(arreglo, k, cont)\n",
        "print(\"k-esimo elemento mas pequeño: \", k_esimo)\n"
      ],
      "metadata": {
        "colab": {
          "base_uri": "https://localhost:8080/"
        },
        "id": "wxai_m1fyora",
        "outputId": "f0f69482-1133-4e1d-b597-b475715e93bd"
      },
      "execution_count": null,
      "outputs": [
        {
          "output_type": "stream",
          "name": "stdout",
          "text": [
            "Arreglo inicial:  [10, 4, 5, 8, 6, 11, 26]\n",
            "k-esimo elemento mas pequeño:  6\n"
          ]
        }
      ]
    },
    {
      "cell_type": "markdown",
      "source": [
        "##2.2 Descripcion del Algoritmo\n",
        "\n",
        "El algoritmo de Select consiste en encontrar la posición i-ésima correspondiente al estadístco de orden que se está buscando mediante la realización de particiones recursivas al arreglo de entrada, alrededor de un pivote determinado. Este proceso de particiones es idéntico al utilizado en algoritmos como QuickSort, en el cual los elementos del arreglo son ordenados alrededor de un número llamado pivote. Así, el resto de elementos son ubicados a la izquierda del pivote si son menores a este, o a la derecha si es que son mayores.\n",
        "\n",
        "**Entrada:** Un arreglo o lista con **n** cantidad de números, además de un índice **i**.\n",
        "\n",
        "**Salida:** Un elemento con una ubicación q-ésima en el arreglo, cuya posición coincide con el índice **i** dado.\n",
        "\n",
        "Como se mencionó anteriormente, este algoritmo repite el funcionamiento de el algoritmo QuickSort para realizar el método partition. La diferencia de Select con respecto a este algoritmo, es la forma en que se determina el pivote. Este algoritmo hace uso de la función llamada **pivot-seleccion**, la cual busca generar particiones lo más balanceadas posibles, mediante la búsqueda de un pivote que se acerque lo más posible a la mediana real del conjunto. Para conseguir esto esta función realiza los siguientes pasos.\n",
        "\n",
        "* Se divide el arreglo de **n** elementos en una cantidad **$n/5$** de sub-arreglos que contengan $5$ elementos cada uno. Existe la posibilidad que el último sub-arreglo pueda tener menos de la cantidad mencionada.\n",
        "\n",
        "* Ordena cada sub-arreglo utilizando Insertion Sort y busca la mediana de cada uno de ellos. Estas medianas se guardan simultáneamente en un arreglo auxiliar.\n",
        "\n",
        "* Se aplica el mismo algoritmo Pivot Selection recursivamente sobre el arreglo de medianas hasta que su tamaño sea de 1 elemento. Este será por consecuencia la mediana del arreglo original.\n",
        "\n",
        "\n",
        "Luego de aplicar esta función, el algoritmo select procede a comparar el índice $i$ que se está buscando, con la posición en la cual quedó el pivote luego de la función Pivot Selection, ante lo cual se desprederán estas 3 nuevas opciones:\n",
        "\n",
        "* En caso de que $i$ sea igual a la posición del pivote, se retorna el elemento que se encuentre en esta posición.\n",
        "* En caso de que $i$ sea mayor a la posición del pivote, se aplicará recursivamente el algoritmo Select a la mitad derecha del arreglo, que contiene a los valores mayores al pivote.\n",
        "* En caso de que $i$ sea menor a la posición del pivote, se aplicará recursivamente este algoritmo a la mitad izquierda del arreglo, en la cual están los números menores al pivote.\n",
        "\n",
        "\n"
      ],
      "metadata": {
        "id": "Yo9vknXM4ibs"
      }
    },
    {
      "cell_type": "markdown",
      "source": [
        "##2.3 Ejemplo\n",
        "\n",
        "### ***Consideremos el arreglo:***\n",
        "[10, 4, 5, 8, 6, 11, 26, 30]\n",
        "y queremos el ***3er elemento más pequeño***.\n",
        "\n",
        "- El arreglo ordenado :\n",
        "  [4, 5, 6, 8, 10, 11, 26, 30]. \n",
        "\n",
        "Así que el 3ero más pequeño es el número 6.\n",
        "\n",
        " ***1. Como entrada:***\n",
        "[10, 4, 5, 8, 6, 11, 26, 30] y k = 3.\n",
        "\n",
        "Pivote: 4. \n",
        "- Arreglo: [10, 5, 8, 6, 11, 26, 30]\n",
        "\n",
        "### ***2. El algoritmo llama recursivamente:***\n",
        "\n",
        "Selección rápida: [10, 5, 8, 6, 11, 26, 30} y k = 2. \n",
        "\n",
        "Pivote: 5.\n",
        "\n",
        "- Arreglo: [10, 8, 6, 11, 26, 30]\n",
        "\n",
        "Reducimos el valor de k de 3 a 2. Ahora estamos buscando el segundo elemento más pequeño.\n",
        "\n",
        "Se llama recursivamente nuevamente: \n",
        "\n",
        "Selección rápida: [10, 8, 6, 11, 26, 30] y k = 1.\n",
        "\n",
        "El valor de k se reduce de manera similar.\n",
        "\n",
        "\n",
        "### ***3. Elegimos nuevo pivote aleatorio:***\n",
        "\n",
        "Pivote: 26. \n",
        "\n",
        "* Arreglo: [10, 8, 6, 11]. \n",
        "\n",
        "Eliminar: [30].\n",
        "\n",
        "Como el 30 es mayor, se elimina.\n",
        "\n",
        "El algoritmo llama recursivamente: \n",
        "\n",
        "Selección rápida: [10, 8, 6, 11] y k = 1.\n",
        "\n",
        "Aquí el valor de k no se reduce ya que no nos deshacemos de ningún elemento.\n",
        "\n",
        "Pivote: 10. \n",
        "\n",
        "* Arreglo: [8, 6].\n",
        "\n",
        "Eliminar: [11].\n",
        "\n",
        "Recursivamente llamamos a selección rápida: [8, 6] y k = 1\n",
        "\n",
        "Pivote: 6. \n",
        "\n",
        "* Arreglo: [6].\n",
        "\n",
        "Eliminar: [8].\n",
        "\n",
        "**Por lo tanto, el k = 3 más pequeño es 6.**\n"
      ],
      "metadata": {
        "id": "lU8R1ZBBYgop"
      }
    },
    {
      "cell_type": "markdown",
      "source": [
        "#3. Tiempo de Ejecucion\n",
        "El tiempo de ejecución de este algoritmo se basa en las funciones que realiza este algoritmo para poder cumplir su objetivo de manera eficiente, sabemos que:\n",
        "\n",
        "\n",
        "\n",
        "**Insertion Sort**: En el mejor caso, su tiempo de ejecución es $O(1)$ y en el peor es $O(n^2)$, pero nos quedaremos con el dato de mejor caso.\n",
        "\n",
        "\n",
        "\n",
        "**Partition y pivotSelection** : Estas funciones tiene un tiempo de ejecución lineal, $O(n)$\n",
        "\n",
        "\n",
        "Nuestro arreglo \"medianas\" contiene n/5 elementos  y esto se obtiene a la recursividad de los llamados para poder encontrar la mediana de medianas, es por esto, que el tiempo de ejecución para poder llevar a cabo lo mencionado anteriormente es $T(n/5)$.\n",
        "\n",
        "\n",
        "\n",
        "Nuestro peor caso sería que por cada llamada recursiva el subarreglo contenga $T(7n/10)$ elementos.\n",
        "\n",
        "\n",
        "\n",
        "Finalmente, tenemos : **T(n) = O(n) + T(7n/10) + T(n/5)**, desarrollandolo:\n",
        "\n",
        "T(n) = an +  T(7n/10) + T(n/5)\n",
        "\n",
        "cn >= T(7n/10) + T(n/5) + an\n",
        "\n",
        "cn >= cn/5 + 7cn/10 + an\n",
        "\n",
        "c > 9c/10 + a\n",
        "\n",
        "c/10 >= a\n",
        "\n",
        "c >= 10a\n",
        "\n",
        "Por lo que: ***T(n) = O(n)***\n"
      ],
      "metadata": {
        "id": "01vXL_XJRfEW"
      }
    },
    {
      "cell_type": "markdown",
      "source": [
        "#4. Correctitud\n",
        "\n",
        "## Correctitud select\n",
        "\n",
        "Para probar la correctitud del algoritmo select, usaremos inducción. Plantearemos un caso base y en base a este probaremos que se cumple la correctitud para todo el algoritmo.\n",
        "\n",
        "Asumiendo que partition, pivotSelection e insertionSort funcionan correctamente.\n",
        "\n",
        "**Caso base (El arreglo solo tiene un elemento)**\n",
        "\n",
        "\n",
        "* Para nuestro caso base, como nuestro arreglo solo tiene un elemento asumimos que trivialmente es el\n",
        "iesimo menor número que estamos buscando.\n",
        "\n",
        "**Caso 2 (El arreglo tiene <= 5 elementos)**\n",
        "\n",
        "\n",
        "* El arreglo entrará a pivotSelection, el cual generará un solo sub arreglo (dado que son menos de 5 \n",
        "elementos), lo ordenara y retornara la mediana. Posteriormente partition usara la mediana como pivote \n",
        "y retornará dos subarreglos, con los elementos mayores al pivote y otro con los menores, dado que solo hay \n",
        "dos elementos quedaran dos subarreglos de 1 elemento. Dependiendo de si el elemento que buscamos es mayor\n",
        "o menor al pivote que retorna partition, elegimos el subarreglo con el que trabajaremos y se llamará \n",
        "recursivamente a select con un subarreglo de 1 solo elemento, donde se cumplirá el caso base.\n",
        "\n",
        "**Caso 3 (El arreglo tiene más de 5 elementos)**\n",
        "\n",
        "\n",
        "* Sabiendo que la función partition va a dividir en dossubarreglos y además  select es un algoritmo \n",
        "recursivo, entonces el algoritmo select trabajara con arreglos más pequeños hasta llegar al caso base.\n",
        "\n",
        "  En el caso de que el elemento k-ésimo sea menor a q(pivot), se trabajara con el arreglo derecho que se\n",
        "peticionará y se escogerá nuevamente un pivot de la mediana de medianas que hará que se vuelva a dividir \n",
        "el arreglo en 2 hasta que se cumpla el caso base.\n",
        "\n",
        "  Es importante resaltar que el k-ésimo elemento no va a estar siempre al mismo lado del pivote en cada \n",
        "iteración, esto nos lleva a darnos cuenta de que el caso 3 y el caso 2 se complementan durante la \n",
        "ejecución del algoritmo select.\n",
        "\n",
        "\n"
      ],
      "metadata": {
        "id": "fouFAR2e4e9E"
      }
    },
    {
      "cell_type": "markdown",
      "source": [
        "#5 experimentos"
      ],
      "metadata": {
        "id": "qdFSyb2hRi4c"
      }
    },
    {
      "cell_type": "code",
      "source": [
        "import matplotlib.pyplot as plt\n",
        "import datetime\n",
        "from timeit import repeat\n",
        "\n",
        "\n",
        "x=[]; y=[]\n",
        "y1=[]\n",
        "\n",
        "\n",
        "for n in range(5,500):\n",
        "\n",
        "  a = random.sample(range(1, 500), n)\n",
        "  cont = [0]\n",
        " \n",
        "  #la función repeat está ejecutando 20 veces insertion_Sort con el arreglo a y retorna el mejor tiepo obtenido.\n",
        "  t1 = repeat(setup=\"from __main__ import Randomizedselect\", stmt=f\"Randomizedselect({a},{0},{n-1},{3})\", repeat=1, number=10)\n",
        "  t2 = repeat(setup=\"from __main__ import select\", stmt=f\"select({a},{3},{cont})\", repeat=1, number=10)\n",
        "  x.append(n)\n",
        "  y.append(t1)\n",
        "  y1.append(t2)\n",
        "\n",
        "\n",
        "plt.plot(x, y)\n",
        "plt.plot(x, y1)\n",
        "plt.legend([\"Randomized-Select\", \"Select\"])\n",
        "\n",
        "plt.xlabel('Tamaño del arreglo')\n",
        "plt.ylabel('Tiempo en ms')\n",
        "plt.show()"
      ],
      "metadata": {
        "id": "RW_ZNMwHUCJe",
        "colab": {
          "base_uri": "https://localhost:8080/",
          "height": 279
        },
        "outputId": "5164e183-ee84-4fdc-91f0-15cce0def155"
      },
      "execution_count": null,
      "outputs": [
        {
          "output_type": "display_data",
          "data": {
            "text/plain": [
              "<Figure size 432x288 with 1 Axes>"
            ],
            "image/png": "[encoded data removed]"
          },
          "metadata": {
            "needs_background": "light"
          }
        }
      ]
    },
    {
      "cell_type": "markdown",
      "source": [
        "**Analisis de los resultados**\n",
        "\n",
        "\n",
        "El algoritmo **Select** se diferencia de Randomized-select en la **selección del pivote para realizar la partición.** Y su principal diferencia es que divide el conjunto de **n** elementos en (n/5) **siempre**, sin importar el tamaño de este, es por eso, que apesar de tener la misma funcionalidad, Randomized-select es mucho más eficiente, debido que se mantiene constante apesar que el tamaño vaya aumentando.\n"
      ],
      "metadata": {
        "id": "wgVvPe9XkWdj"
      }
    }
  ]
}