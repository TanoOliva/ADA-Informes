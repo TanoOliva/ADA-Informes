{
  "nbformat": 4,
  "nbformat_minor": 0,
  "metadata": {
    "colab": {
      "provenance": [],
      "authorship_tag": "ABX9TyPIIL7YuSqwVUKA0MLMKsbg",
      "include_colab_link": true
    },
    "kernelspec": {
      "name": "python3",
      "display_name": "Python 3"
    },
    "language_info": {
      "name": "python"
    }
  },
  "cells": [
    {
      "cell_type": "markdown",
      "metadata": {
        "id": "view-in-github",
        "colab_type": "text"
      },
      "source": [
        "<a href=\"https://colab.research.google.com/github/TanoOliva/ADA-Informes/blob/main/insertion_sort.ipynb\" target=\"_parent\"><img src=\"https://colab.research.google.com/assets/colab-badge.svg\" alt=\"Open In Colab\"/></a>"
      ]
    },
    {
      "cell_type": "markdown",
      "source": [
        "# 1. Descripcion del Problema\n",
        "\n",
        "\n",
        "\n",
        "El problema a tratar por este algoritmo es el problema de ordenamiento, problema que se ha estudiado por más de 50 años y consiste en modificar una secuencia de números para que luego de aplicado el algoritmo, los mismos elementos de la secuencia se encuentren en un orden específico. Por ejemplo ordenar los números de un arreglo de menor a mayor o viceversa.\n",
        "\n",
        "**Entrada**: Secuencia de n números $[a_1,a_2,...,a_n]$\n",
        "\n",
        "**Salida**: Permutación ordenada de la secuencia de entrada: $[a_1',a_2',...,a_n']$, de tal manera que $a_1'\\leq a_2' \\leq... \\leq a_n'$.\n",
        "\n",
        "![imagen.png](data:image/png;base64,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)\n"
      ],
      "metadata": {
        "id": "r21uIPTwcf_L"
      }
    },
    {
      "cell_type": "markdown",
      "source": [
        "# 2. Insertion Sort\n"
      ],
      "metadata": {
        "id": "acdJxaOZc2ly"
      }
    },
    {
      "cell_type": "markdown",
      "source": [
        "El siguiente código muestra una implementación del algoritmo **Insertion Sort**."
      ],
      "metadata": {
        "id": "v_Cguf7ZwHMU"
      }
    },
    {
      "cell_type": "markdown",
      "source": [
        "## 2.1 Codigo"
      ],
      "metadata": {
        "id": "xTPgwcYEc3Na"
      }
    },
    {
      "cell_type": "code",
      "source": [
        "import matplotlib.pyplot as plt\n",
        "import time\n",
        "from termcolor import colored\n",
        "import numpy as np\n",
        "import random\n",
        "\n",
        "def prRed(skk): print(\"\\033[91m{}\\033[00m\" .format(skk))\n",
        "def prGreen(skk): print(\"\\033[92m{}\\033[00m\" .format(skk))\n",
        "def prYellow(skk): print(\"\\033[93m{}\\033[00m\" .format(skk))\n",
        "def prLightPurple(skk): print(\"\\033[94m{}\\033[00m\" .format(skk))\n",
        "def prPurple(skk): print(\"\\033[95m{}\\033[00m\" .format(skk))\n",
        "def prCyan(skk): print(\"\\033[96m{end = \" \"}\\033[00m\" .format(skk))\n",
        "def prLightGray(skk): print(\"\\033[97m{}\\033[00m\" .format(skk))\n",
        "def prBlack(skk): print(\"\\033[98m{}\\033[00m\" .format(skk))\n",
        "\n",
        "#Funcion que crea un arreglo aleatorio de tamaño \"n\"\n",
        "\n",
        "def randomArray(n):\n",
        "  array = np.zeros(n)\n",
        "  for i in range (len(array)):\n",
        "    array[i] = int(random.randint(1,100))\n",
        "  return array\n",
        "\n",
        "#Funcion Insertion Sort\n",
        "\n",
        "def insertionSort(array,verbose = False,comparaciones = False):\n",
        "  cont = 0\n",
        "  permutaciones = 0\n",
        "  for i in range(1,len(array)):\n",
        "    contIteracion = 0\n",
        "    #seccion que imprime y muestra los cambios en caso de ser (verbose == true)\n",
        "    if (verbose == True):\n",
        "      print(\"pasada \",i,\" inicio        \",end = \" \")\n",
        "      for k in range (len(array)):\n",
        "        if (k == i): \n",
        "          #print(colored(int(array[k]),\"blue\"),end = \" \")\n",
        "          print(\"\\033[92m\" + str(int(array[k])) + \"\\033[00m\" , end = ' ')\n",
        "        else:\n",
        "          print(int(array[k]),end = \" \")\n",
        "      print(\"\")\n",
        "\n",
        "\n",
        "    key = array[i]\n",
        "    j = i - 1\n",
        "    while True:\n",
        "      cont += 1\n",
        "      if j >= 0 and key < array[j]:\n",
        "        permutaciones += 1\n",
        "        contIteracion = contIteracion + 1\n",
        "        array[j + 1] = array[j]\n",
        "        j = j - 1\n",
        "      else: break\n",
        "\n",
        "\n",
        "    array[j + 1] = key\n",
        "\n",
        "\n",
        "    #seccion que imprime y muestra los cambios en caso de ser (verbose == true)\n",
        "    if (verbose == True):\n",
        "      print(\"pasada \",i,\" final         \",end = \" \")\n",
        "      for k in range (len(array)):\n",
        "        if (k < i):\n",
        "          #print(colored(int(array[k]),\"red\"),end = \" \")\n",
        "          print(\"\\033[91m\" + str(int(array[k])) + \"\\033[00m\", end = \" \")\n",
        "        else: \n",
        "          print(int(array[k]),end = \" \")\n",
        "      print(\"\\nCantidad de permutaciones por ciclo: \",contIteracion,\"\\n\")\n",
        "      \n",
        "  if verbose == True: \n",
        "    print(\"comparaciones Totales: \",cont,\"\\npermutaciones totales: \",permutaciones)  \n",
        "  if comparaciones == True:\n",
        "    return cont,permutaciones"
      ],
      "metadata": {
        "id": "mnnSjAE4YPAB"
      },
      "execution_count": 73,
      "outputs": []
    },
    {
      "cell_type": "code",
      "source": [
        "## EJEMPLO ##\n",
        "array = [7,15,6,9,13]\n",
        "print(\"Arreglo de entrada: \",array)\n",
        "comparaciones,permutaciones = insertionSort(array,comparaciones=True)\n",
        "print(\"Arreglo de salida:  \",array)\n",
        "print(\"n° de comparaciones: \",comparaciones,\"\\nn° de permutaciones: \",permutaciones)\n",
        "\n"
      ],
      "metadata": {
        "colab": {
          "base_uri": "https://localhost:8080/"
        },
        "id": "d_bKqk9GxDjj",
        "outputId": "b4a9a963-0f92-4536-c18b-e81aedcd7413"
      },
      "execution_count": 62,
      "outputs": [
        {
          "output_type": "stream",
          "name": "stdout",
          "text": [
            "Arreglo de entrada:  [7, 15, 6, 9, 13]\n",
            "Arreglo de salida:   [6, 7, 9, 13, 15]\n",
            "n° de comparaciones:  8 \n",
            "n° de permutaciones:  4\n"
          ]
        }
      ]
    },
    {
      "cell_type": "markdown",
      "source": [
        "## 2.2 Descripcion del algoritmo\n",
        "\n",
        "El algoritmo consiste en Ordenar datos dentro de una lista o un arreglo.\n",
        "\n",
        "La forma en que trabaja el algoritmo es que parte desde la posicion 1 del arreglo y la compara con la anterior, y si es menor, se posiciona en la posicion 0.\n",
        "\n",
        "**Entrada**: Un arreglo o lista con n cantidad de números.\n",
        "\n",
        "**Salida:** El mismo arreglo con exactamente los mismos elementos pero ordenados de menor a mayor.\n",
        "\n",
        "1. Se comienza a trabajar desde la izquierda hacia la derecha del arreglo, hasta llegar hasta la última posición del arreglo.\n",
        "\n",
        "2. Cada elemento en una posición i-ésima del arreglo se compara con el número más cercano a su izquierda, y se pregunta si es menor que este, de no ser así, los números son intercambiados.\n",
        "\n",
        "3. El paso 2 se repite hasta que la comparación se cumpla o hasta que se llegue al incio del arreglo. Se asume que cuando la condición se cumple, todos los números anteriores a la posición en la que queda el nuevo elemento insertado están ya ordenados.\n",
        "\n",
        "\n",
        "![image](https://upload.wikimedia.org/wikipedia/commons/9/9c/Insertion-sort-example.gif?20110309111239)\n",
        "\n"
      ],
      "metadata": {
        "id": "qY1uUsIoyihS"
      }
    },
    {
      "cell_type": "markdown",
      "source": [
        "##2.3 Ejemplo\n",
        "\n"
      ],
      "metadata": {
        "id": "lu7LHTY7blgX"
      }
    },
    {
      "cell_type": "code",
      "source": [
        "## Color azul = Elemento comparado\n",
        "## Color rojo = elementos ya ordenados\n",
        "arreglo = [7,15,6,9,13]\n",
        "insertionSort(arreglo,verbose = True)"
      ],
      "metadata": {
        "colab": {
          "base_uri": "https://localhost:8080/"
        },
        "id": "cz5TtCIua8Uh",
        "outputId": "4131fc83-697d-4e98-c74d-ea85cbf60c88"
      },
      "execution_count": 63,
      "outputs": [
        {
          "output_type": "stream",
          "name": "stdout",
          "text": [
            "pasada  1  inicio         7 \u001b[92m15\u001b[00m 6 9 13 \n",
            "pasada  1  final          \u001b[91m7\u001b[00m 15 6 9 13 \n",
            "Cantidad de permutaciones por ciclo:  0 \n",
            "\n",
            "pasada  2  inicio         7 15 \u001b[92m6\u001b[00m 9 13 \n",
            "pasada  2  final          \u001b[91m6\u001b[00m \u001b[91m7\u001b[00m 15 9 13 \n",
            "Cantidad de permutaciones por ciclo:  2 \n",
            "\n",
            "pasada  3  inicio         6 7 15 \u001b[92m9\u001b[00m 13 \n",
            "pasada  3  final          \u001b[91m6\u001b[00m \u001b[91m7\u001b[00m \u001b[91m9\u001b[00m 15 13 \n",
            "Cantidad de permutaciones por ciclo:  1 \n",
            "\n",
            "pasada  4  inicio         6 7 9 15 \u001b[92m13\u001b[00m \n",
            "pasada  4  final          \u001b[91m6\u001b[00m \u001b[91m7\u001b[00m \u001b[91m9\u001b[00m \u001b[91m13\u001b[00m 15 \n",
            "Cantidad de permutaciones por ciclo:  1 \n",
            "\n",
            "comparaciones Totales:  8\n"
          ]
        }
      ]
    },
    {
      "cell_type": "markdown",
      "source": [
        "Para el ejemplo se utilizará el arreglo utilizado en el codigo de prueba\n",
        "\n",
        "\n",
        "*   **array = [7,15,6,9,13]**\n",
        "\n",
        "En la primera pasada el arreglo queda tal cual debido a que el 15 se compara con el 7 y la condición se cumple ya que 7 < 15, por lo cual no hay intercambio.\n",
        "\n",
        "*   **array = [7,15,6,9,13]**\n",
        "\n",
        "En la segunda iteracion se toma como pivote el **6**, que es menor que los numeros anteriores **7** y **15**.\n",
        "\n",
        "Resultando el arreglo de la siguiente manera:\n",
        "\n",
        "* **array = [6,7,15,9,13]**\n",
        "\n",
        "En la tercera iteracion se toma como pivote el **9**, donde solo el **15** es mayor que **9** se intercambian.\n",
        "\n",
        "Resultando el sigueinte arreglo:\n",
        "\n",
        "* **array = [6,7,9,15,13]**\n",
        "\n",
        "Y para la utima iteracion se tomo caomo pivote el **13**, se compara con los numeros anteriores,l pero solo es menor que **15**, por lo que se permutan y queda el arreglo ordenado ya que el **13** era la ultima posicion del arreglo\n",
        "\n",
        "* **array = [6,7,9,13,15]**"
      ],
      "metadata": {
        "id": "Ctj6mjzL30L4"
      }
    },
    {
      "cell_type": "markdown",
      "source": [
        "2.4 Ejecucion con opcion verbose = True"
      ],
      "metadata": {
        "id": "-YJdvPylrQuY"
      }
    },
    {
      "cell_type": "code",
      "source": [
        "array = randomArray(15)\n",
        "array = insertionSort(array,verbose=True)"
      ],
      "metadata": {
        "colab": {
          "base_uri": "https://localhost:8080/"
        },
        "id": "Pom6slxIrXPa",
        "outputId": "872def5f-fab2-4cc9-a16d-f19a0173678a"
      },
      "execution_count": 74,
      "outputs": [
        {
          "output_type": "stream",
          "name": "stdout",
          "text": [
            "pasada  1  inicio         66 \u001b[92m91\u001b[00m 63 3 67 65 71 83 17 13 93 82 60 19 39 \n",
            "pasada  1  final          \u001b[91m66\u001b[00m 91 63 3 67 65 71 83 17 13 93 82 60 19 39 \n",
            "Cantidad de permutaciones por ciclo:  0 \n",
            "\n",
            "pasada  2  inicio         66 91 \u001b[92m63\u001b[00m 3 67 65 71 83 17 13 93 82 60 19 39 \n",
            "pasada  2  final          \u001b[91m63\u001b[00m \u001b[91m66\u001b[00m 91 3 67 65 71 83 17 13 93 82 60 19 39 \n",
            "Cantidad de permutaciones por ciclo:  2 \n",
            "\n",
            "pasada  3  inicio         63 66 91 \u001b[92m3\u001b[00m 67 65 71 83 17 13 93 82 60 19 39 \n",
            "pasada  3  final          \u001b[91m3\u001b[00m \u001b[91m63\u001b[00m \u001b[91m66\u001b[00m 91 67 65 71 83 17 13 93 82 60 19 39 \n",
            "Cantidad de permutaciones por ciclo:  3 \n",
            "\n",
            "pasada  4  inicio         3 63 66 91 \u001b[92m67\u001b[00m 65 71 83 17 13 93 82 60 19 39 \n",
            "pasada  4  final          \u001b[91m3\u001b[00m \u001b[91m63\u001b[00m \u001b[91m66\u001b[00m \u001b[91m67\u001b[00m 91 65 71 83 17 13 93 82 60 19 39 \n",
            "Cantidad de permutaciones por ciclo:  1 \n",
            "\n",
            "pasada  5  inicio         3 63 66 67 91 \u001b[92m65\u001b[00m 71 83 17 13 93 82 60 19 39 \n",
            "pasada  5  final          \u001b[91m3\u001b[00m \u001b[91m63\u001b[00m \u001b[91m65\u001b[00m \u001b[91m66\u001b[00m \u001b[91m67\u001b[00m 91 71 83 17 13 93 82 60 19 39 \n",
            "Cantidad de permutaciones por ciclo:  3 \n",
            "\n",
            "pasada  6  inicio         3 63 65 66 67 91 \u001b[92m71\u001b[00m 83 17 13 93 82 60 19 39 \n",
            "pasada  6  final          \u001b[91m3\u001b[00m \u001b[91m63\u001b[00m \u001b[91m65\u001b[00m \u001b[91m66\u001b[00m \u001b[91m67\u001b[00m \u001b[91m71\u001b[00m 91 83 17 13 93 82 60 19 39 \n",
            "Cantidad de permutaciones por ciclo:  1 \n",
            "\n",
            "pasada  7  inicio         3 63 65 66 67 71 91 \u001b[92m83\u001b[00m 17 13 93 82 60 19 39 \n",
            "pasada  7  final          \u001b[91m3\u001b[00m \u001b[91m63\u001b[00m \u001b[91m65\u001b[00m \u001b[91m66\u001b[00m \u001b[91m67\u001b[00m \u001b[91m71\u001b[00m \u001b[91m83\u001b[00m 91 17 13 93 82 60 19 39 \n",
            "Cantidad de permutaciones por ciclo:  1 \n",
            "\n",
            "pasada  8  inicio         3 63 65 66 67 71 83 91 \u001b[92m17\u001b[00m 13 93 82 60 19 39 \n",
            "pasada  8  final          \u001b[91m3\u001b[00m \u001b[91m17\u001b[00m \u001b[91m63\u001b[00m \u001b[91m65\u001b[00m \u001b[91m66\u001b[00m \u001b[91m67\u001b[00m \u001b[91m71\u001b[00m \u001b[91m83\u001b[00m 91 13 93 82 60 19 39 \n",
            "Cantidad de permutaciones por ciclo:  7 \n",
            "\n",
            "pasada  9  inicio         3 17 63 65 66 67 71 83 91 \u001b[92m13\u001b[00m 93 82 60 19 39 \n",
            "pasada  9  final          \u001b[91m3\u001b[00m \u001b[91m13\u001b[00m \u001b[91m17\u001b[00m \u001b[91m63\u001b[00m \u001b[91m65\u001b[00m \u001b[91m66\u001b[00m \u001b[91m67\u001b[00m \u001b[91m71\u001b[00m \u001b[91m83\u001b[00m 91 93 82 60 19 39 \n",
            "Cantidad de permutaciones por ciclo:  8 \n",
            "\n",
            "pasada  10  inicio         3 13 17 63 65 66 67 71 83 91 \u001b[92m93\u001b[00m 82 60 19 39 \n",
            "pasada  10  final          \u001b[91m3\u001b[00m \u001b[91m13\u001b[00m \u001b[91m17\u001b[00m \u001b[91m63\u001b[00m \u001b[91m65\u001b[00m \u001b[91m66\u001b[00m \u001b[91m67\u001b[00m \u001b[91m71\u001b[00m \u001b[91m83\u001b[00m \u001b[91m91\u001b[00m 93 82 60 19 39 \n",
            "Cantidad de permutaciones por ciclo:  0 \n",
            "\n",
            "pasada  11  inicio         3 13 17 63 65 66 67 71 83 91 93 \u001b[92m82\u001b[00m 60 19 39 \n",
            "pasada  11  final          \u001b[91m3\u001b[00m \u001b[91m13\u001b[00m \u001b[91m17\u001b[00m \u001b[91m63\u001b[00m \u001b[91m65\u001b[00m \u001b[91m66\u001b[00m \u001b[91m67\u001b[00m \u001b[91m71\u001b[00m \u001b[91m82\u001b[00m \u001b[91m83\u001b[00m \u001b[91m91\u001b[00m 93 60 19 39 \n",
            "Cantidad de permutaciones por ciclo:  3 \n",
            "\n",
            "pasada  12  inicio         3 13 17 63 65 66 67 71 82 83 91 93 \u001b[92m60\u001b[00m 19 39 \n",
            "pasada  12  final          \u001b[91m3\u001b[00m \u001b[91m13\u001b[00m \u001b[91m17\u001b[00m \u001b[91m60\u001b[00m \u001b[91m63\u001b[00m \u001b[91m65\u001b[00m \u001b[91m66\u001b[00m \u001b[91m67\u001b[00m \u001b[91m71\u001b[00m \u001b[91m82\u001b[00m \u001b[91m83\u001b[00m \u001b[91m91\u001b[00m 93 19 39 \n",
            "Cantidad de permutaciones por ciclo:  9 \n",
            "\n",
            "pasada  13  inicio         3 13 17 60 63 65 66 67 71 82 83 91 93 \u001b[92m19\u001b[00m 39 \n",
            "pasada  13  final          \u001b[91m3\u001b[00m \u001b[91m13\u001b[00m \u001b[91m17\u001b[00m \u001b[91m19\u001b[00m \u001b[91m60\u001b[00m \u001b[91m63\u001b[00m \u001b[91m65\u001b[00m \u001b[91m66\u001b[00m \u001b[91m67\u001b[00m \u001b[91m71\u001b[00m \u001b[91m82\u001b[00m \u001b[91m83\u001b[00m \u001b[91m91\u001b[00m 93 39 \n",
            "Cantidad de permutaciones por ciclo:  10 \n",
            "\n",
            "pasada  14  inicio         3 13 17 19 60 63 65 66 67 71 82 83 91 93 \u001b[92m39\u001b[00m \n",
            "pasada  14  final          \u001b[91m3\u001b[00m \u001b[91m13\u001b[00m \u001b[91m17\u001b[00m \u001b[91m19\u001b[00m \u001b[91m39\u001b[00m \u001b[91m60\u001b[00m \u001b[91m63\u001b[00m \u001b[91m65\u001b[00m \u001b[91m66\u001b[00m \u001b[91m67\u001b[00m \u001b[91m71\u001b[00m \u001b[91m82\u001b[00m \u001b[91m83\u001b[00m \u001b[91m91\u001b[00m 93 \n",
            "Cantidad de permutaciones por ciclo:  10 \n",
            "\n",
            "comparaciones Totales:  72 \n",
            "permutaciones totales:  58\n"
          ]
        }
      ]
    },
    {
      "cell_type": "markdown",
      "source": [
        "# 3. Tiempo de ejecución\n",
        "**Teorema (Tiempo de ejecucion)**\n",
        "El algoritmo **Insertion Sort** tiene un tiempo de ejecucion de $O(n^2)$ ya que la cantidad de comparaciones que tiene que hacer el algoritmo en el peor de los casos es de $\\sum\\limits_{i=0}^{n-1} i=\\frac{n^2+n}{2}$\n",
        "Como podremos ver en el siguiente ejemplo: \n"
      ],
      "metadata": {
        "id": "TnbioOaAIhVu"
      }
    },
    {
      "cell_type": "code",
      "source": [
        "arreglo = [9,8,7,6,5,4,3,2,1,0]\n",
        "insertionSort(arreglo,verbose = True)"
      ],
      "metadata": {
        "colab": {
          "base_uri": "https://localhost:8080/"
        },
        "id": "QVzWFUtM8jdk",
        "outputId": "6a917b76-66a3-424d-8730-81a2d7204124"
      },
      "execution_count": 75,
      "outputs": [
        {
          "output_type": "stream",
          "name": "stdout",
          "text": [
            "pasada  1  inicio         9 \u001b[92m8\u001b[00m 7 6 5 4 3 2 1 0 \n",
            "pasada  1  final          \u001b[91m8\u001b[00m 9 7 6 5 4 3 2 1 0 \n",
            "Cantidad de permutaciones por ciclo:  1 \n",
            "\n",
            "pasada  2  inicio         8 9 \u001b[92m7\u001b[00m 6 5 4 3 2 1 0 \n",
            "pasada  2  final          \u001b[91m7\u001b[00m \u001b[91m8\u001b[00m 9 6 5 4 3 2 1 0 \n",
            "Cantidad de permutaciones por ciclo:  2 \n",
            "\n",
            "pasada  3  inicio         7 8 9 \u001b[92m6\u001b[00m 5 4 3 2 1 0 \n",
            "pasada  3  final          \u001b[91m6\u001b[00m \u001b[91m7\u001b[00m \u001b[91m8\u001b[00m 9 5 4 3 2 1 0 \n",
            "Cantidad de permutaciones por ciclo:  3 \n",
            "\n",
            "pasada  4  inicio         6 7 8 9 \u001b[92m5\u001b[00m 4 3 2 1 0 \n",
            "pasada  4  final          \u001b[91m5\u001b[00m \u001b[91m6\u001b[00m \u001b[91m7\u001b[00m \u001b[91m8\u001b[00m 9 4 3 2 1 0 \n",
            "Cantidad de permutaciones por ciclo:  4 \n",
            "\n",
            "pasada  5  inicio         5 6 7 8 9 \u001b[92m4\u001b[00m 3 2 1 0 \n",
            "pasada  5  final          \u001b[91m4\u001b[00m \u001b[91m5\u001b[00m \u001b[91m6\u001b[00m \u001b[91m7\u001b[00m \u001b[91m8\u001b[00m 9 3 2 1 0 \n",
            "Cantidad de permutaciones por ciclo:  5 \n",
            "\n",
            "pasada  6  inicio         4 5 6 7 8 9 \u001b[92m3\u001b[00m 2 1 0 \n",
            "pasada  6  final          \u001b[91m3\u001b[00m \u001b[91m4\u001b[00m \u001b[91m5\u001b[00m \u001b[91m6\u001b[00m \u001b[91m7\u001b[00m \u001b[91m8\u001b[00m 9 2 1 0 \n",
            "Cantidad de permutaciones por ciclo:  6 \n",
            "\n",
            "pasada  7  inicio         3 4 5 6 7 8 9 \u001b[92m2\u001b[00m 1 0 \n",
            "pasada  7  final          \u001b[91m2\u001b[00m \u001b[91m3\u001b[00m \u001b[91m4\u001b[00m \u001b[91m5\u001b[00m \u001b[91m6\u001b[00m \u001b[91m7\u001b[00m \u001b[91m8\u001b[00m 9 1 0 \n",
            "Cantidad de permutaciones por ciclo:  7 \n",
            "\n",
            "pasada  8  inicio         2 3 4 5 6 7 8 9 \u001b[92m1\u001b[00m 0 \n",
            "pasada  8  final          \u001b[91m1\u001b[00m \u001b[91m2\u001b[00m \u001b[91m3\u001b[00m \u001b[91m4\u001b[00m \u001b[91m5\u001b[00m \u001b[91m6\u001b[00m \u001b[91m7\u001b[00m \u001b[91m8\u001b[00m 9 0 \n",
            "Cantidad de permutaciones por ciclo:  8 \n",
            "\n",
            "pasada  9  inicio         1 2 3 4 5 6 7 8 9 \u001b[92m0\u001b[00m \n",
            "pasada  9  final          \u001b[91m0\u001b[00m \u001b[91m1\u001b[00m \u001b[91m2\u001b[00m \u001b[91m3\u001b[00m \u001b[91m4\u001b[00m \u001b[91m5\u001b[00m \u001b[91m6\u001b[00m \u001b[91m7\u001b[00m \u001b[91m8\u001b[00m 9 \n",
            "Cantidad de permutaciones por ciclo:  9 \n",
            "\n",
            "comparaciones Totales:  54 \n",
            "permutaciones totales:  45\n"
          ]
        }
      ]
    },
    {
      "cell_type": "markdown",
      "source": [
        "Como podemos ver en la el ejemplo anterior:\n",
        "\n",
        "\n",
        "1.   En la primera iteracion se hace solo 1 comparacion\n",
        "2.   En la segunda iteración se hacen 2 comparaciones\n",
        "3.   En la tercera iteración se hacen 3 comparaciones\n",
        "4.   Y así sucesivamente, lo que corresponde a la siguiente sucesion\n",
        "\n",
        "\n",
        "\n",
        "\n",
        "Como podemos ver en el ejemplo anterior la cantidad de comparaciones que hay que hacer en un arreglo completamente desordenado (peor de los casos) se guia por la formula (n*n+n)/2"
      ],
      "metadata": {
        "id": "jAzaQZ8Q9P4f"
      }
    },
    {
      "cell_type": "markdown",
      "source": [
        "# 4. Correctitud\n",
        "\n",
        "El agloritma Insertion Sort Ordena un arreglo de menor a mayor\n",
        "\n",
        "## Prueba del teorema\n",
        "\n",
        "Como hemos podido observar en los ejemplos anteriores al finalizar cada iteración los elementos van quedando ordenados al lado izquierdo\n",
        "\n",
        "**Inicializacion**\n",
        "\n",
        "En la primera iteracion al terminar la primera iteracion i = 1 tendremos i elementos ordenados como veremos a continuacion\n",
        "![imagen.png](data:image/png;base64,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)\n",
        "\n",
        "**Mantención**\n",
        "\n",
        "Aplicando inducción, asumimos que al comienzo de cada iteración i se cumple la propiedad. Es decir, los primeros i elementos del arreglo corresponden a los menores elementos del arreglo original ordenados de menor a mayor.\n",
        "\n",
        "![imagen.png](data:image/png;base64,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)\n",
        "\n",
        "Podemos observar que en la segunda iteracion (i = 2) hay i elementos en rojo, es decir que estan ordenados de menor a mayor\n",
        "\n",
        "De la misma manera en la 7ma iteracion\n",
        "\n",
        "![imagen.png](data:image/png;base64,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)\n",
        "\n",
        "**Correctitud**\n",
        "\n",
        "Finalmente, como la propiedad de bucle invariante es verdadera al inicio del bucle y se mantiene en cada iteracion, podemos decir que al finalizar la n-ésima iteracion del algoritmo, el arreglo se va ordenando de menor a mayor con los mismos elementos de entrada\n"
      ],
      "metadata": {
        "id": "X2d2oFu0Jdfu"
      }
    },
    {
      "cell_type": "code",
      "source": [
        " "
      ],
      "metadata": {
        "id": "Dn8HvmpaJWiS"
      },
      "execution_count": null,
      "outputs": []
    },
    {
      "cell_type": "markdown",
      "source": [
        "# 5. Experimentos\n"
      ],
      "metadata": {
        "id": "E3pvegHuKRLP"
      }
    },
    {
      "cell_type": "markdown",
      "source": [
        "## 5.1 Numero de comparaciones\n",
        "\n",
        "A continuación se mostrarán graficamente las comparacines entre: \n",
        "\n",
        "\n",
        "\n",
        "1.   Cantidad de comparaciones en el peor caso  (n^2+ n / 2)\n",
        "2.   Cantidad de comparaciones en el mejor caso n-1 comparaciones (Arreglo Ordenado)\n",
        "\n",
        "3.   Cantidad de comparaciones en el casos experimentales\n",
        "\n"
      ],
      "metadata": {
        "id": "bDOjG9sNLI-t"
      }
    },
    {
      "cell_type": "code",
      "source": [
        "x = [n for n in range(0,20)]\n",
        "y1 = [ (n*n+n)/2 for n  in range(0,20)] # worse case\n",
        "y2=[n-1 for n in range(0,20)] # best case\n",
        "y = np.zeros(20)\n",
        "for i in range(0,20): \n",
        "  array = randomArray(i)\n",
        "  y[i],a = insertionSort(array,verbose=False,comparaciones = True)\n",
        "\n",
        "plt.plot(x,y)\n",
        "plt.plot(x,y1)\n",
        "plt.plot(x,y2)\n",
        "plt.legend([\"Insertion Sort\", \"theoretical worst case\", \"theoretical best case\"])\n",
        "\n",
        "\n",
        "plt.xlabel('n')\n",
        "plt.ylabel('number of operations')\n",
        "plt.show()\n"
      ],
      "metadata": {
        "colab": {
          "base_uri": "https://localhost:8080/",
          "height": 279
        },
        "id": "Is9xEQeFVxm8",
        "outputId": "93257e2d-1ab6-4acf-ded5-a214f2a7bf29"
      },
      "execution_count": 66,
      "outputs": [
        {
          "output_type": "display_data",
          "data": {
            "text/plain": [
              "<Figure size 432x288 with 1 Axes>"
            ],
            "image/png": "[encoded data removed]"
          },
          "metadata": {
            "needs_background": "light"
          }
        }
      ]
    },
    {
      "cell_type": "markdown",
      "source": [
        "### Analisis de resultados \n",
        "\n",
        "Como se puede apreciar en el grafico, los resultados del Insertion sort como es de esperado se encuentran dentro del rango del mejor caso y el peor caso, al correr las ultimas lineas de codigo podemos ver que a pesar de ser arreglos aleatorios, el grafico demustra que se inclina levemente a los mejores casos (linea verde)"
      ],
      "metadata": {
        "id": "yNXsCb6iiB-U"
      }
    },
    {
      "cell_type": "markdown",
      "source": [
        "## 5.2 Tiempo de Ejecución "
      ],
      "metadata": {
        "id": "74tKRN2ilduK"
      }
    },
    {
      "cell_type": "code",
      "source": [
        "y = np.zeros(500)\n",
        "x = [n for n in range(0,500)]\n",
        "for i in range (0,500):\n",
        "  array = randomArray(i)\n",
        "  start = time.time()\n",
        "  insertionSort(array)\n",
        "  end = time.time()\n",
        "  y[i] = end - start\n",
        "  \n",
        "\n",
        "plt.plot(x,y)\n",
        "plt.legend([\"Time Insertion Sort\"])\n",
        "\n",
        "plt.xlabel('n')\n",
        "plt.ylabel('time in ms')\n",
        "plt.show()\n"
      ],
      "metadata": {
        "colab": {
          "base_uri": "https://localhost:8080/",
          "height": 279
        },
        "id": "OSj2TiIbkdv7",
        "outputId": "2fb89185-d59f-470f-f9b1-e45c62915a76"
      },
      "execution_count": null,
      "outputs": [
        {
          "output_type": "display_data",
          "data": {
            "text/plain": [
              "<Figure size 432x288 with 1 Axes>"
            ],
            "image/png": "[encoded data removed]"
          },
          "metadata": {
            "needs_background": "light"
          }
        }
      ]
    },
    {
      "cell_type": "markdown",
      "source": [
        "### Análisis de resultados\n",
        "\n",
        "Como es de esperarse, en el grafico, mientras mas elementos contiene el arreglo mas se demora ya que tiene que hacer mas comparaciones y cambios dentro del arreglo "
      ],
      "metadata": {
        "id": "swheVErTo3HX"
      }
    }
  ]
}