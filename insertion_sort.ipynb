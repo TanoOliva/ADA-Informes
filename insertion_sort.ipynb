{
  "nbformat": 4,
  "nbformat_minor": 0,
  "metadata": {
    "colab": {
      "name": "insertion_sort.ipynb",
      "provenance": [],
      "collapsed_sections": [],
      "authorship_tag": "ABX9TyP9hHyThcR0sVjf6NFMRSEY",
      "include_colab_link": true
    },
    "kernelspec": {
      "name": "python3",
      "display_name": "Python 3"
    },
    "language_info": {
      "name": "python"
    }
  },
  "cells": [
    {
      "cell_type": "markdown",
      "metadata": {
        "id": "view-in-github",
        "colab_type": "text"
      },
      "source": [
        "<a href=\"https://colab.research.google.com/github/TanoOliva/ADA-Informes/blob/main/insertion_sort.ipynb\" target=\"_parent\"><img src=\"https://colab.research.google.com/assets/colab-badge.svg\" alt=\"Open In Colab\"/></a>"
      ]
    },
    {
      "cell_type": "markdown",
      "source": [
        "# 1. Problema de ordenamiento // Insertion sort\n",
        "\n",
        "**Entrada**: Secuencia de n números $[a_1,a_2,...,a_n]$\n",
        "\n",
        "**Salida**: Permutación ordenada de la secuencia de entrada: $[a_1',a_2',...,a_n']$, de tal manera que $a_1'\\leq a_2' \\leq... \\leq a_n'$.\n"
      ],
      "metadata": {
        "id": "r21uIPTwcf_L"
      }
    },
    {
      "cell_type": "markdown",
      "source": [
        "# 2. Insertion Sort\n"
      ],
      "metadata": {
        "id": "acdJxaOZc2ly"
      }
    },
    {
      "cell_type": "markdown",
      "source": [
        "El siguiente código muestra una implementación del algoritmo **Insertion Sort**."
      ],
      "metadata": {
        "id": "v_Cguf7ZwHMU"
      }
    },
    {
      "cell_type": "markdown",
      "source": [
        "## 2.1 Codigo"
      ],
      "metadata": {
        "id": "xTPgwcYEc3Na"
      }
    },
    {
      "cell_type": "code",
      "source": [
        "import matplotlib.pyplot as plt\n",
        "import time\n",
        "from termcolor import colored\n",
        "import numpy as np\n",
        "import random\n",
        "\n",
        "#Funcion que crea un arreglo aleatorio de tamaño \"n\"\n",
        "\n",
        "def randomArray(n):\n",
        "  array = np.zeros(n)\n",
        "  for i in range (len(array)):\n",
        "    array[i] = int(random.randint(1,100))\n",
        "  return array\n",
        "\n",
        "#Funcion Insertion Sort\n",
        "\n",
        "def insertionSort(array,verbose = False,comparaciones = False):\n",
        "  cont = 0\n",
        "  \n",
        "  for i in range(1,len(array)):\n",
        "    contIteracion = 0\n",
        "    #seccion que imprime y muestra los cambios en caso de ser (verbose == true)\n",
        "    if (verbose == True):\n",
        "      print(\"pasada \",i,\" inicio        \",end = \" \")\n",
        "      for k in range (len(array)):\n",
        "        if (k == i): \n",
        "          print(colored(int(array[k]),\"blue\"),end = \" \")\n",
        "        else:\n",
        "          print(int(array[k]),end = \" \")\n",
        "      print(\"\")\n",
        "\n",
        "\n",
        "    key = array[i]\n",
        "    j = i - 1\n",
        "    while j >= 0 and key < array[j]:\n",
        "      contIteracion = contIteracion + 1\n",
        "      cont = cont + 1\n",
        "      array[j + 1] = array[j]\n",
        "      j = j - 1\n",
        "    array[j + 1] = key\n",
        "\n",
        "\n",
        "    #seccion que imprime y muestra los cambios en caso de ser (verbose == true)\n",
        "    if (verbose == True):\n",
        "      print(\"pasada \",i,\" final         \",end = \" \")\n",
        "      for k in range (len(array)):\n",
        "        if (k < i):\n",
        "          print(colored(int(array[k]),\"red\"),end = \" \")\n",
        "        else: \n",
        "          print(int(array[k]),end = \" \")\n",
        "      print(\"\\nCantidad de comparaciones por ciclo: \",contIteracion,\"\\n\")\n",
        "      \n",
        "  if verbose == True: \n",
        "    print(\"comparaciones Totales: \",cont)  \n",
        "  if comparaciones == True:\n",
        "    return cont"
      ],
      "metadata": {
        "id": "mnnSjAE4YPAB"
      },
      "execution_count": 202,
      "outputs": []
    },
    {
      "cell_type": "code",
      "source": [
        "## EJEMPLO ##\n",
        "\n",
        "array = randomArray(5)\n",
        "print(\"Arreglo de entrada: \",array)\n",
        "comparaciones = insertionSort(array,comparaciones=True)\n",
        "print(\"Arreglo de salida:  \",array)\n",
        "print(\"n° de comparaciones: \",comparaciones)\n",
        "\n"
      ],
      "metadata": {
        "colab": {
          "base_uri": "https://localhost:8080/"
        },
        "id": "d_bKqk9GxDjj",
        "outputId": "a96858cc-cb93-4e1e-c85d-d0106ed3296a"
      },
      "execution_count": 210,
      "outputs": [
        {
          "output_type": "stream",
          "name": "stdout",
          "text": [
            "Arreglo de entrada:  [70. 88. 87.  9. 53.]\n",
            "Arreglo de salida:   [ 9. 53. 70. 87. 88.]\n",
            "n° de comparaciones:  7\n"
          ]
        }
      ]
    },
    {
      "cell_type": "markdown",
      "source": [
        "## 2.2 Descripcion del algoritmo\n",
        "\n",
        "El algoritmo consiste en Ordenar datos dentro de una lista o un arreglo.\n",
        "\n",
        "La forma en que trabaja el algoritmo es que parte desde la posicion 1 del arreglo y la compara con la anterior, y si es menor, se posiciona en la posicion 0.\n",
        "\n",
        "De la misma manera con los siguientes elementos del arreglo, la posicion 2 se compara con los primeros elementos hasta que el elemento sea mayor que el elemento anterior y se posiciona en ese lugar.\n",
        "\n",
        "![image](https://upload.wikimedia.org/wikipedia/commons/9/9c/Insertion-sort-example.gif?20110309111239)\n",
        "\n",
        "\n",
        "Para ejemplificar de mejor manera Utilizaremos el la funcion insertionSort(arreglo,Verbose=True), para poder ver de manera mas grafica los cambios."
      ],
      "metadata": {
        "id": "qY1uUsIoyihS"
      }
    },
    {
      "cell_type": "code",
      "source": [
        "## Color azul = Elemento comparado\n",
        "## Color rojo = elementos ya ordenados\n",
        "arreglo = randomArray(10)\n",
        "insertionSort(arreglo,verbose = True)"
      ],
      "metadata": {
        "colab": {
          "base_uri": "https://localhost:8080/"
        },
        "id": "cz5TtCIua8Uh",
        "outputId": "49f194e6-a7fd-40ac-dea3-929dbba2248b"
      },
      "execution_count": 217,
      "outputs": [
        {
          "output_type": "stream",
          "name": "stdout",
          "text": [
            "pasada  1  inicio         8 \u001b[34m11\u001b[0m 10 38 39 41 50 24 2 73 \n",
            "pasada  1  final          \u001b[31m8\u001b[0m 11 10 38 39 41 50 24 2 73 \n",
            "Cantidad de comparaciones por ciclo:  0 \n",
            "\n",
            "pasada  2  inicio         8 11 \u001b[34m10\u001b[0m 38 39 41 50 24 2 73 \n",
            "pasada  2  final          \u001b[31m8\u001b[0m \u001b[31m10\u001b[0m 11 38 39 41 50 24 2 73 \n",
            "Cantidad de comparaciones por ciclo:  1 \n",
            "\n",
            "pasada  3  inicio         8 10 11 \u001b[34m38\u001b[0m 39 41 50 24 2 73 \n",
            "pasada  3  final          \u001b[31m8\u001b[0m \u001b[31m10\u001b[0m \u001b[31m11\u001b[0m 38 39 41 50 24 2 73 \n",
            "Cantidad de comparaciones por ciclo:  0 \n",
            "\n",
            "pasada  4  inicio         8 10 11 38 \u001b[34m39\u001b[0m 41 50 24 2 73 \n",
            "pasada  4  final          \u001b[31m8\u001b[0m \u001b[31m10\u001b[0m \u001b[31m11\u001b[0m \u001b[31m38\u001b[0m 39 41 50 24 2 73 \n",
            "Cantidad de comparaciones por ciclo:  0 \n",
            "\n",
            "pasada  5  inicio         8 10 11 38 39 \u001b[34m41\u001b[0m 50 24 2 73 \n",
            "pasada  5  final          \u001b[31m8\u001b[0m \u001b[31m10\u001b[0m \u001b[31m11\u001b[0m \u001b[31m38\u001b[0m \u001b[31m39\u001b[0m 41 50 24 2 73 \n",
            "Cantidad de comparaciones por ciclo:  0 \n",
            "\n",
            "pasada  6  inicio         8 10 11 38 39 41 \u001b[34m50\u001b[0m 24 2 73 \n",
            "pasada  6  final          \u001b[31m8\u001b[0m \u001b[31m10\u001b[0m \u001b[31m11\u001b[0m \u001b[31m38\u001b[0m \u001b[31m39\u001b[0m \u001b[31m41\u001b[0m 50 24 2 73 \n",
            "Cantidad de comparaciones por ciclo:  0 \n",
            "\n",
            "pasada  7  inicio         8 10 11 38 39 41 50 \u001b[34m24\u001b[0m 2 73 \n",
            "pasada  7  final          \u001b[31m8\u001b[0m \u001b[31m10\u001b[0m \u001b[31m11\u001b[0m \u001b[31m24\u001b[0m \u001b[31m38\u001b[0m \u001b[31m39\u001b[0m \u001b[31m41\u001b[0m 50 2 73 \n",
            "Cantidad de comparaciones por ciclo:  4 \n",
            "\n",
            "pasada  8  inicio         8 10 11 24 38 39 41 50 \u001b[34m2\u001b[0m 73 \n",
            "pasada  8  final          \u001b[31m2\u001b[0m \u001b[31m8\u001b[0m \u001b[31m10\u001b[0m \u001b[31m11\u001b[0m \u001b[31m24\u001b[0m \u001b[31m38\u001b[0m \u001b[31m39\u001b[0m \u001b[31m41\u001b[0m 50 73 \n",
            "Cantidad de comparaciones por ciclo:  8 \n",
            "\n",
            "pasada  9  inicio         2 8 10 11 24 38 39 41 50 \u001b[34m73\u001b[0m \n",
            "pasada  9  final          \u001b[31m2\u001b[0m \u001b[31m8\u001b[0m \u001b[31m10\u001b[0m \u001b[31m11\u001b[0m \u001b[31m24\u001b[0m \u001b[31m38\u001b[0m \u001b[31m39\u001b[0m \u001b[31m41\u001b[0m \u001b[31m50\u001b[0m 73 \n",
            "Cantidad de comparaciones por ciclo:  0 \n",
            "\n",
            "comparaciones Totales:  13\n"
          ]
        }
      ]
    },
    {
      "cell_type": "markdown",
      "source": [
        ""
      ],
      "metadata": {
        "id": "Ctj6mjzL30L4"
      }
    },
    {
      "cell_type": "markdown",
      "source": [
        "# 3. Tiempo de ejecución\n",
        "**Teorema (Tiempo de ejecucion)**\n",
        "El algoritmo **Insertion Sort** tiene un tiempo de ejecucion de $O(n^2)$ ya que la cantidad de comparaciones que tiene que hacer el algoritmo en el peor de los casos es de $\\sum\\limits_{i=0}^{n-1} i=\\frac{n^2+n}{2}$\n",
        "Como podremos ver en el siguiente ejemplo: \n"
      ],
      "metadata": {
        "id": "TnbioOaAIhVu"
      }
    },
    {
      "cell_type": "code",
      "source": [
        "arreglo = [9,8,7,6,5,4,3,2,1,0]\n",
        "insertionSort(arreglo,verbose = True)"
      ],
      "metadata": {
        "colab": {
          "base_uri": "https://localhost:8080/"
        },
        "id": "QVzWFUtM8jdk",
        "outputId": "2d2880b7-768a-47d8-9904-5a9453fa6b8b"
      },
      "execution_count": 219,
      "outputs": [
        {
          "output_type": "stream",
          "name": "stdout",
          "text": [
            "pasada  1  inicio         9 \u001b[34m8\u001b[0m 7 6 5 4 3 2 1 0 \n",
            "pasada  1  final          \u001b[31m8\u001b[0m 9 7 6 5 4 3 2 1 0 \n",
            "Cantidad de comparaciones por ciclo:  1 \n",
            "\n",
            "pasada  2  inicio         8 9 \u001b[34m7\u001b[0m 6 5 4 3 2 1 0 \n",
            "pasada  2  final          \u001b[31m7\u001b[0m \u001b[31m8\u001b[0m 9 6 5 4 3 2 1 0 \n",
            "Cantidad de comparaciones por ciclo:  2 \n",
            "\n",
            "pasada  3  inicio         7 8 9 \u001b[34m6\u001b[0m 5 4 3 2 1 0 \n",
            "pasada  3  final          \u001b[31m6\u001b[0m \u001b[31m7\u001b[0m \u001b[31m8\u001b[0m 9 5 4 3 2 1 0 \n",
            "Cantidad de comparaciones por ciclo:  3 \n",
            "\n",
            "pasada  4  inicio         6 7 8 9 \u001b[34m5\u001b[0m 4 3 2 1 0 \n",
            "pasada  4  final          \u001b[31m5\u001b[0m \u001b[31m6\u001b[0m \u001b[31m7\u001b[0m \u001b[31m8\u001b[0m 9 4 3 2 1 0 \n",
            "Cantidad de comparaciones por ciclo:  4 \n",
            "\n",
            "pasada  5  inicio         5 6 7 8 9 \u001b[34m4\u001b[0m 3 2 1 0 \n",
            "pasada  5  final          \u001b[31m4\u001b[0m \u001b[31m5\u001b[0m \u001b[31m6\u001b[0m \u001b[31m7\u001b[0m \u001b[31m8\u001b[0m 9 3 2 1 0 \n",
            "Cantidad de comparaciones por ciclo:  5 \n",
            "\n",
            "pasada  6  inicio         4 5 6 7 8 9 \u001b[34m3\u001b[0m 2 1 0 \n",
            "pasada  6  final          \u001b[31m3\u001b[0m \u001b[31m4\u001b[0m \u001b[31m5\u001b[0m \u001b[31m6\u001b[0m \u001b[31m7\u001b[0m \u001b[31m8\u001b[0m 9 2 1 0 \n",
            "Cantidad de comparaciones por ciclo:  6 \n",
            "\n",
            "pasada  7  inicio         3 4 5 6 7 8 9 \u001b[34m2\u001b[0m 1 0 \n",
            "pasada  7  final          \u001b[31m2\u001b[0m \u001b[31m3\u001b[0m \u001b[31m4\u001b[0m \u001b[31m5\u001b[0m \u001b[31m6\u001b[0m \u001b[31m7\u001b[0m \u001b[31m8\u001b[0m 9 1 0 \n",
            "Cantidad de comparaciones por ciclo:  7 \n",
            "\n",
            "pasada  8  inicio         2 3 4 5 6 7 8 9 \u001b[34m1\u001b[0m 0 \n",
            "pasada  8  final          \u001b[31m1\u001b[0m \u001b[31m2\u001b[0m \u001b[31m3\u001b[0m \u001b[31m4\u001b[0m \u001b[31m5\u001b[0m \u001b[31m6\u001b[0m \u001b[31m7\u001b[0m \u001b[31m8\u001b[0m 9 0 \n",
            "Cantidad de comparaciones por ciclo:  8 \n",
            "\n",
            "pasada  9  inicio         1 2 3 4 5 6 7 8 9 \u001b[34m0\u001b[0m \n",
            "pasada  9  final          \u001b[31m0\u001b[0m \u001b[31m1\u001b[0m \u001b[31m2\u001b[0m \u001b[31m3\u001b[0m \u001b[31m4\u001b[0m \u001b[31m5\u001b[0m \u001b[31m6\u001b[0m \u001b[31m7\u001b[0m \u001b[31m8\u001b[0m 9 \n",
            "Cantidad de comparaciones por ciclo:  9 \n",
            "\n",
            "comparaciones Totales:  45\n"
          ]
        }
      ]
    },
    {
      "cell_type": "markdown",
      "source": [
        "Como podemos ver en la el ejemplo anterior:\n",
        "\n",
        "\n",
        "1.   En la primera iteracion se hace solo 1 comparacion\n",
        "2.   En la segunda iteración se hacen 2 comparaciones\n",
        "3.   En la tercera iteración se hacen 3 comparaciones\n",
        "4.   Y así sucesivamente, lo que corresponde a la siguiente sucesion\n",
        "\n",
        "\n",
        "\n",
        "\n",
        "Como podemos ver en el ejemplo anterior la cantidad de comparaciones que hay que hacer en un arreglo completamente desordenado (peor de los casos) se guia por la formula (n*n+n)/2"
      ],
      "metadata": {
        "id": "jAzaQZ8Q9P4f"
      }
    },
    {
      "cell_type": "markdown",
      "source": [
        "# 4. Correctitud\n",
        "\n",
        "El agloritma Insertion Sort Ordena un arreglo de menor a mayor\n",
        "\n",
        "## Prueba del teorema\n",
        "\n",
        "Como hemos podido observar en los ejemplos anteriores al finalizar cada iteración los elementos van quedando ordenados al lado izquierdo\n",
        "\n",
        "**Inicializacion**\n",
        "\n",
        "En la primera iteracion al terminar la primera iteracion i = 1 tendremos i elementos ordenados como veremos a continuacion\n",
        "![imagen.png](data:image/png;base64,iVBORw0KGgoAAAANSUhEUgAAAbIAAAA5CAYAAABTc66zAAAOQklEQVR4Xu1dz2tdxxU+WTfprrEUtzXZuJRgjIqb2A4NJd2IImpDEf0DHtg7E7IJ1UILLVyyCUE7GbTsoohAKKJo01BaEpPUVJgQCm4hGOpISncNXbf395uZO3fOOTP36r373ve8kt+cOzPfOfd8c87Mm/Pc9evX/0f4AAEgAASAABAYKQLPgchGqjkMGwgAASAABAoEQGQwBCAABIAAEBg1AiCyUasPgwcCQAAIAAEQGWwACAABIAAERo0AiGzU6sPggQAQAAJAYJxEdvMe7W+c0M7WAT1dGB1eos3727ROR5HzmrX8wigCEwECQGBkCIDIxAqriOLCY9qf7NInYjlpw1kTUWr/0nkuY7vadqq5P96nya7Ggm7Tj379Dq000P2L/rm/SU++FmB5aZPub6/TBbfpmXbBZM/h7GiHtg5ky8hLm/dpe90egUa+GXo9F+XYb97L8L46BUDf9026tz+h+hF6+bzvNP9hzUE5f4GVjL4JiEyiwjwCnKzQ0dEpra/TQEQmGQjajA+B0oGtHdeO3/2bm9EVunznAa08uUN//tPnReMXfnpAP7n8Mf3lwfv0DSfu+b5wiqQg04pATjNnruLfqu+cyO7Snpj4/FMqcVs9fUxXV1KyMSUpZS+xeC45XtceVe0LLNboeGeLhDxOlOg/Cn2t1AuPihBPFfqLsJGxiQiIrDKgw32iSb0qOaMjR5H2qseNWpwVaYbSY8eQwvK5LdirKnJWJZx8vGLysd+iZ1tZFFYYZP9EZq1YW6t1Hv+wfDXzYuzTZam5quTlXf0NFZXGa2luJQvHt0qHZhSvSo2X0Rj9/gb97Ytqli++RW9Mvk//+M3bdKKeeO7IN+hE4Yjzd2vjRB6BuUPqg8gKG107pp3DVdpO3FZIm492IZLqPzz6iiFTtZ2MS0BMZHlmoCafxqiqPar871vPtpoVjr2CyILq3AhXDzvTKZx8awXpOAJOvjeVDERk9fj8ONUkMl08dOHZiXO9ImScV6j/aURR6TN3Kgu1R9mbldgP8tmMj9wC3RcR2A2q0oklsT3/cBqhaUbOvYvtZ1WOtMhGNMm11kI2NIZkIjMd98XE/XEl9n48dBFd84wY/+HKGKliNxjQ2MGitRUT2eqhGYozqzoP0Wyvn8pTcpa8py9uRct9H6vFGENU9BUiEgv/jvl1OSnpCtQr733x9at6BQwL1tRNZUXulbzyHv38FxmbZZ9TMzpToRWjt2p/yMwUKN+D1h6Zco/Hst/Id9vM2MTtcZVAu4t0HfwRGZ16vntEd4u9znxBW/xBtk9WjWThGvdDZL4NZcdYg+mrkLwkNSPovxfNKV9gbZ/DEFmdmuT3BLz9ex2H/JlaDBayvWWfmSPaP6a1iZNuDEx89ZcPae3yQzouUonVwY8n79IfPvhQBZebSZEJ+8gvhhCnvanIwLW/SCIz56reI6yESx9GqmjUwjjGfzRbAuZ2Dt4/13bjiMwiF0/OOGhs7mYlI+8hMvuF1PYve329rWIMUdHdkERmpga7hoSITKGslKa5HV17JDu5WOyHvU6n5ilF3/+x49EfcqhiEM/hiDQiKw8/yPaaW3vjxjyjU2sRZJhMYmU4J553M03fQRvskbWsPYrI7BWN+4JUqYhA+sB2mJy8Q1T1CqV5PifPvuHyBjGGKH96x16iZ/WlTC2WLyGf2pXukalW1Ir5L0VTtQ159sSKNCNVEZoMtbhorKIy69Rc6h5p4qm7CBKyEYroX7jHzGpCrXs//rERJTu+ETcQE5n1MxD3ZF0T/uZIVKmTDaK94jBA+8Sie+KwXKkYG8l56qWRzx5ppmZyAnNPLnHyiQryrwr7OrnnwScfb4MxR2ScfDl5d59iuk8gkbd/R9PSXyK+iy6e/BugIgL7FT3fAKX4HVmp/OK3ZLHH56e/gaoGoNrjattXyh5V4StUpxZT+3dsv9GB/P1P9x/OHNS/Q1z0N0x0+z3ysYtvBpghEAACQGC8CIgjMpyQGa+SMXIgAASAwCIjACJbZO1ibkAACACBJUBAQGRLgAKmCASAABAAAqNFAEQ2WtVh4EAACAABIJAjACKDHQABIAAEgMCoEQCRjVp9GDwQAAJAAAiMk8jUvyUZiaKdq7bs39tUvyWJLrzZjQF/+/1I8MMwgQAQWEoEQGRitUde9ip+PneF0HBEVg9RfzO6eHJL3vAivffmj6m88jf/fEO/+/SP9P5/pbAk/CAWhTVbJaD0P8hGYU2ppc6qHYhMgnx9Rc2QhTWTy0tIJhJuAyJLx7D9hG/TW6+9Sa9//RFtfvmf4usrL/+MHrz4Fd359O9UlsoMfdy7RLX1sNrPVl9xlHgzSHIZl2IK1cUMKKxZFBhdR2FNy7AFRFbf7IHCmkMV1izfU08BxkpV4dRfH/opOwKRcaQS830ZjdHnH9Lb/67kv/VDOnjtBfrtR58Re3+9pPqDalj6C3+lZYC6htEHkTV3RaKwZuUrlFWqVTYyvsZiIkNhzUy5kZd+BtfbxYW+WdXS1qd9l1ts4c1cLlT4tO4aRDbMC1xEYC9TlU4sie17X04jtGCvPptLiN71OkZhTVs/3BZAQJsx/sOVQWFNL8BiIkNhzWGIrNGKwDmllnlp+lLenj+Me1+yp37nVXp45aVi0g/N6IyFoafCnEU/+mislJnQVRTWLBF0KgGw6jMbxBJZfkkyCmsGoe6HyASFLVFYkzH5IYlMoJ98dPrVuuo1XtrGt1+5Te9c+IreLVKJ1cGPs7/SjS+eyTBJLMxpRdxrx7RTVKWQflBY08IPhTWlhnOu7eKIDIU16ZO+1TQYkckLj4LI+lZq9rxiP+wl+tg8pej7P03XmsKc0zDcUyBT0qkvlRYT2Rl9KSITFNb0lOBBYc2W4UYRGQpr7o6IyOSFR0FkEseubePZEyvSjFRFaMrnKUjAfDIKazZxlf7UHwprKo30/JuLiQyFNV3lyAvridTaGZFxhS+5wptZ79rCp/mAUbxPpDZRoyIC+wF9t2ms+x1ZcmHOxOPzKKyZ7RG2FC1//1FYU/SWJDUSExnqkSXhDGEgAASAABAYCAEQ2UDA4rFAAAgAASBwPgiAyM4HZ/QCBIAAEAACAyEgILKBesZjgQAQAAJAAAj0gACIrAcQ8QggAASAABCYHQIgstlhj56BABAAAkCgBwRAZD2AiEcAASAABIDA7BAYEZEp6nGlFt6ctfzs7GGOe1bof45nMb9Di8cXhVnnV6vLMjI5kVk/qiXSF6cLQ8qXilC8aLMmotT+l8X6VPNU6F/1XDQuEUjHd75vhhm6MC7saJYIiIisXHERHe1s0UF12+ilzXv06me7zd+pk+CJTNFDKpHMWl4xVTQFAvOCwNwS2XkUxp0XJSzpOAREJqu/Y1/DYl7fEi78aKUlTCUYVyRJUheta2DOjqxbvrvHV3bKyXP2wcknXzMUjIjda6wM/IsLZk/oaGWdyppydYHUs2phkl6Ysy6cuEd3m9pqbsTO4W9fo2VH/Lz+A/OvKwsfKgrDOrbTuqIpM4bHWWmTXdHN0RJ8Q+MvqxLcpb3sXze+nH2m4Vu8ILQ/mV7U5MvIdBNZeH59RYR+DPK+b9Gzrex+1Mh7Klls0WDmCPBEJryVvbtwY23EteP0lwuRRGRdL0qrdLsTUXGFJTl5TkucvPu9utR88NLS9u321gWxlQPKHe+ja/s0uZrroShuROW1Y1MnUztn94JZDr+GaGoCcG7n5uRLJ7liRfw+zEP12NaOd2irShfY4+ftj9NPWqTB4cvoL0/61cVXO/Dl7DMN35rEhtJPPfr01KYMB8psbYBLv9nO0WBIBHgii1nFWEQiuNS2iog2TqbOSO7IPCUluNSg9X2EvDU4Tt7zvWBxYHYRJHnvs4w+L2YkkRfmy2pQZUtT2l49pMnus+IG8NL55/9dk1rdK1Omw7NQ2LbqXOnkJYuYfGReQuHm/5SzP14/JZGcRjpAT/9mgUvKy3Ss0qHlXO0xtW+u15VRScJX+G7G62dI9+Y8O8aXnePw0FU8Av0QWbBwI+dIysFLXjaxI3OJLDQ+nyPkiNDEm5P39V3ITyPUsPp8jtCQ8I7VkKEeiIwpzMlGLFr76ADE2w83/yritC69NmWE+uHTm11aZIjMWGhMi13aMiy+QQNi7MeQDUW8kkvD4/QT77zUkiAyNWRjEeCJrCp1ni1HO/YE2qmRIpVRRQFPmz0KQ97jfPokMl9qyUw9WePzEFF7BRxQJyuvWz23e/LgyxGpueKPiciUhVPDjlZmH5Z+NEQ2REQmIIb10yxNK9ok8xCJOWZ2/KmVuxn7ERLZcPo5R1cJIjtHsM+3KwGR1Qch7AhiemqRK9woi8gk5CHaI6k3pZsNe9n4mhe1Jc8pxHEUHnn1npjTZTi11XZURX8r1WEXY9EgTS1qC6eGiYzDv94D4lN3Iv1X0X0zf8FCSqsfXYTUtn+7P0Z/2Xx0/XmWQsLUaFc/0tRqnH7q8WKPjPM0+L4bARGR5eJWaiVPjB0Z+1nWiaaM8PaPaW2DaC/bgJFGZK2TYc2pRffEUzUZs/CjmR7KCexwlbabiLDwbMaJK3d8xeSyfYp1yg715RNry3MWxMp75qAsXBnEv4qamzNl5qk7IZHFF04VOFoO/6B9CfQfmr+AyHynEqeFRT39t041hgxEovuS7L3664HIwu+vBN/Q+y+RD8+vRG84IksvbMk5AHw/awTERDbrgaL/oRCQ76EMNYLFfi7wXWz9YnbzgACIbB60MNMxwNEOCz/wHRZfPB0IEIHIlt4K4GiHNQHgOyy+eDoQAJHBBoAAEAACQGDkCCAiG7kCMXwgAASAwLIjACJbdgvA/IEAEAACI0cARDZyBWL4QAAIAIFlR+D/XSyKWbWVnzUAAAAASUVORK5CYII=)\n",
        "\n",
        "**Mantención**\n",
        "\n",
        "Aplicando inducción, asumimos que al comienzo de cada iteración i se cumple la propiedad. Es decir, los primeros i elementos del arreglo corresponden a los menores elementos del arreglo original ordenados de menor a mayor.\n",
        "\n",
        "![imagen.png](data:image/png;base64,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)\n",
        "\n",
        "Podemos observar que en la segunda iteracion (i = 2) hay i elementos en rojo, es decir que estan ordenados de menor a mayor\n",
        "\n",
        "De la misma manera en la 7ma iteracion\n",
        "\n",
        "![imagen.png](data:image/png;base64,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)\n",
        "\n",
        "**Correctitud**\n",
        "\n",
        "Finalmente, como la propiedad de bucle invariante es verdadera al inicio del bucle y se mantiene en cada iteracion, podemos decir que al finalizar la n-ésima iteracion del algoritmo, el arreglo se va ordenando de menor a mayor con los mismos elementos de entrada\n"
      ],
      "metadata": {
        "id": "X2d2oFu0Jdfu"
      }
    },
    {
      "cell_type": "code",
      "source": [
        " "
      ],
      "metadata": {
        "id": "Dn8HvmpaJWiS"
      },
      "execution_count": null,
      "outputs": []
    },
    {
      "cell_type": "markdown",
      "source": [
        "# 5. Experimentos\n"
      ],
      "metadata": {
        "id": "E3pvegHuKRLP"
      }
    },
    {
      "cell_type": "markdown",
      "source": [
        "## 5.1 Numero de comparaciones\n",
        "\n",
        "A continuación se mostrarán graficamente las comparacines entre: \n",
        "\n",
        "\n",
        "\n",
        "1.   Cantidad de comparaciones en el peor caso  (n^2+ n / 2)\n",
        "2.   Cantidad de comparaciones en el mejor caso n-1 comparaciones (Arreglo Ordenado)\n",
        "\n",
        "3.   Cantidad de comparaciones en el casos experimentales\n",
        "\n"
      ],
      "metadata": {
        "id": "bDOjG9sNLI-t"
      }
    },
    {
      "cell_type": "code",
      "source": [
        "x = [n for n in range(0,20)]\n",
        "y1 = [ (n*n+n)/2 for n  in range(0,20)] # worse case\n",
        "y2=[n-1 for n in range(0,20)] # best case\n",
        "y = np.zeros(20)\n",
        "for i in range(0,20): \n",
        "  array = randomArray(i)\n",
        "  y[i] = insertionSort(array,verbose=False,comparaciones = True)\n",
        "\n",
        "plt.plot(x,y)\n",
        "plt.plot(x,y1)\n",
        "plt.plot(x,y2)\n",
        "plt.legend([\"Insertion Sort\", \"theoretical worst case\", \"theoretical best case\"])\n",
        "\n",
        "\n",
        "plt.xlabel('n')\n",
        "plt.ylabel('number of operations')\n",
        "plt.show()\n"
      ],
      "metadata": {
        "colab": {
          "base_uri": "https://localhost:8080/",
          "height": 279
        },
        "id": "Is9xEQeFVxm8",
        "outputId": "5bbe09f5-a888-4b30-a6ad-5c02a9e2321e"
      },
      "execution_count": 211,
      "outputs": [
        {
          "output_type": "display_data",
          "data": {
            "text/plain": [
              "<Figure size 432x288 with 1 Axes>"
            ],
            "image/png": "[encoded data removed]"
          },
          "metadata": {
            "needs_background": "light"
          }
        }
      ]
    },
    {
      "cell_type": "markdown",
      "source": [
        "### Analisis de resultados \n",
        "\n",
        "Como se puede apreciar en el grafico, los resultados del Insertion sort como es de esperado se encuentran dentro del rango del mejor caso y el peor caso, al correr las ultimas lineas de codigo podemos ver que a pesar de ser arreglos aleatorios, el grafico demustra que se inclina levemente a los mejores casos (linea verde)"
      ],
      "metadata": {
        "id": "yNXsCb6iiB-U"
      }
    },
    {
      "cell_type": "markdown",
      "source": [
        "## 5.2 Tiempo de Ejecución "
      ],
      "metadata": {
        "id": "74tKRN2ilduK"
      }
    },
    {
      "cell_type": "code",
      "source": [
        "y = np.zeros(500)\n",
        "x = [n for n in range(0,500)]\n",
        "for i in range (0,500):\n",
        "  array = randomArray(i)\n",
        "  start = time.time()\n",
        "  insertionSort(array)\n",
        "  end = time.time()\n",
        "  y[i] = end - start\n",
        "  \n",
        "\n",
        "plt.plot(x,y)\n",
        "plt.legend([\"Time Insertion Sort\"])\n",
        "\n",
        "plt.xlabel('n')\n",
        "plt.ylabel('time in ms')\n",
        "plt.show()\n"
      ],
      "metadata": {
        "colab": {
          "base_uri": "https://localhost:8080/",
          "height": 279
        },
        "id": "OSj2TiIbkdv7",
        "outputId": "2fb89185-d59f-470f-f9b1-e45c62915a76"
      },
      "execution_count": 194,
      "outputs": [
        {
          "output_type": "display_data",
          "data": {
            "text/plain": [
              "<Figure size 432x288 with 1 Axes>"
            ],
            "image/png": "[encoded data removed]"
          },
          "metadata": {
            "needs_background": "light"
          }
        }
      ]
    },
    {
      "cell_type": "markdown",
      "source": [
        "### Análisis de resultados\n",
        "\n",
        "Como es de esperarse, en el grafico, mientras mas elementos contiene el arreglo mas se demora ya que tiene que hacer mas comparaciones y cambios dentro del arreglo "
      ],
      "metadata": {
        "id": "swheVErTo3HX"
      }
    }
  ]
}