{
  "nbformat": 4,
  "nbformat_minor": 0,
  "metadata": {
    "colab": {
      "name": "mergeSort.ipynb",
      "provenance": [],
      "collapsed_sections": [],
      "authorship_tag": "ABX9TyMBY/O2RbTqJm3sp0f6eR+J",
      "include_colab_link": true
    },
    "kernelspec": {
      "name": "python3",
      "display_name": "Python 3"
    },
    "language_info": {
      "name": "python"
    }
  },
  "cells": [
    {
      "cell_type": "markdown",
      "metadata": {
        "id": "view-in-github",
        "colab_type": "text"
      },
      "source": [
        "<a href=\"https://colab.research.google.com/github/TanoOliva/ADA-Informes/blob/main/mergeSort.ipynb\" target=\"_parent\"><img src=\"https://colab.research.google.com/assets/colab-badge.svg\" alt=\"Open In Colab\"/></a>"
      ]
    },
    {
      "cell_type": "markdown",
      "source": [
        "# 1.- Problema de Ordenamiento\n",
        "\n",
        "**Entrada**: Secuencia de n números $[a_1,a_2,...,a_n]$\n",
        "\n",
        "**Salida**: Permutación ordenada de la secuencia de entrada: $[a_1',a_2',...,a_n']$, de tal manera que $a_1'\\leq a_2' \\leq... \\leq a_n'$.\n",
        "\n",
        "![image](https://cdn.programiz.com/cdn/farfuture/PRTu8e23Uz212XPrrzN_uqXkVZVY_E0Ta8GZp61-zvw/mtime:1586425911/sites/tutorial2program/files/merge-sort-example_0.png)\n",
        "*(Metodo de ordenamiento MergeSort)*\n",
        "\n",
        "\n",
        "Es la operación de arreglar los elementos en algún orden secuencial de acuerdo a un criterio de \n",
        "ordenamiento.\n",
        "El propósito principal de un ordenamiento es el de facilitar las búsquedas de los miembros del \n",
        "conjunto ordenado.\n",
        "Ordenar un grupo de datos significa mover los datos o sus referencias para que queden en una \n",
        "secuencia por categorías y en forma ascendente o descendente.\n",
        "\n"
      ],
      "metadata": {
        "id": "7haKrcFQU3Y5"
      }
    },
    {
      "cell_type": "markdown",
      "source": [
        "# 2.- MergreSort\n",
        "\n",
        "El siguiente codigo muestra la implementacion del algoritmo\n",
        "\n",
        "\n",
        "\n"
      ],
      "metadata": {
        "id": "REGit9TjVUuU"
      }
    },
    {
      "cell_type": "markdown",
      "source": [
        "## 2.1 Código"
      ],
      "metadata": {
        "id": "FZLQBLlOalDO"
      }
    },
    {
      "cell_type": "code",
      "execution_count": 147,
      "metadata": {
        "colab": {
          "base_uri": "https://localhost:8080/"
        },
        "id": "vNSc5Ds0J4Wt",
        "outputId": "f1bbb1f3-c6cd-4567-ab9d-3497a1ec2ac4"
      },
      "outputs": [
        {
          "output_type": "stream",
          "name": "stdout",
          "text": [
            "[6, 5, 12, 10, 9, 1]\n",
            "[1, 5, 6, 9, 10, 12]\n"
          ]
        }
      ],
      "source": [
        "import matplotlib.pyplot as plt\n",
        "import time\n",
        "from termcolor import colored\n",
        "import numpy as np\n",
        "import random\n",
        "import math\n",
        "\n",
        "\n",
        "\n",
        "def merge(left, right,verbose):\n",
        "  global contComp\n",
        "  if verbose == True:\n",
        "    print(\"\\nMERGE\")\n",
        "  ordenado = []\n",
        "  i, j = 0, 0\n",
        "\n",
        "  while i < len(left) and j < len(right):\n",
        "    contComp = contComp + 1\n",
        "    if left[i] <= right[j]:\n",
        "      ordenado.append(left[i])\n",
        "      i = i + 1\n",
        "    else: \n",
        "      ordenado.append(right[j])\n",
        "      j = j + 1\n",
        "\n",
        "  while i < len(left): \n",
        "    \n",
        "    ordenado.append(left[i])\n",
        "    i = i + 1\n",
        "\n",
        "  while j < len(right):\n",
        "    ordenado.append(right[j])\n",
        "    j = j + 1\n",
        "\n",
        "  return ordenado\n",
        "\n",
        "def mergeSort(arr, verbose = False):\n",
        "  global contRec\n",
        "  if verbose == True:\n",
        "    print(\"Entrada de mergeSort: \",arr)\n",
        "\n",
        "\n",
        "  if len(arr) < 2:\n",
        "    return arr[:]\n",
        "  else:\n",
        "    contRec = contRec + 1\n",
        "    middle = len(arr) // 2\n",
        "    left = mergeSort(arr[:middle],verbose)\n",
        "    right = mergeSort(arr[middle:],verbose)\n",
        "    together = merge(left, right,verbose)\n",
        "    if verbose == True:\n",
        "      print('Subdivision ordenada: ', together,'\\n')\n",
        "    return together\n",
        "\n",
        "contComp = 0\n",
        "contRec = 0\n",
        "\n",
        "\n",
        "array = [6, 5, 12, 10, 9, 1]\n",
        "print(array)\n",
        "array = mergeSort(array)\n",
        "print(array)"
      ]
    },
    {
      "cell_type": "markdown",
      "source": [
        "## 2.2 Descripcion del algoritmo\n",
        "\n",
        "El algoritmo recibe de entrada un arerglo **(array)** con una secuencia de n elementos, con el fin de retornar un arreglo ordenado de mayor a menor.\n",
        "\n",
        "\n",
        "\n",
        "1.   Recibe el arreglo de entrada y lo primero que hace el algoritmo es crear 2 arreglos nuevos, **left** y **right** que guardan el arreglo de entrada divido en 2, parte izquierda y parte derecha como bien dicen los nombres\n",
        "\n",
        "2.   De manera **recursiva** los Subarreglos creados vuelven a ser divididos en **left** y **right** hasta llegar a la condición inicial que es que el arreglo sea de tamaño 1\n",
        "\n",
        "3.   Una vez ya los arreglos **left** y **right** de tamaño 1 entran en la funcion merge y son mezcladas de manera ordenada haciendo las respectivas comparaciones almacenando los valores en un arreglo **ordenado** como es el nombre de nuestro arreglo en este caso.\n",
        "\n",
        "![imagen](https://miro.medium.com/max/1400/0*j6Mv2RSQfW3F9Ouk)\n"
      ],
      "metadata": {
        "id": "Zy_bQMmla4kW"
      }
    },
    {
      "cell_type": "markdown",
      "source": [
        "## 2.3 Ejemplo\n",
        "\n",
        "Entrada de mergeSort:  **[6, 5, 12, 10, 9, 1]**\n",
        "\n",
        "1. Se divide en left:\n",
        "\n",
        "      **[6, 5, 12]**\n",
        "\n",
        "2. Donde es un algoritmo recursivo siemore irá por la izquierda hasta llegar al caso base\n",
        "\n",
        "    ```\n",
        "    left = mergeSort(arr[:middle])\n",
        "    ```\n",
        "\n",
        "     **[6]**\n",
        "\n",
        "3. Donde el arreglo de la izquierda llego a un solo numero sigue por el lado derecho de **left** en el punto 1\n",
        "\n",
        "  **[5, 12]**\n",
        "4. Constantemente está entrando en mergeSort(), por lo que se divide en left y right quedando ambos de tamaño 1\n",
        "\n",
        "  left = **[5]**    y     right = **[12]**\n",
        "\n",
        "5. Ahora Entra en la funcion merge, por lo que compara left y right agregando el valor menor a un nuevo arreglo llamdo **together**\n",
        "\n",
        "  **[5, 12]**\n",
        "\n",
        "6. De la misma manera vuelve a entrar en el merge, vuelve a combinar **left** y **right**\n",
        "\n",
        "  **[5, 6, 12]**\n",
        "7. Recien en este punto el algoritmo divide el arreglo inicial en **right**\n",
        "\n",
        "  **[10, 9, 1]**\n",
        "8. Este Sub arreglo vuelve a entrar en mergeSort(), por lo que se divide en **left** y **right** \n",
        "\n",
        "   **left** = **[10]**\n",
        "   **right** = **[9, 1]**\n",
        "9. Divide el right anterior, en **left** y **right** quedando ambos de tamaño 1\n",
        "\n",
        "  **left** = **[9]**\n",
        "  **right** = **[1]**\n",
        "10. Como son de tamaño 1, entra en la funcion **merge**\n",
        "\n",
        "  **together = [1, 9]**\n",
        "11. De la misma manera con el left y right del paso 8:\n",
        "\n",
        "  **together = [1, 9, 10]**\n",
        "12. Finalmente hace el merge con las dos divisiones del arreglo original\n",
        "\n",
        "  **together = [1, 5, 6, 9, 10, 12]**\n",
        "\n",
        "\n",
        "\n",
        "\n",
        " \n"
      ],
      "metadata": {
        "id": "IV2tiAkoqyBW"
      }
    },
    {
      "cell_type": "markdown",
      "source": [
        "## 2.4 Ejecucion del algoritmo Paso a paso\n",
        "  Usando la opción verbose=True, podemos ver lo que ocurre en cada iteración del algoritmo."
      ],
      "metadata": {
        "id": "BT-rnhYISOAY"
      }
    },
    {
      "cell_type": "code",
      "source": [
        "array = [6, 5, 12, 10, 9, 1]\n",
        "array = mergeSort(array,verbose = True)"
      ],
      "metadata": {
        "colab": {
          "base_uri": "https://localhost:8080/"
        },
        "id": "ocWva28tSNMB",
        "outputId": "d4b8cc7e-e51c-468f-94b8-762a57aa151c"
      },
      "execution_count": 113,
      "outputs": [
        {
          "output_type": "stream",
          "name": "stdout",
          "text": [
            "Entrada de mergeSort:  [6, 5, 12, 10, 9, 1]\n",
            "Entrada de mergeSort:  [6, 5, 12]\n",
            "Entrada de mergeSort:  [6]\n",
            "Entrada de mergeSort:  [5, 12]\n",
            "Entrada de mergeSort:  [5]\n",
            "Entrada de mergeSort:  [12]\n",
            "\n",
            "MERGE\n",
            "Subdivision ordenada:  [5, 12] \n",
            "\n",
            "\n",
            "MERGE\n",
            "Subdivision ordenada:  [5, 6, 12] \n",
            "\n",
            "Entrada de mergeSort:  [10, 9, 1]\n",
            "Entrada de mergeSort:  [10]\n",
            "Entrada de mergeSort:  [9, 1]\n",
            "Entrada de mergeSort:  [9]\n",
            "Entrada de mergeSort:  [1]\n",
            "\n",
            "MERGE\n",
            "Subdivision ordenada:  [1, 9] \n",
            "\n",
            "\n",
            "MERGE\n",
            "Subdivision ordenada:  [1, 9, 10] \n",
            "\n",
            "\n",
            "MERGE\n",
            "Subdivision ordenada:  [1, 5, 6, 9, 10, 12] \n",
            "\n"
          ]
        }
      ]
    },
    {
      "cell_type": "markdown",
      "source": [
        "Como se puede ver en el ejemplo, divide cada uno de los arreglos a la mitad hasta que sean de tamaño 1 para poder hacer el merge"
      ],
      "metadata": {
        "id": "XX-yOIjeTEUo"
      }
    },
    {
      "cell_type": "markdown",
      "source": [
        "# 3.- Tiempo de ejecucion\n",
        "\n",
        "  ## **Teorema tiempo de ejecucion**\n",
        "  El algoritmo mergeSort tiene un tiempo de ejecucion O(log(n)) en su peor caso y en el caso promedio\n",
        "\n",
        "  ## Prueba del Teorema\n",
        "  Como hemos visto en el informe, el mergeSort se basa en el principio **divide y venceras**, por lo que, a pesar de que el algoritmo este medianamente ordenado o muy desordenado tiene que dejar los sub-arreglos de tamaño 1 para despues volver a juntarlos.\n",
        "  ## Ejemplo\n",
        "\n",
        "  "
      ],
      "metadata": {
        "id": "hyi8dSSGVZdT"
      }
    },
    {
      "cell_type": "code",
      "source": [
        "contComp = 0\n",
        "contRec = 0\n",
        "array = [1,2,3,4,5,6,7,8,9,10]\n",
        "print(\"arreglo de entrada: \", array)\n",
        "array = mergeSort(array)\n",
        "\n",
        "print(\"la cantidad de veces que tuvo que volver a juntar el arreglo ordenado es: \",contRec)\n",
        "print(\"la cantidad de las veces que se tuvo que comparar elementos es: \",contComp)\n",
        "\n",
        "contComp = 0\n",
        "contRec = 0\n",
        "array = [10,9,8,7,6,5,4,3,2,1,]\n",
        "print(\"\\n\\narreglo de entrada: \", array)\n",
        "array = mergeSort(array)\n",
        "print(\"la cantidad de veces que tuvo que volver a juntar el arreglo desordenado es: \",contRec)\n",
        "print(\"la cantidad de las veces que se tuvo que comparar elementos es: \",contComp)\n"
      ],
      "metadata": {
        "colab": {
          "base_uri": "https://localhost:8080/"
        },
        "id": "x_Ge4t6fUUMg",
        "outputId": "35ccfb36-99f8-4ece-abc2-3a1713a931ba"
      },
      "execution_count": 157,
      "outputs": [
        {
          "output_type": "stream",
          "name": "stdout",
          "text": [
            "arreglo de entrada:  [1, 2, 3, 4, 5, 6, 7, 8, 9, 10]\n",
            "la cantidad de veces que tuvo que volver a juntar el arreglo ordenado es:  9\n",
            "la cantidad de las veces que se tuvo que comparar elementos es:  15\n",
            "\n",
            "\n",
            "arreglo de entrada:  [10, 9, 8, 7, 6, 5, 4, 3, 2, 1]\n",
            "la cantidad de veces que tuvo que volver a juntar el arreglo desordenado es:  9\n",
            "la cantidad de las veces que se tuvo que comparar elementos es:  19\n"
          ]
        }
      ]
    },
    {
      "cell_type": "markdown",
      "source": [
        "# 4. Correctitud \n",
        "\n",
        "  \n",
        "\n"
      ],
      "metadata": {
        "id": "3VDc-t71VFyo"
      }
    },
    {
      "cell_type": "markdown",
      "source": [
        "# 5.- Experimentos\n"
      ],
      "metadata": {
        "id": "SqJ1HoT3ZfK_"
      }
    },
    {
      "cell_type": "markdown",
      "source": [
        "## 5.1 Codigo insertionSort ()"
      ],
      "metadata": {
        "id": "-HMt9mKWPgho"
      }
    },
    {
      "cell_type": "code",
      "source": [
        "##insertion Sort\n",
        "def insertionSort(array,verbose = False,comparaciones = False):\n",
        "  cont = 0\n",
        "  \n",
        "  for i in range(1,len(array)):\n",
        "    contIteracion = 0\n",
        "    #seccion que imprime y muestra los cambios en caso de ser (verbose == true)\n",
        "    if (verbose == True):\n",
        "      print(\"pasada \",i,\" inicio        \",end = \" \")\n",
        "      for k in range (len(array)):\n",
        "        if (k == i): \n",
        "          print(colored(int(array[k]),\"blue\"),end = \" \")\n",
        "        else:\n",
        "          print(int(array[k]),end = \" \")\n",
        "      print(\"\")\n",
        "\n",
        "\n",
        "    key = array[i]\n",
        "    j = i - 1\n",
        "    while j >= 0 and key < array[j]:\n",
        "      contIteracion = contIteracion + 1\n",
        "      cont = cont + 1\n",
        "      array[j + 1] = array[j]\n",
        "      j = j - 1\n",
        "    array[j + 1] = key\n",
        "\n",
        "\n",
        "    #seccion que imprime y muestra los cambios en caso de ser (verbose == true)\n",
        "    if (verbose == True):\n",
        "      print(\"pasada \",i,\" final         \",end = \" \")\n",
        "      for k in range (len(array)):\n",
        "        if (k < i):\n",
        "          print(colored(int(array[k]),\"red\"),end = \" \")\n",
        "        else: \n",
        "          print(int(array[k]),end = \" \")\n",
        "      print(\"\\nCantidad de comparaciones por ciclo: \",contIteracion,\"\\n\")\n",
        "      \n",
        "  if verbose == True: \n",
        "    print(\"comparaciones Totales: \",cont)  \n",
        "  if comparaciones == True:\n",
        "    return cont"
      ],
      "metadata": {
        "id": "GWSSalooNe8X"
      },
      "execution_count": 91,
      "outputs": []
    },
    {
      "cell_type": "markdown",
      "source": [
        "## Grafico de tiempo (insertionSort v/s mergeSort)"
      ],
      "metadata": {
        "id": "33sFHBQjPnf_"
      }
    },
    {
      "cell_type": "code",
      "source": [
        "def randomArray(n):\n",
        "  array = np.zeros(n)\n",
        "  for i in range (len(array)):\n",
        "    array[i] = int(random.randint(1,500))\n",
        "  return array\n",
        "\n",
        "z = np.zeros(500)\n",
        "y = np.zeros(500)\n",
        "x = [n for n in range(0,500)]\n",
        "for i in range (0,500):\n",
        "  array = randomArray(i)\n",
        "  array1 = array\n",
        "  start = time.time()\n",
        "  array = mergeSort(array)\n",
        "  end = time.time()\n",
        "  y[i] = end - start\n",
        "\n",
        "  start = time.time()\n",
        "  insertionSort(array1)\n",
        "  end = time.time()\n",
        "  z[i] = end - start\n",
        "\n",
        "\n",
        "\n",
        "plt.plot(x,y,z)\n",
        "plt.legend([\"Time mergeSort\",\"Time insertionSort\"])\n",
        "\n",
        "plt.xlabel('n')\n",
        "plt.ylabel('time in s')\n",
        "plt.show()\n",
        "  \n",
        "\n",
        "\n"
      ],
      "metadata": {
        "colab": {
          "base_uri": "https://localhost:8080/",
          "height": 279
        },
        "id": "IeR-QbfFOlBO",
        "outputId": "bf0cd075-2182-4b2a-b06d-3ed31dfcdba3"
      },
      "execution_count": 99,
      "outputs": [
        {
          "output_type": "display_data",
          "data": {
            "text/plain": [
              "<Figure size 432x288 with 1 Axes>"
            ],
            "image/png": "[encoded data removed]"
          },
          "metadata": {
            "needs_background": "light"
          }
        }
      ]
    },
    {
      "cell_type": "markdown",
      "source": [
        "Como se puede ver el tiempo de ejecucion de la funcion mergeSort es mucho menor a InsertionSort, esto se debe a que la complejidad temporal de insertion sort es de O(n^2) y la de mergeSort es de O(n log n), se ve lineal, ya que son muy pocos los arreglos que comparan en el grafico, en cambio si hicieramos arreglos de miles de valores se podria apreciar mejor la curva"
      ],
      "metadata": {
        "id": "kPaMGz51ZhSY"
      }
    },
    {
      "cell_type": "code",
      "source": [
        "\n",
        "\n",
        "x=[n for n in range(5,500)] \n",
        "y1=[n*math.log(2,n) for n in range(5,500)] #peor caso \n",
        "y2=[n*math.log(2,n) for n in range(5,500)] #mejor caso\n",
        "y=[]; \n",
        "\n",
        "for n in range(5,500):\n",
        "  a = random.sample(range(1, 500), n)\n",
        "  a = mergeSort(randomArray(n))\n",
        "\n",
        "\n",
        "plt.plot(x,y1)\n",
        "plt.plot(x,y2)\n",
        "plt.legend([\"Peor caso\", \"Mejor caso\"])\n",
        "\n",
        "plt.xlabel('Tamaño del arreglo')\n",
        "plt.ylabel('numero de operaciones')\n",
        "plt.show()"
      ],
      "metadata": {
        "colab": {
          "base_uri": "https://localhost:8080/",
          "height": 279
        },
        "id": "dTgcCGcJQdwg",
        "outputId": "0b19bc01-3636-4aaa-b38f-8e3ddab80a0e"
      },
      "execution_count": 152,
      "outputs": [
        {
          "output_type": "display_data",
          "data": {
            "text/plain": [
              "<Figure size 432x288 with 1 Axes>"
            ],
            "image/png": "[encoded data removed]"
          },
          "metadata": {
            "needs_background": "light"
          }
        }
      ]
    },
    {
      "cell_type": "markdown",
      "source": [
        "como se puede ver en los resultados del analisis teorico, se deberían demorar lo mismo si comparamos un arreglo ordenado con un arreglo totalmente desordenado"
      ],
      "metadata": {
        "id": "Gz-wQxOqjEmo"
      }
    },
    {
      "cell_type": "code",
      "source": [
        "z = np.zeros(500)\n",
        "y = np.zeros(500)\n",
        "x = [n for n in range(0,500)]\n",
        "for i in range (0,500):\n",
        "  array = randomArray(i)\n",
        "  contComp = 0\n",
        "  array = mergeSort(array)\n",
        "  y[i] = contComp\n",
        "\n",
        "  contComp = 0\n",
        "  array = mergeSort(array)\n",
        "  z[i] = contComp\n",
        "\n",
        "\n",
        "\n",
        "plt.plot(x,y,z)\n",
        "plt.legend([\"caso aleatorio\",\"mejor caso (ordenado)\"])\n",
        "\n",
        "plt.xlabel('n')\n",
        "plt.ylabel('comparaciones')\n",
        "plt.show()\n",
        "  \n"
      ],
      "metadata": {
        "colab": {
          "base_uri": "https://localhost:8080/",
          "height": 282
        },
        "id": "PwVfRB1zWO7V",
        "outputId": "125e11a7-11ef-4e30-b252-abffb357bd6a"
      },
      "execution_count": 151,
      "outputs": [
        {
          "output_type": "display_data",
          "data": {
            "text/plain": [
              "<Figure size 432x288 with 1 Axes>"
            ],
            "image/png": "[encoded data removed]"
          },
          "metadata": {
            "needs_background": "light"
          }
        }
      ]
    },
    {
      "cell_type": "markdown",
      "source": [
        "La cantidad de comparaciones que realiza cuando el arreglo está ordenado es menor a las de el arreglo promedio, sin embargo los casos teoricos es de n log n a pesar de ser el mejor o el peor caso"
      ],
      "metadata": {
        "id": "AOS9sVdhhMUi"
      }
    }
  ]
}