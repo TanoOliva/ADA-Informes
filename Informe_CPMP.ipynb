{
  "nbformat": 4,
  "nbformat_minor": 0,
  "metadata": {
    "colab": {
      "provenance": [],
      "authorship_tag": "ABX9TyOEIT8PGiAiQLTWY21xTUGq",
      "include_colab_link": true
    },
    "kernelspec": {
      "name": "python3",
      "display_name": "Python 3"
    },
    "language_info": {
      "name": "python"
    }
  },
  "cells": [
    {
      "cell_type": "markdown",
      "metadata": {
        "id": "view-in-github",
        "colab_type": "text"
      },
      "source": [
        "<a href=\"https://colab.research.google.com/github/TanoOliva/ADA-Informes/blob/main/Informe_CPMP.ipynb\" target=\"_parent\"><img src=\"https://colab.research.google.com/assets/colab-badge.svg\" alt=\"Open In Colab\"/></a>"
      ]
    },
    {
      "cell_type": "markdown",
      "source": [
        "#1. Descripcion del Problema\n",
        "\n",
        "El Container Pre–Marshalling Problem **(CPMP)** es un problema de **optimización** que se sitúa en \n",
        "los terminal portuario, en el cual se almacenan una cierta cantidad de contenedores. El \n",
        "contexto de la ubicación de los contenedores, está dividido en bloques, y cada uno de estos \n",
        "consiste en varias bahías; y a su vez cada bahía posee un número determinado de pilas de \n",
        "contenedores. En la vida real, los días en los cuales los contenedores están en el puerto se \n",
        "tienen diversas restricciones, las cuales están en directa relación a la estabilidad de las pilas, el \n",
        "peso del contenedor así como el puerto al cual está destinado; lo anterior ha llevado a que se \n",
        "cree una numeración (prioridad) para grupos con el fin de referenciar a los contenedores que \n",
        "compartan los mismos atributos, con el fin de referirse de forma general a un grupo de \n",
        "contendores, para esta investigación la prioridad está dada únicamente por la urgencia que \n",
        "tendrá un contenedor de ser despachado. \n"
      ],
      "metadata": {
        "id": "Z8Hin9e75VCD"
      }
    },
    {
      "cell_type": "markdown",
      "source": [
        "#2. Codigo\n",
        "\n",
        "El siguiente codigo muestra la implementacion de CPMP\n"
      ],
      "metadata": {
        "id": "MV-zPM587w_Y"
      }
    },
    {
      "cell_type": "markdown",
      "source": [
        "#### ESTRUCTURA DEL PROBLEMA class Layout:"
      ],
      "metadata": {
        "id": "w8DzkcFwYoWO"
      }
    },
    {
      "cell_type": "code",
      "execution_count": 8,
      "metadata": {
        "id": "RJWqBl4t5QR_"
      },
      "outputs": [],
      "source": [
        "#ESTRUCTURA DEL PROBLEMA\n",
        "import random \n",
        "\n",
        "class Layout:\n",
        "    def __init__(self, stacks, H):\n",
        "        self.stacks = stacks\n",
        "        self.sorted_elements = [] #for each stack\n",
        "\n",
        "        self.steps = 0\n",
        "        self.moves = []\n",
        "\n",
        "        self.H = H\n",
        "        self.G=max(set().union(*stacks))\n",
        "        self.S=len(stacks)\n",
        "        self.N = 0\n",
        "        \n",
        "        j=0\n",
        "        \n",
        "        for stack in stacks:\n",
        "            self.N += len(stack)\n",
        "            self.sorted_elements.append(compute_sorted_elements(stack))\n",
        "            j += 1\n",
        "    \n",
        "    def __str__(self):\n",
        "      _str = \"\"\n",
        "      for k in range(len(self.stacks)):\n",
        "        _str+= \"stack \"+ str(k)+\": \"+str(self.stacks[k])+\"\\n\"\n",
        "      return _str\n",
        "\n",
        "    def is_valid_move(self, move):\n",
        "      i = move[0]; j=move[1]\n",
        "      if i==j: return False\n",
        "      if len(self.stacks[i]) == 0: return False\n",
        "      if len(self.stacks[j]) == self.H: return False\n",
        "\n",
        "      return True\n",
        "\n",
        "    def move(self,move):\n",
        "        i = move[0]; j=move[1]\n",
        "        \n",
        "        if self.is_valid_move(move)==False: return None\n",
        "\n",
        "               \n",
        "        c = self.stacks[i][-1]\n",
        "\n",
        "        if self.is_sorted(i): \n",
        "          self.sorted_elements[i] -= 1\n",
        "            \n",
        "        if self.is_sorted(j) and self.g(j) >= c:\n",
        "            self.sorted_elements[j] += 1\n",
        "\n",
        "            \n",
        "        self.stacks[i].pop(-1)\n",
        "        self.stacks[j].append(c)\n",
        "        \n",
        "        self.is_sorted(i)\n",
        "        self.is_sorted(j)\n",
        "        self.steps += 1\n",
        "        self.moves.append((i,j))\n",
        "        \n",
        "        return c\n",
        "                       \n",
        "    def is_sorted(self, j):\n",
        "        sorted = len(self.stacks[j]) == self.sorted_elements[j]\n",
        "        return sorted\n",
        "\n",
        "    def g(self, i):\n",
        "        if len(self.stacks[i])==0: return self.G\n",
        "        else: return self.stacks[i][-1]\n",
        "\n",
        "    def bad_placed_elements(self):\n",
        "      return self.N - sum(self.sorted_elements)\n",
        "\n",
        "\n",
        "\n",
        "def compute_sorted_elements(stack):\n",
        "    if len(stack)==0: return 0\n",
        "    sorted_elements=1\n",
        "    while(sorted_elements<len(stack) and stack[sorted_elements] <= stack[sorted_elements-1]):\n",
        "        sorted_elements +=1\n",
        "    \n",
        "    return sorted_elements\n",
        "\n",
        "\n",
        "#Genera unn layout aleatorio\n",
        "def generate_random_layout(S,H,N):\n",
        "    stacks = []\n",
        "    for i in range(S):\n",
        "        stacks.append([])\n",
        "    for j in range(N):\n",
        "        s=random.randint(0,S-1);\n",
        "        while len(stacks[s])==H: s=s=random.randint(0,S-1);\n",
        "        stacks[s].append(random.randint(1,N));\n",
        "    return Layout(stacks,H)  \n"
      ]
    },
    {
      "cell_type": "markdown",
      "source": [
        "### Algoritmo para la resolucion del problema"
      ],
      "metadata": {
        "id": "nXKnqfbNY5tV"
      }
    },
    {
      "cell_type": "code",
      "source": [
        "\n",
        "\n",
        "def greedy_random(lay, step_limit=10,verbose = False):\n",
        "   while lay.steps < step_limit and lay.bad_placed_elements()>0:\n",
        "\n",
        "\n",
        "    if verbose == True and lay.steps == 0:\n",
        "      if lay.bad_placed_elements()==0:\n",
        "        print(\"No hay elementos mal posicionados\")\n",
        "      print(\"entrada: \")\n",
        "      print(lay)\n",
        "\n",
        "    #numeros random\n",
        "    i = random.randrange(0,lay.S)\n",
        "    j = random.randrange(0,lay.S)\n",
        "\n",
        "\n",
        "    #SI EL MOVIMIENTO ES BUENOBUENO O MALOBUENO\n",
        "    if lay.is_sorted(i) and lay.is_sorted(j) and lay.g(i)<=lay.g(j):\n",
        "      lay.move((i,j))\n",
        "      if verbose == True:\n",
        "        print(\"Indices aleatorios: (\",i,\",\",j,\")\")\n",
        "        print(\"El movimientos es bueno-bueno\")\n",
        "        print(lay)\n",
        "        print(\"Elementos mal posicionados: \",lay.bad_placed_elements())\n",
        "\n",
        "    elif not lay.is_sorted(i) and lay.is_sorted(j) and lay.g(i)<=lay.g(j):\n",
        "      lay.move((i,j))\n",
        "      if verbose == True:\n",
        "        print(\"Indices aleatorios: (\",i,\",\",j,\")\")\n",
        "        print(\"El movimientos es malo-bueno\")\n",
        "        print(lay)\n",
        "        print(\"Elementos mal posicionados: \",lay.bad_placed_elements())\n",
        "    else:\n",
        "      if verbose == True: \n",
        "        print(\"Indices aleatorios: (\",i,\",\",j,\")\")\n",
        "        print(\"no se recomienda hacer ese tipo de movimiento\\n\")\n",
        "\n",
        "    if lay.bad_placed_elements()==0:\n",
        "       if (verbose==True): \n",
        "         print(\"No hay mas elementos mal posicionados\")\n",
        "       return True, lay.steps\n",
        "   \n",
        "   return False, lay.steps"
      ],
      "metadata": {
        "id": "dr99JmzcYzvW"
      },
      "execution_count": 46,
      "outputs": []
    },
    {
      "cell_type": "code",
      "source": [
        "lay = generate_random_layout(5,5,7)\n",
        "print(\"entrada: \\n\",lay)\n",
        "greedy_random(lay,10,False)\n",
        "print(\"salida:\\n\",lay)"
      ],
      "metadata": {
        "colab": {
          "base_uri": "https://localhost:8080/"
        },
        "id": "H5p2_k-mZNJN",
        "outputId": "f242b016-3bf8-4eb7-e74b-37465891da67"
      },
      "execution_count": 58,
      "outputs": [
        {
          "output_type": "stream",
          "name": "stdout",
          "text": [
            "entrada: \n",
            " stack 0: [7, 7, 5]\n",
            "stack 1: [2]\n",
            "stack 2: []\n",
            "stack 3: [4]\n",
            "stack 4: [7, 4]\n",
            "\n",
            "salida:\n",
            " stack 0: [7, 7, 5]\n",
            "stack 1: [2]\n",
            "stack 2: []\n",
            "stack 3: [4]\n",
            "stack 4: [7, 4]\n",
            "\n"
          ]
        }
      ]
    },
    {
      "cell_type": "markdown",
      "source": [
        "##2.2 Descripcion del Algoritmo\n",
        "**Entrada**: Un layout (lista de stacks de contenedores) y una altura máxima $H$.\n",
        "\n",
        "**Salida**: **Mínima secuencia de movimientos** que transformen el layout de entrada en un **layout factible**.\n",
        "\n",
        "El algoritmo en ordenar los containers de tal manera que los contenedores con una mayor prioridad puedan quedar con un facil acceso.\n",
        "\n",
        "\n",
        "1. Se asignan indices aleatorios $(i,j)$, para luego utilizar estos indices en los movimientos\n",
        "\n",
        "El aloritmo solo realizará movimientos, bueno-bueno y malo-bueno, esto quiere decir que no moverá containers que estén bien posicionados a una posicion donde queden mal posicionados\n",
        "\n",
        "2. Se comprueba que los movimientos haran movimientos **certeros**\n",
        "\n",
        "3. Se repite el proceso hasta que la cantidad de movimientos maximos se haya excedido o \n",
        "\n"
      ],
      "metadata": {
        "id": "VjTa_QwRkz-y"
      }
    },
    {
      "cell_type": "markdown",
      "source": [
        "##2.3 Ejemplo\n",
        "\n",
        "Entrada:\n",
        "\n",
        "```\n",
        "stack 0: [1]\n",
        "stack 1: [3]\n",
        "stack 2: [3, 3]\n",
        "stack 3: [2, 3]\n",
        "stack 4: [2]\n",
        "```\n",
        "* Se asignan indices Aleatorios\n",
        "\n",
        "\n",
        "```\n",
        "Indices aleatorios: ( 0 , 2 )\n",
        "```\n",
        "* Se comprueba que los indices no hagan movimientos ineficientes\n",
        "* Si es asi, se hacen los movimientos, de no ser así se buscan nuevos \n",
        "\n",
        "\n",
        "\n",
        "```\n",
        "stack 0: []\n",
        "stack 1: [3]\n",
        "stack 2: [3, 3, 1]\n",
        "stack 3: [2, 3]\n",
        "stack 4: [2]\n",
        "```\n",
        "\n",
        "* Se asignan nuevos indices aleatorios: $( 4 , 4 )$ y se comprueba que el movimiento es Bueno-Bueno\n",
        "\n",
        "\n",
        "\n",
        "```\n",
        "stack 0: []\n",
        "stack 1: [3]\n",
        "stack 2: [3, 3, 1]\n",
        "stack 3: [2, 3]\n",
        "stack 4: [2]\n",
        "```\n",
        "\n",
        "* A esta altura de la ejecucion, solo queda 1 elemento mal posicionado, que es el 3 del stack 3\n",
        "* Se asignan nuevos valores aleatorios $( 0 , 1 )$\n",
        "\n",
        "\n",
        "\n",
        "```\n",
        "stack 0: []\n",
        "stack 1: [3]\n",
        "stack 2: [3, 3, 1]\n",
        "stack 3: [2, 3]\n",
        "stack 4: [2]\n",
        "```\n",
        "\n",
        "* Indices aleatorios: ( 2 , 3 ) no se recomienda hacer ese tipo de movimiento\n",
        "\n",
        "* Indices aleatorios: ( 4 , 2 ) no se recomienda hacer ese tipo de movimiento\n",
        "\n",
        "* Indices aleatorios: ( 1 , 2 ) no se recomienda hacer ese tipo de movimiento\n",
        "\n",
        "* Indices aleatorios: ( 3 , 1 )\n",
        "\n",
        "```\n",
        "stack 0: []\n",
        "stack 1: [3, 3]\n",
        "stack 2: [3, 3, 1]\n",
        "stack 3: [2]\n",
        "stack 4: [2]\n",
        "```\n",
        "\n",
        "* En este punto de la ejecucion el layout tiene 0 containers mal posicionados, por lo que retorna True y la cantidad de movimientos que realizó\n",
        "\n"
      ],
      "metadata": {
        "id": "Vh8SDUPawnv7"
      }
    },
    {
      "cell_type": "markdown",
      "source": [
        "## 2.4 Ejemplo (Verbose = True)"
      ],
      "metadata": {
        "id": "Jh2Hs4QAxoUi"
      }
    },
    {
      "cell_type": "code",
      "source": [
        "lay = generate_random_layout(5,5,7)\n",
        "greedy_random(lay,10,True)"
      ],
      "metadata": {
        "colab": {
          "base_uri": "https://localhost:8080/"
        },
        "id": "BDKYik263OnW",
        "outputId": "95e00150-d3e2-48aa-bcb4-cfcdf77fdbef"
      },
      "execution_count": 59,
      "outputs": [
        {
          "output_type": "stream",
          "name": "stdout",
          "text": [
            "entrada: \n",
            "stack 0: []\n",
            "stack 1: []\n",
            "stack 2: [7]\n",
            "stack 3: [1, 3, 5, 1]\n",
            "stack 4: [5, 1]\n",
            "\n",
            "Indices aleatorios: ( 4 , 4 )\n",
            "El movimientos es bueno-bueno\n",
            "stack 0: []\n",
            "stack 1: []\n",
            "stack 2: [7]\n",
            "stack 3: [1, 3, 5, 1]\n",
            "stack 4: [5, 1]\n",
            "\n",
            "Elementos mal posicionados:  3\n",
            "entrada: \n",
            "stack 0: []\n",
            "stack 1: []\n",
            "stack 2: [7]\n",
            "stack 3: [1, 3, 5, 1]\n",
            "stack 4: [5, 1]\n",
            "\n",
            "Indices aleatorios: ( 2 , 1 )\n",
            "El movimientos es bueno-bueno\n",
            "stack 0: []\n",
            "stack 1: [7]\n",
            "stack 2: []\n",
            "stack 3: [1, 3, 5, 1]\n",
            "stack 4: [5, 1]\n",
            "\n",
            "Elementos mal posicionados:  3\n",
            "Indices aleatorios: ( 3 , 2 )\n",
            "El movimientos es malo-bueno\n",
            "stack 0: []\n",
            "stack 1: [7]\n",
            "stack 2: [1]\n",
            "stack 3: [1, 3, 5]\n",
            "stack 4: [5, 1]\n",
            "\n",
            "Elementos mal posicionados:  2\n",
            "Indices aleatorios: ( 0 , 2 )\n",
            "no se recomienda hacer ese tipo de movimiento\n",
            "\n",
            "Indices aleatorios: ( 4 , 0 )\n",
            "El movimientos es bueno-bueno\n",
            "stack 0: [1]\n",
            "stack 1: [7]\n",
            "stack 2: [1]\n",
            "stack 3: [1, 3, 5]\n",
            "stack 4: [5]\n",
            "\n",
            "Elementos mal posicionados:  2\n",
            "Indices aleatorios: ( 3 , 1 )\n",
            "El movimientos es malo-bueno\n",
            "stack 0: [1]\n",
            "stack 1: [7, 5]\n",
            "stack 2: [1]\n",
            "stack 3: [1, 3]\n",
            "stack 4: [5]\n",
            "\n",
            "Elementos mal posicionados:  1\n",
            "Indices aleatorios: ( 3 , 3 )\n",
            "no se recomienda hacer ese tipo de movimiento\n",
            "\n",
            "Indices aleatorios: ( 2 , 1 )\n",
            "El movimientos es bueno-bueno\n",
            "stack 0: [1]\n",
            "stack 1: [7, 5, 1]\n",
            "stack 2: []\n",
            "stack 3: [1, 3]\n",
            "stack 4: [5]\n",
            "\n",
            "Elementos mal posicionados:  1\n",
            "Indices aleatorios: ( 3 , 4 )\n",
            "El movimientos es malo-bueno\n",
            "stack 0: [1]\n",
            "stack 1: [7, 5, 1]\n",
            "stack 2: []\n",
            "stack 3: [1]\n",
            "stack 4: [5, 3]\n",
            "\n",
            "Elementos mal posicionados:  0\n",
            "No hay mas elementos mal posicionados\n"
          ]
        },
        {
          "output_type": "execute_result",
          "data": {
            "text/plain": [
              "(True, 6)"
            ]
          },
          "metadata": {},
          "execution_count": 59
        }
      ]
    },
    {
      "cell_type": "markdown",
      "source": [
        "## 2.5 Fallas del Algoritmo\n",
        "\n",
        "El algoritmo Puede fallar cuando tiene un container de menor prioridad mas arriba, esto se puede solucionar buscando la posicion del container y hacer movimientos para dejarlo en la base algun stack, idealmente el stack con menos altura (para hacer menos movimientos)."
      ],
      "metadata": {
        "id": "EJ3u3NRA3uUf"
      }
    },
    {
      "cell_type": "markdown",
      "source": [
        "# Experimentos"
      ],
      "metadata": {
        "id": "9TJQt9mcDK7G"
      }
    },
    {
      "cell_type": "code",
      "source": [
        "def validate(greedy, S=5,H=5,N=10, step_limit=10, n_problems=100, seed=1234):\n",
        "  random.seed(seed)\n",
        "  solved = 0; total_steps = 0\n",
        "  for i in range(n_problems):\n",
        "    lay = generate_random_layout(S,H,N)\n",
        "    ret, steps = greedy_random(lay, step_limit=step_limit)\n",
        "    if ret: solved+=1\n",
        "    total_steps += steps\n",
        "  return solved, total_steps/n_problems\n",
        "\n",
        "solved, av_steps = validate(greedy_random, S=5,H=5,N=10, step_limit=20, n_problems=100, seed=1234)\n",
        "print(\"instancias resueltas:\", solved, \"/\", 100)\n",
        "print(\"pasos promedio:\", av_steps)"
      ],
      "metadata": {
        "colab": {
          "base_uri": "https://localhost:8080/"
        },
        "id": "a3z81iy2DQHt",
        "outputId": "de56c81b-b40c-41fe-e5c5-51a785a0235d"
      },
      "execution_count": 74,
      "outputs": [
        {
          "output_type": "stream",
          "name": "stdout",
          "text": [
            "instancias resueltas: 66 / 100\n",
            "pasos promedio: 13.73\n"
          ]
        }
      ]
    },
    {
      "cell_type": "code",
      "source": [
        "def greedy_randomProfe(lay, step_limit=10):\n",
        "   while lay.steps < step_limit and lay.bad_placed_elements()>0:\n",
        "    i = random.randrange(0,lay.S)\n",
        "    j = random.randrange(0,lay.S)\n",
        "    lay.move((i,j))\n",
        "\n",
        "   if lay.bad_placed_elements()==0: return True, lay.steps\n",
        "   return False, lay.steps\n",
        "\n",
        "def validate(greedy, S=5,H=5,N=10, step_limit=10, n_problems=100, seed=1234):\n",
        "  random.seed(seed)\n",
        "  solved = 0; total_steps = 0\n",
        "  for i in range(n_problems):\n",
        "    lay = generate_random_layout(S,H,N)\n",
        "    ret, steps = greedy_randomProfe(lay, step_limit=step_limit)\n",
        "    if ret: solved+=1\n",
        "    total_steps += steps\n",
        "  return solved, total_steps/n_problems\n",
        "\n",
        "solved, av_steps = validate(greedy_randomProfe, S=5,H=5,N=10, step_limit=20, n_problems=100, seed=1234)\n",
        "print(\"instancias resueltas:\", solved, \"/\", 100)\n",
        "print(\"pasos promedio:\", av_steps)"
      ],
      "metadata": {
        "colab": {
          "base_uri": "https://localhost:8080/"
        },
        "id": "88IolgOPEoJw",
        "outputId": "1b5bbb9d-b4ce-4683-f96c-6a3e9db7b612"
      },
      "execution_count": 75,
      "outputs": [
        {
          "output_type": "stream",
          "name": "stdout",
          "text": [
            "instancias resueltas: 6 / 100\n",
            "pasos promedio: 19.48\n"
          ]
        }
      ]
    },
    {
      "cell_type": "markdown",
      "source": [
        "El Algoritmo que solo hace movimientos aleatorios tiene una precision de 0.06% ya que alcanza a resolver muy pocos problemas, en cambio cuando ponemos las condicones de solo hacer movimientos buenos/buenos y malos/buenos hace solo movimientos que se acercan a la solucion y no que se alejen de ella.\n"
      ],
      "metadata": {
        "id": "exMsbi5UFXBy"
      }
    },
    {
      "cell_type": "code",
      "source": [
        "def greedy_random2(lay, step_limit=10):\n",
        "   while lay.steps < step_limit and lay.bad_placed_elements()>0:\n",
        "    i = random.randrange(0,lay.S)\n",
        "    j = random.randrange(0,lay.S)\n",
        "    if lay.is_sorted(i) and lay.is_sorted(j) and lay.g(i)<=lay.g(j):\n",
        "      lay.move((i,j))\n",
        "\n",
        "   if lay.bad_placed_elements()==0: return True, lay.steps\n",
        "   return False, lay.steps\n",
        "\n",
        "def validate(greedy, S=5,H=5,N=10, step_limit=10, n_problems=100, seed=1234):\n",
        "  random.seed(seed)\n",
        "  solved = 0; total_steps = 0\n",
        "  for i in range(n_problems):\n",
        "    lay = generate_random_layout(S,H,N)\n",
        "    ret, steps = greedy_random2(lay, step_limit=step_limit)\n",
        "    if ret: solved+=1\n",
        "    total_steps += steps\n",
        "  return solved, total_steps/n_problems\n",
        "\n",
        "solved, av_steps = validate(greedy_random2, S=5,H=5,N=10, step_limit=20, n_problems=100, seed=1234)\n",
        "print(\"instancias resueltas:\", solved, \"/\", 100)\n",
        "print(\"pasos promedio:\", av_steps)"
      ],
      "metadata": {
        "colab": {
          "base_uri": "https://localhost:8080/",
          "height": 408
        },
        "id": "cMSncN0cGKzw",
        "outputId": "8d6d6546-2b0e-4fdd-9e4d-8c8573da24ab"
      },
      "execution_count": 77,
      "outputs": [
        {
          "output_type": "error",
          "ename": "KeyboardInterrupt",
          "evalue": "ignored",
          "traceback": [
            "\u001b[0;31m---------------------------------------------------------------------------\u001b[0m",
            "\u001b[0;31mKeyboardInterrupt\u001b[0m                         Traceback (most recent call last)",
            "\u001b[0;32m<ipython-input-77-83701c25b6a5>\u001b[0m in \u001b[0;36m<module>\u001b[0;34m\u001b[0m\n\u001b[1;32m     19\u001b[0m   \u001b[0;32mreturn\u001b[0m \u001b[0msolved\u001b[0m\u001b[0;34m,\u001b[0m \u001b[0mtotal_steps\u001b[0m\u001b[0;34m/\u001b[0m\u001b[0mn_problems\u001b[0m\u001b[0;34m\u001b[0m\u001b[0;34m\u001b[0m\u001b[0m\n\u001b[1;32m     20\u001b[0m \u001b[0;34m\u001b[0m\u001b[0m\n\u001b[0;32m---> 21\u001b[0;31m \u001b[0msolved\u001b[0m\u001b[0;34m,\u001b[0m \u001b[0mav_steps\u001b[0m \u001b[0;34m=\u001b[0m \u001b[0mvalidate\u001b[0m\u001b[0;34m(\u001b[0m\u001b[0mgreedy_random2\u001b[0m\u001b[0;34m,\u001b[0m \u001b[0mS\u001b[0m\u001b[0;34m=\u001b[0m\u001b[0;36m5\u001b[0m\u001b[0;34m,\u001b[0m\u001b[0mH\u001b[0m\u001b[0;34m=\u001b[0m\u001b[0;36m5\u001b[0m\u001b[0;34m,\u001b[0m\u001b[0mN\u001b[0m\u001b[0;34m=\u001b[0m\u001b[0;36m10\u001b[0m\u001b[0;34m,\u001b[0m \u001b[0mstep_limit\u001b[0m\u001b[0;34m=\u001b[0m\u001b[0;36m20\u001b[0m\u001b[0;34m,\u001b[0m \u001b[0mn_problems\u001b[0m\u001b[0;34m=\u001b[0m\u001b[0;36m100\u001b[0m\u001b[0;34m,\u001b[0m \u001b[0mseed\u001b[0m\u001b[0;34m=\u001b[0m\u001b[0;36m1234\u001b[0m\u001b[0;34m)\u001b[0m\u001b[0;34m\u001b[0m\u001b[0;34m\u001b[0m\u001b[0m\n\u001b[0m\u001b[1;32m     22\u001b[0m \u001b[0mprint\u001b[0m\u001b[0;34m(\u001b[0m\u001b[0;34m\"instancias resueltas:\"\u001b[0m\u001b[0;34m,\u001b[0m \u001b[0msolved\u001b[0m\u001b[0;34m,\u001b[0m \u001b[0;34m\"/\"\u001b[0m\u001b[0;34m,\u001b[0m \u001b[0;36m100\u001b[0m\u001b[0;34m)\u001b[0m\u001b[0;34m\u001b[0m\u001b[0;34m\u001b[0m\u001b[0m\n\u001b[1;32m     23\u001b[0m \u001b[0mprint\u001b[0m\u001b[0;34m(\u001b[0m\u001b[0;34m\"pasos promedio:\"\u001b[0m\u001b[0;34m,\u001b[0m \u001b[0mav_steps\u001b[0m\u001b[0;34m)\u001b[0m\u001b[0;34m\u001b[0m\u001b[0;34m\u001b[0m\u001b[0m\n",
            "\u001b[0;32m<ipython-input-77-83701c25b6a5>\u001b[0m in \u001b[0;36mvalidate\u001b[0;34m(greedy, S, H, N, step_limit, n_problems, seed)\u001b[0m\n\u001b[1;32m     14\u001b[0m   \u001b[0;32mfor\u001b[0m \u001b[0mi\u001b[0m \u001b[0;32min\u001b[0m \u001b[0mrange\u001b[0m\u001b[0;34m(\u001b[0m\u001b[0mn_problems\u001b[0m\u001b[0;34m)\u001b[0m\u001b[0;34m:\u001b[0m\u001b[0;34m\u001b[0m\u001b[0;34m\u001b[0m\u001b[0m\n\u001b[1;32m     15\u001b[0m     \u001b[0mlay\u001b[0m \u001b[0;34m=\u001b[0m \u001b[0mgenerate_random_layout\u001b[0m\u001b[0;34m(\u001b[0m\u001b[0mS\u001b[0m\u001b[0;34m,\u001b[0m\u001b[0mH\u001b[0m\u001b[0;34m,\u001b[0m\u001b[0mN\u001b[0m\u001b[0;34m)\u001b[0m\u001b[0;34m\u001b[0m\u001b[0;34m\u001b[0m\u001b[0m\n\u001b[0;32m---> 16\u001b[0;31m     \u001b[0mret\u001b[0m\u001b[0;34m,\u001b[0m \u001b[0msteps\u001b[0m \u001b[0;34m=\u001b[0m \u001b[0mgreedy_random2\u001b[0m\u001b[0;34m(\u001b[0m\u001b[0mlay\u001b[0m\u001b[0;34m,\u001b[0m \u001b[0mstep_limit\u001b[0m\u001b[0;34m=\u001b[0m\u001b[0mstep_limit\u001b[0m\u001b[0;34m)\u001b[0m\u001b[0;34m\u001b[0m\u001b[0;34m\u001b[0m\u001b[0m\n\u001b[0m\u001b[1;32m     17\u001b[0m     \u001b[0;32mif\u001b[0m \u001b[0mret\u001b[0m\u001b[0;34m:\u001b[0m \u001b[0msolved\u001b[0m\u001b[0;34m+=\u001b[0m\u001b[0;36m1\u001b[0m\u001b[0;34m\u001b[0m\u001b[0;34m\u001b[0m\u001b[0m\n\u001b[1;32m     18\u001b[0m     \u001b[0mtotal_steps\u001b[0m \u001b[0;34m+=\u001b[0m \u001b[0msteps\u001b[0m\u001b[0;34m\u001b[0m\u001b[0;34m\u001b[0m\u001b[0m\n",
            "\u001b[0;32m<ipython-input-77-83701c25b6a5>\u001b[0m in \u001b[0;36mgreedy_random2\u001b[0;34m(lay, step_limit)\u001b[0m\n\u001b[1;32m      1\u001b[0m \u001b[0;32mdef\u001b[0m \u001b[0mgreedy_random2\u001b[0m\u001b[0;34m(\u001b[0m\u001b[0mlay\u001b[0m\u001b[0;34m,\u001b[0m \u001b[0mstep_limit\u001b[0m\u001b[0;34m=\u001b[0m\u001b[0;36m10\u001b[0m\u001b[0;34m)\u001b[0m\u001b[0;34m:\u001b[0m\u001b[0;34m\u001b[0m\u001b[0;34m\u001b[0m\u001b[0m\n\u001b[1;32m      2\u001b[0m    \u001b[0;32mwhile\u001b[0m \u001b[0mlay\u001b[0m\u001b[0;34m.\u001b[0m\u001b[0msteps\u001b[0m \u001b[0;34m<\u001b[0m \u001b[0mstep_limit\u001b[0m \u001b[0;32mand\u001b[0m \u001b[0mlay\u001b[0m\u001b[0;34m.\u001b[0m\u001b[0mbad_placed_elements\u001b[0m\u001b[0;34m(\u001b[0m\u001b[0;34m)\u001b[0m\u001b[0;34m>\u001b[0m\u001b[0;36m0\u001b[0m\u001b[0;34m:\u001b[0m\u001b[0;34m\u001b[0m\u001b[0;34m\u001b[0m\u001b[0m\n\u001b[0;32m----> 3\u001b[0;31m     \u001b[0mi\u001b[0m \u001b[0;34m=\u001b[0m \u001b[0mrandom\u001b[0m\u001b[0;34m.\u001b[0m\u001b[0mrandrange\u001b[0m\u001b[0;34m(\u001b[0m\u001b[0;36m0\u001b[0m\u001b[0;34m,\u001b[0m\u001b[0mlay\u001b[0m\u001b[0;34m.\u001b[0m\u001b[0mS\u001b[0m\u001b[0;34m)\u001b[0m\u001b[0;34m\u001b[0m\u001b[0;34m\u001b[0m\u001b[0m\n\u001b[0m\u001b[1;32m      4\u001b[0m     \u001b[0mj\u001b[0m \u001b[0;34m=\u001b[0m \u001b[0mrandom\u001b[0m\u001b[0;34m.\u001b[0m\u001b[0mrandrange\u001b[0m\u001b[0;34m(\u001b[0m\u001b[0;36m0\u001b[0m\u001b[0;34m,\u001b[0m\u001b[0mlay\u001b[0m\u001b[0;34m.\u001b[0m\u001b[0mS\u001b[0m\u001b[0;34m)\u001b[0m\u001b[0;34m\u001b[0m\u001b[0;34m\u001b[0m\u001b[0m\n\u001b[1;32m      5\u001b[0m     \u001b[0;32mif\u001b[0m \u001b[0mlay\u001b[0m\u001b[0;34m.\u001b[0m\u001b[0mis_sorted\u001b[0m\u001b[0;34m(\u001b[0m\u001b[0mi\u001b[0m\u001b[0;34m)\u001b[0m \u001b[0;32mand\u001b[0m \u001b[0mlay\u001b[0m\u001b[0;34m.\u001b[0m\u001b[0mis_sorted\u001b[0m\u001b[0;34m(\u001b[0m\u001b[0mj\u001b[0m\u001b[0;34m)\u001b[0m \u001b[0;32mand\u001b[0m \u001b[0mlay\u001b[0m\u001b[0;34m.\u001b[0m\u001b[0mg\u001b[0m\u001b[0;34m(\u001b[0m\u001b[0mi\u001b[0m\u001b[0;34m)\u001b[0m\u001b[0;34m<=\u001b[0m\u001b[0mlay\u001b[0m\u001b[0;34m.\u001b[0m\u001b[0mg\u001b[0m\u001b[0;34m(\u001b[0m\u001b[0mj\u001b[0m\u001b[0;34m)\u001b[0m\u001b[0;34m:\u001b[0m\u001b[0;34m\u001b[0m\u001b[0;34m\u001b[0m\u001b[0m\n",
            "\u001b[0;32m/usr/lib/python3.8/random.py\u001b[0m in \u001b[0;36mrandrange\u001b[0;34m(self, start, stop, step, _int)\u001b[0m\n\u001b[1;32m    222\u001b[0m         \u001b[0mwidth\u001b[0m \u001b[0;34m=\u001b[0m \u001b[0mistop\u001b[0m \u001b[0;34m-\u001b[0m \u001b[0mistart\u001b[0m\u001b[0;34m\u001b[0m\u001b[0;34m\u001b[0m\u001b[0m\n\u001b[1;32m    223\u001b[0m         \u001b[0;32mif\u001b[0m \u001b[0mstep\u001b[0m \u001b[0;34m==\u001b[0m \u001b[0;36m1\u001b[0m \u001b[0;32mand\u001b[0m \u001b[0mwidth\u001b[0m \u001b[0;34m>\u001b[0m \u001b[0;36m0\u001b[0m\u001b[0;34m:\u001b[0m\u001b[0;34m\u001b[0m\u001b[0;34m\u001b[0m\u001b[0m\n\u001b[0;32m--> 224\u001b[0;31m             \u001b[0;32mreturn\u001b[0m \u001b[0mistart\u001b[0m \u001b[0;34m+\u001b[0m \u001b[0mself\u001b[0m\u001b[0;34m.\u001b[0m\u001b[0m_randbelow\u001b[0m\u001b[0;34m(\u001b[0m\u001b[0mwidth\u001b[0m\u001b[0;34m)\u001b[0m\u001b[0;34m\u001b[0m\u001b[0;34m\u001b[0m\u001b[0m\n\u001b[0m\u001b[1;32m    225\u001b[0m         \u001b[0;32mif\u001b[0m \u001b[0mstep\u001b[0m \u001b[0;34m==\u001b[0m \u001b[0;36m1\u001b[0m\u001b[0;34m:\u001b[0m\u001b[0;34m\u001b[0m\u001b[0;34m\u001b[0m\u001b[0m\n\u001b[1;32m    226\u001b[0m             \u001b[0;32mraise\u001b[0m \u001b[0mValueError\u001b[0m\u001b[0;34m(\u001b[0m\u001b[0;34m\"empty range for randrange() (%d, %d, %d)\"\u001b[0m \u001b[0;34m%\u001b[0m \u001b[0;34m(\u001b[0m\u001b[0mistart\u001b[0m\u001b[0;34m,\u001b[0m \u001b[0mistop\u001b[0m\u001b[0;34m,\u001b[0m \u001b[0mwidth\u001b[0m\u001b[0;34m)\u001b[0m\u001b[0;34m)\u001b[0m\u001b[0;34m\u001b[0m\u001b[0;34m\u001b[0m\u001b[0m\n",
            "\u001b[0;32m/usr/lib/python3.8/random.py\u001b[0m in \u001b[0;36m_randbelow_with_getrandbits\u001b[0;34m(self, n)\u001b[0m\n\u001b[1;32m    255\u001b[0m         \u001b[0mr\u001b[0m \u001b[0;34m=\u001b[0m \u001b[0mgetrandbits\u001b[0m\u001b[0;34m(\u001b[0m\u001b[0mk\u001b[0m\u001b[0;34m)\u001b[0m          \u001b[0;31m# 0 <= r < 2**k\u001b[0m\u001b[0;34m\u001b[0m\u001b[0;34m\u001b[0m\u001b[0m\n\u001b[1;32m    256\u001b[0m         \u001b[0;32mwhile\u001b[0m \u001b[0mr\u001b[0m \u001b[0;34m>=\u001b[0m \u001b[0mn\u001b[0m\u001b[0;34m:\u001b[0m\u001b[0;34m\u001b[0m\u001b[0;34m\u001b[0m\u001b[0m\n\u001b[0;32m--> 257\u001b[0;31m             \u001b[0mr\u001b[0m \u001b[0;34m=\u001b[0m \u001b[0mgetrandbits\u001b[0m\u001b[0;34m(\u001b[0m\u001b[0mk\u001b[0m\u001b[0;34m)\u001b[0m\u001b[0;34m\u001b[0m\u001b[0;34m\u001b[0m\u001b[0m\n\u001b[0m\u001b[1;32m    258\u001b[0m         \u001b[0;32mreturn\u001b[0m \u001b[0mr\u001b[0m\u001b[0;34m\u001b[0m\u001b[0;34m\u001b[0m\u001b[0m\n\u001b[1;32m    259\u001b[0m \u001b[0;34m\u001b[0m\u001b[0m\n",
            "\u001b[0;31mKeyboardInterrupt\u001b[0m: "
          ]
        }
      ]
    },
    {
      "cell_type": "code",
      "source": [],
      "metadata": {
        "id": "Mxc4dmY_Gyie"
      },
      "execution_count": null,
      "outputs": []
    }
  ]
}