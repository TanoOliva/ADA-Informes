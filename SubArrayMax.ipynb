{
  "nbformat": 4,
  "nbformat_minor": 0,
  "metadata": {
    "colab": {
      "name": "SubArrayMax.ipynb",
      "provenance": [],
      "authorship_tag": "ABX9TyMMSkMi86IL8kViEy7UNm3v",
      "include_colab_link": true
    },
    "kernelspec": {
      "name": "python3",
      "display_name": "Python 3"
    },
    "language_info": {
      "name": "python"
    }
  },
  "cells": [
    {
      "cell_type": "markdown",
      "metadata": {
        "id": "view-in-github",
        "colab_type": "text"
      },
      "source": [
        "<a href=\"https://colab.research.google.com/github/TanoOliva/ADA-Informes/blob/main/SubArrayMax.ipynb\" target=\"_parent\"><img src=\"https://colab.research.google.com/assets/colab-badge.svg\" alt=\"Open In Colab\"/></a>"
      ]
    },
    {
      "cell_type": "markdown",
      "source": [
        "# 1. Problema del Subarray máximo\n",
        "\n",
        "El problema de subarray máximo es el método para encontrar el subarray contiguo dentro de una matriz unidimensional de números que tiene la suma más grande.\n",
        "\n",
        "En el análisis de imágenes, cuando se trata de encontrar el área más brillante de una imagen, se ocupa este algoritmo. La imagen debe de ser un mapa de bits (archivos con extensión .bmp). La imagen se transforma en una matriz en la que cada valor equivale al brillo de cada pixel.\n",
        "\n",
        "Ese es el uso más fácil de entender. Sin embargo no es el único, también en el análisis de las subsecuencias genómicas y en la minería de datos de utiliza este algoritmo. En el ejemplo que ves en esta página se utilizan valores positivos y negativos, en los usos de la vida real que ya te mostramos se utiliza otro rango de valores.\n",
        "\n",
        "\n",
        "\n"
      ],
      "metadata": {
        "id": "guTRMmFDJx0L"
      }
    },
    {
      "cell_type": "markdown",
      "source": [
        "# 2. SubarrayMaximo\n"
      ],
      "metadata": {
        "id": "OLjF1qKFKsWw"
      }
    },
    {
      "cell_type": "markdown",
      "source": [
        "## 2.1 Codigo"
      ],
      "metadata": {
        "id": "yE0XhQdtK2L7"
      }
    },
    {
      "cell_type": "code",
      "execution_count": 75,
      "metadata": {
        "id": "pCckzcd1Jjg7",
        "colab": {
          "base_uri": "https://localhost:8080/"
        },
        "outputId": "1eabb82d-a6fb-4a93-dee1-7863ae448e99"
      },
      "outputs": [
        {
          "output_type": "stream",
          "name": "stdout",
          "text": [
            "using divide and conquer...\n",
            "el indice del inicio  del sub arreglo es:  2\n",
            "el indice del termino del sub arreglo es:  4\n",
            "la suma del subarreglo es:  24\n"
          ]
        }
      ],
      "source": [
        "import matplotlib.pyplot as plt\n",
        "import time\n",
        "from termcolor import colored\n",
        "import numpy as np\n",
        "import random\n",
        "import math\n",
        " \n",
        "# find max crossing subarray in linear time\n",
        "def MaxSubArrayMid(A, low, mid, high):\n",
        "    max_left, max_right = -1, -1\n",
        " \n",
        "    #Parte izquierda del subarreglo\n",
        "    left_sum = float(\"-Inf\")\n",
        "    sum = 0\n",
        "    for i in range(mid, low - 1, -1):\n",
        "        sum += A[i]\n",
        "        if (sum > left_sum):\n",
        "            left_sum = sum\n",
        "            max_left = i\n",
        " \n",
        "    # Parte derecha del Subarreglo\n",
        "    right_sum = float(\"-Inf\")\n",
        "    sum = 0\n",
        "    for j in range(mid + 1, high + 1):\n",
        "        sum += A[j]\n",
        "        if (sum > right_sum):\n",
        "            right_sum = sum\n",
        "            max_right = j\n",
        " \n",
        "    return max_left, max_right, left_sum + right_sum\n",
        " \n",
        "\n",
        "# time complexity: n*logn\n",
        "def MaxSubArray(A, low, high,verbose = False):\n",
        "    if (high == low):\n",
        "        return low, high, A[low]\n",
        "    else:\n",
        "        mid = math.floor((low + high) / 2)\n",
        "        left_low, left_high, left_sum = MaxSubArray(A, low, mid)\n",
        "        if verbose == True:\n",
        "          print(\"subarreglo 1: \",left_low, left_high, left_sum)\n",
        "        right_low, right_high, right_sum = MaxSubArray(A, mid + 1, high)\n",
        "        if verbose == True:\n",
        "          print(\"subarreglo 2: \",right_low, right_high, right_sum)\n",
        "        cross_low, cross_high, cross_sum = MaxSubArrayMid(A, low, mid, high)\n",
        "        if verbose == True:\n",
        "          print(\"subarreglo 3: \",cross_low, cross_high, cross_sum)\n",
        "        if (left_sum >= right_sum and left_sum >= cross_sum):\n",
        "            return left_low, left_high, left_sum\n",
        "        elif (right_sum >= left_sum and right_sum >= cross_sum):\n",
        "            return right_low, right_high, right_sum\n",
        "        else:\n",
        "            return cross_low, cross_high, cross_sum\n",
        " \n",
        "\n",
        "\n",
        "# Kadane’s Algorithm\n",
        "def maxSubArraySum(a, size):\n",
        "    max_so_far = float(\"-inf\")\n",
        "    max_ending_here = 0\n",
        " \n",
        "    for i in range(size):\n",
        "        max_ending_here = max_ending_here + a[i]\n",
        "        if (max_so_far < max_ending_here):\n",
        "            max_so_far = max_ending_here\n",
        " \n",
        "        if max_ending_here < 0:\n",
        "            max_ending_here = 0\n",
        " \n",
        "    return max_so_far\n",
        "\n",
        " \n",
        "# ejemplos\n",
        "A = [-2,-5,17,-2,9,-8,5,-6]\n",
        "# A = [-2, 2, -3, 4, -1, 2, 1, -5, 3]\n",
        "# A = [0,-2, 3, 5, -1, 2]\n",
        "# A = [-9, -2, -3, -5, -3]\n",
        "# A = [1, 2, 3, 4, 5]\n",
        "# A = [-2, -3, 4, -1, -2, 1, 5, -3]\n",
        "\n",
        "print('using divide and conquer...')\n",
        "aindex,bindex,max = MaxSubArray(A, 0, len(A) - 1)\n",
        "print(\"el indice del inicio  del sub arreglo es: \",aindex)\n",
        "print(\"el indice del termino del sub arreglo es: \",bindex)\n",
        "print(\"la suma del subarreglo es: \",max)\n",
        "\n",
        " \n",
        "\n",
        " \n"
      ]
    },
    {
      "cell_type": "markdown",
      "source": [
        "## 2.2 Descripcion del algoritmo\n",
        "\n",
        "El principio para la resolucion del problema consiste en el metodo divide y venceras.\n",
        "Por lo que el problema se divide en subproblemas mas pequeños hasta llegar al caso base de manera recursiva.\n",
        "\n",
        "En este caso del subarreglo maximo, la idea es encontrar el subarreglo mas grande dentro del arreglo A[low .... high], donde mid será la posicion central del arreglo.\n",
        "\n",
        "Luego de encontrar la posicion central se resuelven los subarreglos A[low .... mid] y A[mid + 1 .... high]. Cualquier subconjunto continuo A[i .... j] de A[low .... high] debe ser una de las siguientes tres situaciones:\n",
        "\n",
        "1. Está completamente en el subarreglo A[low....high], por lo que (low <= i <= j <= mid)\n",
        "2. Está completamente ubicado en el subarreglo A[mid+....high], por lo que (mid <= i <= j <= high)\n",
        "3. El punto medio está cruzado, por lo que (low <= i <= mid < j <= high)\n",
        "\n",
        "\n",
        "por lo tanto el subarray maximo debe ser el mas grande de los tres casos anteriores, para el caso 1 y el caso 2, se pueden resolver de manera recursiva y todo lo que queda es encontrar la subarreglo mas grande que abarque el punto medio.\n",
        "Cualquier subarreglo que cruza el punto medio se compone por dos subarreglos A[i ... mid] y A[mid+1 .... j], para encontrar la combinacion maxima dentro de estos dos subarreglos se hace de manera lineal recorriendo el arreglo."
      ],
      "metadata": {
        "id": "21_j5c8UN-MG"
      }
    },
    {
      "cell_type": "markdown",
      "source": [
        "##2.3 Ejemplo:\n",
        "\n",
        "Comprobacion de que el agoritmo MaxSubArrayMid funciona: \n",
        "\n",
        "Entrada: array = [-9,8,-7,10,55,-1,7,-100]\n",
        "Se espera que la suma maxima de 72 y que los indices sean: 1 y 6"
      ],
      "metadata": {
        "id": "rObUUEl0Q0Kx"
      }
    },
    {
      "cell_type": "code",
      "source": [
        "array = [-9,8,-7,10,55,-1,7,-100]\n",
        "aindex,bindex,max = MaxSubArray(array, 0, len(array) - 1)\n",
        "print(\"el indice del inicio  del sub arreglo es: \",aindex)\n",
        "print(\"el indice del termino del sub arreglo es: \",bindex)\n",
        "print(\"la suma del subarreglo es: \",max)\n"
      ],
      "metadata": {
        "colab": {
          "base_uri": "https://localhost:8080/"
        },
        "id": "WZoS_5LhQ3X4",
        "outputId": "3f5b66fc-042d-4954-90a9-fe102c03e649"
      },
      "execution_count": 56,
      "outputs": [
        {
          "output_type": "stream",
          "name": "stdout",
          "text": [
            "el indice del inicio  del sub arreglo es:  1\n",
            "el indice del termino del sub arreglo es:  6\n",
            "la suma del subarreglo es:  72\n"
          ]
        }
      ]
    },
    {
      "cell_type": "markdown",
      "source": [
        "# 3. Tiempo de Ejecucion\n",
        "\n",
        "El algoritmo con el principio Divide y Venceras tiene un tiempo de ejecucion de O(n*log(n))\n",
        "\n",
        "El algoritmo tiene una ecuacion de recurrencia correspondiente a: \n",
        "\n",
        "T(n) = 2T (n/2) + O(n)\n",
        "\n",
        "Ya que hace 2 llamadas recursivas a la funcion de tamaño n/2\n",
        "\n",
        "Al resolver la ecuacion de recurrencia nos da T(n) = n*log(n)\n",
        "\n",
        "\n",
        "\n"
      ],
      "metadata": {
        "id": "I_OE3Gf8kC2g"
      }
    },
    {
      "cell_type": "markdown",
      "source": [
        "# 4. Correctitud\n",
        "\n"
      ],
      "metadata": {
        "id": "4xaWocKRfTM8"
      }
    },
    {
      "cell_type": "markdown",
      "source": [
        "# 5. Experimentos\n",
        "\n"
      ],
      "metadata": {
        "id": "z_BOakQzoGIj"
      }
    },
    {
      "cell_type": "markdown",
      "source": [
        "## 5.1 Graficos\n",
        "\n"
      ],
      "metadata": {
        "id": "JBTwmgh5oLZg"
      }
    },
    {
      "cell_type": "code",
      "source": [
        "#retorna un arreglo con valores entre -20 y 20 de largo n\n",
        "def randomArray(n):\n",
        "  array = np.zeros(n)\n",
        "  for i in range (len(array)):\n",
        "    array[i] = int(random.randint(1,40) - 20)\n",
        "  return array\n",
        "\n",
        "\n",
        "z = np.zeros(500)\n",
        "y = np.zeros(500)\n",
        "\n",
        "x = [n for n in range(0,500)]\n",
        "for i in range (5,500):\n",
        "  array = randomArray(i)\n",
        "  start = time.time()\n",
        "  maxSumKanade = maxSubArraySum(array, len(array))\n",
        "  end = time.time()\n",
        "  y[i] = end - start\n",
        "\n",
        "  start = time.time()\n",
        "  a,b,c = MaxSubArray(array, 0, len(array) - 1)\n",
        "  end = time.time()\n",
        "  z[i] = end - start\n",
        "\n",
        "\n",
        "\n",
        "\n",
        "plt.plot(x,y,z)\n",
        "plt.legend([\"Time kadane\",\"Divide & Conquer\",])\n",
        "\n",
        "plt.xlabel('n')\n",
        "plt.ylabel('time in s')\n",
        "plt.show()\n",
        "  \n",
        "\n",
        "\n",
        "\n",
        "\n",
        "\n",
        "\n"
      ],
      "metadata": {
        "colab": {
          "base_uri": "https://localhost:8080/",
          "height": 279
        },
        "id": "venqsHtco8hZ",
        "outputId": "cb6ecf4e-3911-4c7f-afd6-d2e6e12c26d7"
      },
      "execution_count": 64,
      "outputs": [
        {
          "output_type": "display_data",
          "data": {
            "text/plain": [
              "<Figure size 432x288 with 1 Axes>"
            ],
            "image/png": "[encoded data removed]"
          },
          "metadata": {
            "needs_background": "light"
          }
        }
      ]
    },
    {
      "cell_type": "markdown",
      "source": [
        "El algoritmo con el principio divide y venceras tiene una complejidad de O(n log(n)) y el algoritmo de kedane tiene una complejidad de O(n) ya que el numero de operaciones depende directamente con el tamaño del problema"
      ],
      "metadata": {
        "id": "pUrLRyik5nh6"
      }
    },
    {
      "cell_type": "markdown",
      "source": [
        "## experimento 2"
      ],
      "metadata": {
        "id": "k5MeCqc1XZZd"
      }
    },
    {
      "cell_type": "code",
      "source": [
        "#retorna un arreglo con valores entre -20 y 20 de largo n\n",
        "def randomArray(n):\n",
        "  array = np.zeros(n)\n",
        "  for i in range (len(array)):\n",
        "    array[i] = int(random.randint(1,40) - 20)\n",
        "  return array\n",
        "\n",
        "def MaxSubArrayN2(array):\n",
        "  max = array[0]\n",
        "  for i in range(0,len(array)):\n",
        "    suma = 0\n",
        "    for j in range(i,len(array)):\n",
        "      suma = suma + array[j]\n",
        "      if suma>max:\n",
        "        max = suma\n",
        "  \n",
        "  return max\n",
        "\n",
        "\n",
        "z = np.zeros(500)\n",
        "y = np.zeros(500)\n",
        "w = np.zeros(500)\n",
        "x = [n for n in range(0,500)]\n",
        "for i in range (5,500):\n",
        "  array = randomArray(i)\n",
        "  start = time.time()\n",
        "  max = MaxSubArrayN2(array)\n",
        "  end = time.time()\n",
        "  y[i] = end - start\n",
        "\n",
        "  start = time.time()\n",
        "  a,b,c = MaxSubArray(array, 0, len(array) - 1)\n",
        "  end = time.time()\n",
        "  z[i] = end - start\n",
        "\n",
        "  start = time.time()\n",
        "  maxSumKadane = maxSubArraySum(array, len(array))\n",
        "  end = time.time()\n",
        "  w[i] = end - start\n",
        "\n",
        "\n",
        "plt.plot(x,y,z)\n",
        "plt.plot(x, w)\n",
        "plt.legend([\"O(n^2)\",\"Divide & Conquer\",\"kadane method\"])\n",
        "\n",
        "plt.xlabel('n')\n",
        "plt.ylabel('time in s')\n",
        "plt.show()\n",
        "  "
      ],
      "metadata": {
        "colab": {
          "base_uri": "https://localhost:8080/",
          "height": 279
        },
        "id": "Nq8PhThsUAhk",
        "outputId": "8aa79392-e1c3-4dcd-be96-4894ca9737f4"
      },
      "execution_count": 74,
      "outputs": [
        {
          "output_type": "display_data",
          "data": {
            "text/plain": [
              "<Figure size 432x288 with 1 Axes>"
            ],
            "image/png": "[encoded data removed]"
          },
          "metadata": {
            "needs_background": "light"
          }
        }
      ]
    },
    {
      "cell_type": "markdown",
      "source": [
        "Se puede apreciar en el grafico que el metodo recorriendo el arreglo completo y probando todas las combinaciones es el metodo mas ineficiente, sin embargo es interesante como la curva del metodo D&C en este grafico parece ser insignificante.\n",
        "\n",
        "Comparando este grafico y el anterior el metodo D&C parecia un poco ineficiente, pero al graficar los 3 metodos uno puede apreciar la importancia de implementar un metodo eficiente y que utilice pocos recursos"
      ],
      "metadata": {
        "id": "Z3arugFNXSG6"
      }
    }
  ]
}