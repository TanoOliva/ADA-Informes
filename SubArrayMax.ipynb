{
  "nbformat": 4,
  "nbformat_minor": 0,
  "metadata": {
    "colab": {
      "provenance": [],
      "authorship_tag": "ABX9TyME8X5GudOraHtkoV0cPH+q"
    },
    "kernelspec": {
      "name": "python3",
      "display_name": "Python 3"
    },
    "language_info": {
      "name": "python"
    }
  },
  "cells": [
    {
      "cell_type": "markdown",
      "source": [
        "# 1. Problema del Subarray máximo\n",
        "\n",
        "Este algoritmo tiene como objetivo encontrar la suma máxima en  los subarreglos, que estan contenidos en un arreglo unimensional.\n",
        "\n",
        "Algunas consideraciones son que uno de los subarreglo pueden venir vacíos, de ser así, la suma de estos será: 0 y que los valores que puede tener los subarreglos son contenidos en los números racionales, es decir, puede tener números positivos, negativos o cero.\n",
        "\n",
        "**Entrada**: Secuencia de n números $[a_1,a_2,...,a_n]$\n",
        "\n",
        "**Salida**: Sub-arreglo $[a_i,..,a_j]$, tal que la suma de los elementos es mayor o igual a cualquier otro sub-arreglo, es decir, $\\sum\\limits_{k=i}^j a_k \\geq \\sum\\limits_{k=i'}^{j'} a_k$ , para cualquier par $(i',j')$, con $i' \\leq j'\\leq n$.\n",
        "\n",
        "![image](https://media.geeksforgeeks.org/wp-content/cdn-uploads/kadane-Algorithm.png)\n",
        "\n",
        "##Aplicaciones para el algoritmo\n",
        "\n",
        "* En el análisis de imágenes, cuando se trata de encontrar el área más brillante de una imagen, se ocupa este algoritmo. La imagen debe de ser un mapa de bits (archivos con extensión .bmp). La imagen se transforma en una matriz en la que cada valor equivale al brillo de cada pixel.\n",
        "\n",
        "Ese es el uso más fácil de entender. Sin embargo no es el único, también en el análisis de las subsecuencias genómicas y en la minería de datos de utiliza este algoritmo. En el ejemplo que ves en esta página se utilizan valores positivos y negativos, en los usos de la vida real que ya te mostramos se utiliza otro rango de valores.\n",
        "\n",
        "\n",
        "\n"
      ],
      "metadata": {
        "id": "guTRMmFDJx0L"
      }
    },
    {
      "cell_type": "markdown",
      "source": [
        "# 2. SubarrayMaximo\n"
      ],
      "metadata": {
        "id": "OLjF1qKFKsWw"
      }
    },
    {
      "cell_type": "markdown",
      "source": [
        "## 2.1 Codigo"
      ],
      "metadata": {
        "id": "yE0XhQdtK2L7"
      }
    },
    {
      "cell_type": "code",
      "execution_count": null,
      "metadata": {
        "id": "pCckzcd1Jjg7",
        "colab": {
          "base_uri": "https://localhost:8080/"
        },
        "outputId": "e222423e-9f65-49d8-8044-f5fc9afbeb9a"
      },
      "outputs": [
        {
          "output_type": "stream",
          "name": "stdout",
          "text": [
            "using divide and conquer...\n",
            "el indice del inicio  del sub arreglo es:  2\n",
            "el indice del termino del sub arreglo es:  4\n",
            "la suma del subarreglo es:  24\n"
          ]
        }
      ],
      "source": [
        "import matplotlib.pyplot as plt\n",
        "import time\n",
        "from termcolor import colored\n",
        "import numpy as np\n",
        "import random\n",
        "import math\n",
        " \n",
        "# find max crossing subarray in linear time\n",
        "def MaxSubArrayMid(A, low, mid, high):\n",
        "    max_left, max_right = -1, -1\n",
        " \n",
        "    #Parte izquierda del subarreglo\n",
        "    left_sum = float(\"-Inf\")\n",
        "    sum = 0\n",
        "    for i in range(mid, low - 1, -1):\n",
        "        sum += A[i]\n",
        "        if (sum > left_sum):\n",
        "            left_sum = sum\n",
        "            max_left = i\n",
        " \n",
        "    # Parte derecha del Subarreglo\n",
        "    right_sum = float(\"-Inf\")\n",
        "    sum = 0\n",
        "    for j in range(mid + 1, high + 1):\n",
        "        sum += A[j]\n",
        "        if (sum > right_sum):\n",
        "            right_sum = sum\n",
        "            max_right = j\n",
        " \n",
        "    return max_left, max_right, left_sum + right_sum\n",
        " \n",
        "\n",
        "# time complexity: n*logn\n",
        "def MaxSubArray(A, low, high,verbose = False):\n",
        "    if (high == low):\n",
        "        return low, high, A[low]\n",
        "    else:\n",
        "        mid = math.floor((low + high) / 2)\n",
        "        left_low, left_high, left_sum = MaxSubArray(A, low, mid)\n",
        "        if verbose == True:\n",
        "          print(\"subarreglo 1: \",left_low, left_high, left_sum)\n",
        "        right_low, right_high, right_sum = MaxSubArray(A, mid + 1, high)\n",
        "        if verbose == True:\n",
        "          print(\"subarreglo 2: \",right_low, right_high, right_sum)\n",
        "        cross_low, cross_high, cross_sum = MaxSubArrayMid(A, low, mid, high)\n",
        "        if verbose == True:\n",
        "          print(\"subarreglo 3: \",cross_low, cross_high, cross_sum)\n",
        "        if (left_sum >= right_sum and left_sum >= cross_sum):\n",
        "            return left_low, left_high, left_sum\n",
        "        elif (right_sum >= left_sum and right_sum >= cross_sum):\n",
        "            return right_low, right_high, right_sum\n",
        "        else:\n",
        "            return cross_low, cross_high, cross_sum\n",
        " \n",
        "\n",
        "\n",
        "# Kadane’s Algorithm\n",
        "def maxSubArraySum(a, size):\n",
        "    max_so_far = float(\"-inf\")\n",
        "    max_ending_here = 0\n",
        " \n",
        "    for i in range(size):\n",
        "        max_ending_here = max_ending_here + a[i]\n",
        "        if (max_so_far < max_ending_here):\n",
        "            max_so_far = max_ending_here\n",
        " \n",
        "        if max_ending_here < 0:\n",
        "            max_ending_here = 0\n",
        " \n",
        "    return max_so_far\n",
        "\n",
        " \n",
        "# ejemplos\n",
        "A = [-2,-5,17,-2,9,-8,5,-6]\n",
        "# A = [-2, 2, -3, 4, -1, 2, 1, -5, 3]\n",
        "# A = [0,-2, 3, 5, -1, 2]\n",
        "# A = [-9, -2, -3, -5, -3]\n",
        "# A = [1, 2, 3, 4, 5]\n",
        "# A = [-2, -3, 4, -1, -2, 1, 5, -3]\n",
        "\n",
        "print('using divide and conquer...')\n",
        "aindex,bindex,max = MaxSubArray(A, 0, len(A) - 1)\n",
        "print(\"el indice del inicio  del sub arreglo es: \",aindex)\n",
        "print(\"el indice del termino del sub arreglo es: \",bindex)\n",
        "print(\"la suma del subarreglo es: \",max)"
      ]
    },
    {
      "cell_type": "code",
      "source": [
        "A = [-3,1,-2,2,-1,2]\n",
        "print(\"Arreglo de entrada: \", a)\n",
        "aindex,bindex,max =MaxSubArray(A, 0, len(A)-1)\n",
        "print(\"La suma maxima es: \", max)\n",
        "print(\"El arreglo comienza en la posición\", aindex, \"y termina en la posición\", bindex)\n",
        "\n",
        " "
      ],
      "metadata": {
        "colab": {
          "base_uri": "https://localhost:8080/"
        },
        "id": "rdix0gmhoaKr",
        "outputId": "861e0520-e1a3-4d54-a931-169d320e651a"
      },
      "execution_count": null,
      "outputs": [
        {
          "output_type": "stream",
          "name": "stdout",
          "text": [
            "Arreglo de entrada:  [4, -1, 3, -7]\n",
            "La suma maxima es:  3\n",
            "El arreglo comienza en la posición 3 y termina en la posición 5\n"
          ]
        }
      ]
    },
    {
      "cell_type": "markdown",
      "source": [
        "## 2.2 Descripcion del algoritmo\n",
        "\n",
        "El principio para la resolucion del problema consiste en el metodo divide y venceras.\n",
        "Por lo que el problema se divide en subproblemas mas pequeños hasta llegar al caso base de manera recursiva.\n",
        "\n",
        "En este caso del subarreglo maximo, la idea es encontrar el subarreglo mas grande dentro del arreglo **A[low .... high]**, donde mid será la posicion central del arreglo.\n",
        "\n",
        "Luego de encontrar la posicion central se resuelven los subarreglos **A[low .... mid]** y **A[mid + 1 .... high]**. Cualquier subconjunto continuo **A[i .... j]** de **A[low .... high]** debe ser una de las siguientes tres situaciones:\n",
        "\n",
        "1. Está completamente en el subarreglo **A[low....high]**, por lo que **(low <= i <= j <= mid)**\n",
        "2. Está completamente ubicado en el subarreglo **A[mid+....high]**, por lo que **(mid <= i <= j <= high)**.\n",
        "3. El punto medio está cruzado, por lo que **(low <= i <= mid < j <= high)**.\n",
        "\n",
        "\n",
        "por lo tanto el subarray maximo debe ser el mas grande de los tres casos anteriores, para el caso 1 y el caso 2, se pueden resolver de manera recursiva y todo lo que queda es encontrar la subarreglo mas grande que abarque el punto medio.\n",
        "Cualquier subarreglo que cruza el punto medio se compone por dos subarreglos **A[i ... mid]** y **A[mid+1 .... j]**, para encontrar la combinacion maxima dentro de estos dos subarreglos se hace de manera lineal recorriendo el arreglo."
      ],
      "metadata": {
        "id": "21_j5c8UN-MG"
      }
    },
    {
      "cell_type": "markdown",
      "source": [
        "##2.3 Ejemplo:\n",
        "\n",
        "Para el ejemplo usaremos el arreglo de la implementacion del codigo:\n",
        "* **A = [4,-1,3,-7]**\n",
        "\n",
        "Primero el algoritmo revisa si el arreglo es de largo 1, si no es asi continua la funcion llamandose a si misma para revisar las partes **left** y **right**\n",
        "\n",
        "### Left\n",
        "\n",
        "Para este sub arreglo se llamará a la funcion para el sub arreglo [4,-1], como su largo es mayor a 1 se vuelve a llamar a la funcion y retornará **left = [4]** y **right = [-1]**\n",
        "\n",
        "Luego de llamar dos veces a MaxSubArray para ambos lados, buscaremos el subarreglo que contenga la suma mas grande y que contenga al centro del arreglo\n",
        "\n",
        "Y al recorrer la parte izquierda tenemos [4] y en la pate derecha tenemos [-1] y como esta es nuestra unica opcion, tenemos que la suma mas grande que un subarreglo puede tener incluyendo el centro es **3**.\n",
        "\n",
        "Luego comparamos los tres resultados y al final tenemos que la suma mayor de la parte **left** es **4**\n",
        "\n",
        "### Right\n",
        "\n",
        "Se repite el mismo proceso que con la anterior, llamamos a la función **maxSubArray** para los subarreglos [3] y [-7] y como estos son de largo 1, los retorna.\n",
        "\n",
        "Una vez que terminamos con eso buscamos nuevamente al subarreglo que de la suma más alta y contenga al centro, y nos da que ese sería el [3,-7] con una suma de -4. Luego se comparan los resultados obtenidos y tenemos que la suma mayor es de 3.\n",
        "\n",
        "\n",
        "### Arreglo mayor que incluya el centro\n",
        "\n",
        "Una vez que terminamos de ver las ramas izquierdas y derechas del arreglo pasamos a revisar el arreglo que contenga al centro y de la mayor suma posible.\n",
        "\n",
        "Por lo que revisamos el sub-arreglo izquierdo **a[low : mid] = [4,-1]** guardando su suma mas alta que es **3**.\n",
        "\n",
        "Luego, vemos el derecho **a[mid+1 : high] = [3,-7]**\n",
        "y tenemos que la suma mas alta es **3**. cuando sumamos ambos resultados nos queda que la suma es **6**.\n",
        "\n",
        "### Comparacion Final\n",
        "\n",
        "Ahora que tenemos los resultados y tenemos que: \n",
        "**left = 3**\n",
        "**right = 3**\n",
        "**cross = 6**\n",
        "Retornamos **5** y los indices correspondientes que son **0** y **2** y el sub-arreglo Resultante es:\n",
        "\n",
        "**A = [4,-1,3]**\n",
        "\n"
      ],
      "metadata": {
        "id": "rObUUEl0Q0Kx"
      }
    },
    {
      "cell_type": "markdown",
      "source": [
        "## 2.4 Ejecucion paso a paso (verbose = True)"
      ],
      "metadata": {
        "id": "c2KqnzI1yMFD"
      }
    },
    {
      "cell_type": "code",
      "source": [
        "arr = [4,-1,3,-7]\n",
        "contRecComp = [0,0]\n",
        "maxSubArray(arr,contRecComp, verbose = True)"
      ],
      "metadata": {
        "colab": {
          "base_uri": "https://localhost:8080/"
        },
        "id": "WZoS_5LhQ3X4",
        "outputId": "a93961b9-aebe-471f-c4cd-66ee41f80476"
      },
      "execution_count": null,
      "outputs": [
        {
          "output_type": "stream",
          "name": "stdout",
          "text": [
            "SubArreglo Izquierdo:  [4, -1]\n",
            "SubArreglo Derecho:  [3, -7] \n",
            "\n",
            "SubArreglo Izquierdo:  [4]\n",
            "SubArreglo Derecho:  [-1] \n",
            "\n",
            "Maximo Subarreglo que pasa por el medio:  [4, -1]\n",
            "SubArreglo Izquierdo:  [3]\n",
            "SubArreglo Derecho:  [-7] \n",
            "\n",
            "Maximo Subarreglo que pasa por el medio:  [3, -7]\n",
            "Maximo Subarreglo que pasa por el medio:  [4, -1, 3]\n"
          ]
        },
        {
          "output_type": "execute_result",
          "data": {
            "text/plain": [
              "(6, 0, 3)"
            ]
          },
          "metadata": {},
          "execution_count": 21
        }
      ]
    },
    {
      "cell_type": "markdown",
      "source": [
        "# 3. Tiempo de Ejecucion\n",
        "\n",
        "Estudiaremos y analizaremos el tiempo de ejecución del algoritmo MaxSubArray.\n",
        "Como siempre, trabajaremos con un arreglo inicial de largo **n**. que tiene una complejidad de $O(n \\log{n})$, para probar esto \n",
        "\n",
        "## Funcion de Recurrencia\n",
        "\n",
        "La implementación de este algoritmo está basada en la **recursión**, por lo que para estudiar su tiempo de ejecución primero definiremos una **función de recurrencia** $T(n)$ donde $n$ es el tamaño del problema.\n",
        "\n",
        "El **caso base** de este algoritmo corresponde a un sub-arreglo de tamaño $1$, y el algoritmo retorna este mismo sub-arreglo por lo que diremos que $T(1) = O(1)$, es decir, su tiempo de ejecución es **constante**.\n",
        "\n",
        "En caso contrario cuando $n > 1$, el algoritmo ejecuta las siguientes operaciones:\n",
        "\n",
        "\n",
        "*   Dividir el arreglo en $2$ y llamar recursivamente a la función 2 veces con estos sub-arreglos, es decir, $2 \\cdot T(\\frac{n}{2})$.\n",
        "*   Se llama al algoritmo ***MaxSubArrayMid*** para encontrar el sub-arreglo máximo que contenga el elemento central del arreglo principal. Su implementación tiene **complejidad lineal** $O(n)$.\n",
        "\n",
        "A partir de esto podemos establecer la **función de recurrencia** para el algoritmo MaxSubArray:\n",
        "\n",
        "![Image](https://algoparc.ics.hawaii.edu/~nodari/teaching/s15/Notes/Topic-07/recurrence-merge-subarray.jpg)\n",
        "\n",
        "\n",
        "## Teorema Maestro\n",
        "\n",
        "Ahora que tenemos la función de recurrencia del algoritmo, podemos aplicar el **Teorema Maestro** para resolverla y así obtener una cota asintótica, ya que esta función cumple con la condición de ser de la forma: $T(n) \\leq aT(n/b) + O(n^d)$.\n",
        "\n",
        "Para aplicar este teorema, primero debemos identificar los parámetros $a, b$ y $d$ en nuestra función:\n",
        "\n",
        "$T(n) = {2}T(n/{2}) + O(n^{{1}})$\n",
        "\n",
        "Observando la función es fácil darse cuenta que estos corresponden a: $a = 2, b = 2 \\ \\text{y} \\ d = 1$.\n",
        "\n",
        "Ahora que tenemos los parámetros, debemos fijarnos en el teorema y ver el caso al que corresponde nuestra recurrencia:\n",
        "\n",
        "$ T(n) = \\begin{cases} \n",
        "      {O(n^d \\log{n})} & \\text{si }{a = b^d} \\text{ [caso 1]} \\\\\n",
        "      O(n^d) & \\text{si } a < b^d \\text{ [caso 2]} \\\\\n",
        "      O(n^{\\log_b{a}}) & \\text{si } a > b^d \\text{ [caso 3]} \n",
        "   \\end{cases}\n",
        "$\n",
        "\n",
        "Como podemos ver, la función **cumple con el caso 1 del teorema maestro**, por lo que reemplazamos los parámetros y obtenemos que el **tiempo de ejecución de nuestro algoritmo corresponde a** $O(n \\log{n})$.\n",
        "\n",
        "\n",
        "\n",
        "\n"
      ],
      "metadata": {
        "id": "I_OE3Gf8kC2g"
      }
    },
    {
      "cell_type": "markdown",
      "source": [
        "# 4. Correctitud\n",
        "\n",
        "***Teorema 1: Correctitud Función maxSubArray***\n",
        "\n",
        "\n",
        "\n",
        "* La función maxSubArray recibe por entrada un arreglo de n elementos y devuelve el máximo subarreglo dentro de este.\n",
        "\n",
        "\n",
        "\n",
        "***Teorema 2: Correctitud Función MaxCrossSubArray.***\n",
        "\n",
        "\n",
        "\n",
        "* La funcion MaxCrossSubArray recibe dos subarreglos Left y Right y entrega tanto el máximo subarreglo que este entre estos dos como la suma que genera.\n",
        "\n",
        "\n",
        "**Prueba del teorema 1** \n",
        "\n",
        "Para probar el teorema 1 usaremos inducción.\n",
        "\n",
        "* **Caso base** : El arreglo tiene solo 1 elemento, el algoritmo retornará el unico elemento que se encuentra, al ser un elemento corresponde es la máxima suma que se puede generar.\n",
        "\n",
        "* **Caso promedio ( n > 1)**: Se asume que el la función maxSubArray funcionará correctamente cuando exista más de un elemento en el arreglo, m < n.\n",
        "\n",
        "  La funcion maxSubArray separará el arreglo de entrada en dos Subarreglo Right y Left de tamaño (n/2), volvera a procesar cada uno de estos subarreglos y dado que asumimos que la función sera correcta para cualquier m < n, estos subarreglos se procesaran correctamente.\n",
        "\n",
        " Para finalizar utilizando el teorema 3, asumimos que la funcion MaxCrossSubArray funcionará correctamente y por ende nos entregará el máximo subarray que contiene el elemento medio.\n",
        "\n",
        "\n",
        "\n",
        " **Prueba del teorema 2**\n",
        "\n",
        "***Propiedad invariante de bucle***\n",
        "\n",
        "Al inicio de cada iteracion nuestras variable maxLeft y maxRight contendrán la máxima suma de cada subarreglo.\n",
        "\n",
        "* **Inicialización:** Al final de la primera iteración (i = 0), el elemento en la posición m - 0 es la suma máxima, y como el subarreglo debe tener al menos un elemento, se cumple la propiedad.\n",
        "\n",
        "\n",
        "* **Mantención:** Aplicando inducción, se puede asumir que al comienzo de cada iteración, s es la suma máxima hasta la posición anterior a i. Para mantener la propiedad, los elementos entre m y m ± i se suman y luego se comparan el valor de s. Si el valor de la nueva suma es mayor a s, su valor se actualiza y se seguirá cumpliendo la propiedad invariante.\n",
        "\n",
        "* **Correctitud:** La propiedad invariante es verdadera al inicio del bucle y se mantiene en cada iteración. Por lo tanto, se puede decir que al finalizar el algoritmo, el resultado será un subarreglo con la suma máxima desde la posición m hasta m ± n/2.\n",
        "\n",
        "\n",
        "\n"
      ],
      "metadata": {
        "id": "4xaWocKRfTM8"
      }
    },
    {
      "cell_type": "markdown",
      "source": [
        "# 5. Experimentos\n",
        "\n"
      ],
      "metadata": {
        "id": "z_BOakQzoGIj"
      }
    },
    {
      "cell_type": "code",
      "source": [
        "## Kadane\n",
        "\n",
        "from sys import maxsize\n",
        "def kadane(a,size):\n",
        "  \n",
        "  max_so_far = -maxsize - 1\n",
        "  max_ending_here = 0\n",
        "  start = 0\n",
        "  end = 0\n",
        "  s = 0\n",
        "  \n",
        "  for i in range(0,size):\n",
        "  \n",
        "    max_ending_here += a[i]\n",
        "  \n",
        "    if max_so_far < max_ending_here:\n",
        "        max_so_far = max_ending_here\n",
        "        start = s\n",
        "        end = i\n",
        "  \n",
        "    if max_ending_here < 0:\n",
        "        max_ending_here = 0\n",
        "        s = i+1\n",
        "\n",
        "  return max_so_far"
      ],
      "metadata": {
        "id": "vMunzLHQnNlQ"
      },
      "execution_count": null,
      "outputs": []
    },
    {
      "cell_type": "markdown",
      "source": [
        "## 5.1 Graficos\n",
        "\n"
      ],
      "metadata": {
        "id": "JBTwmgh5oLZg"
      }
    },
    {
      "cell_type": "code",
      "source": [
        "\n",
        "\n",
        "import matplotlib.pyplot as plt\n",
        "import datetime\n",
        "from timeit import repeat\n",
        "import random\n",
        "from termcolor import colored\n",
        "import copy\n",
        "\n",
        "#retorna un arreglo con valores entre -20 y 20 de largo n\n",
        "def randomArray(n):\n",
        "  array = np.zeros(n)\n",
        "  for i in range (len(array)):\n",
        "    array[i] = int(random.randint(1,40) - 20)\n",
        "  return array\n",
        "\n",
        "\n",
        "\n",
        "x=[]; y=[]\n",
        "y1=[]\n",
        "\n",
        "for n in range(5,500):\n",
        "\n",
        "  a = random.sample(range(1, 1000), n)\n",
        "  size = len(a)\n",
        "  contador =[0,0]\n",
        "  verbose = False\n",
        "  #la función repeat está ejecutando 20 veces insertion_Sort con el arreglo a y retorna el mejor tiepo obtenido.\n",
        "  t1 = repeat(setup=\"from __main__ import Kadane\", stmt=f\"Kadane({a},{size})\", repeat=1, number=10)\n",
        "  t2 = repeat(setup=\"from __main__ import maxSubArray\", stmt=f\"maxSubArray({a},{contador},{verbose})\", repeat=1, number=10)\n",
        "  x.append(n)\n",
        "  y.append(t1)\n",
        "  y1.append(t2)\n",
        "\n",
        "\n",
        "maxSubArray(a, contador,verbose = False)\n",
        "\n",
        "plt.plot(x, y)\n",
        "plt.plot(x, y1)\n",
        "plt.legend([\"kadane \", \"MaxSubArray\"])\n",
        "\n",
        "plt.xlabel('Tamaño del arreglo')\n",
        "plt.ylabel('Tiempo en ms')\n",
        "plt.show()\n",
        "z = np.zeros(500)\n",
        "y = np.zeros(500)\n",
        "\n",
        "\n",
        "\n",
        "\n",
        "x = [n for n in range(0,500)]\n",
        "for i in range (5,500):\n",
        "  array = randomArray(i)\n",
        "  start = time.time()\n",
        "  maxSumKanade = kadane(array, len(array))\n",
        "  end = time.time()\n",
        "  y[i] = end - start\n",
        "\n",
        "  start = time.time()\n",
        "  contRecComp = [0,0]\n",
        "  sumMac,indexA,indexB = maxSubArray(array, contRecComp)\n",
        "  end = time.time()\n",
        "  z[i] = end - start\n",
        "\n",
        "\n",
        "\n",
        "\n",
        "plt.plot(x,y,z)\n",
        "plt.legend([\"Time kadane\",\"Divide & Conquer\",])\n",
        "\n",
        "plt.xlabel('n')\n",
        "plt.ylabel('time in s')\n",
        "plt.show()\n",
        "  \n",
        "\n",
        "\n",
        "\n",
        "\n",
        "\n"
      ],
      "metadata": {
        "colab": {
          "base_uri": "https://localhost:8080/",
          "height": 443
        },
        "id": "venqsHtco8hZ",
        "outputId": "8a49d630-1e9e-4564-ba52-2da9168151ab"
      },
      "execution_count": null,
      "outputs": [
        {
          "output_type": "error",
          "ename": "ImportError",
          "evalue": "ignored",
          "traceback": [
            "\u001b[0;31m---------------------------------------------------------------------------\u001b[0m",
            "\u001b[0;31mImportError\u001b[0m                               Traceback (most recent call last)",
            "\u001b[0;32m<ipython-input-37-93f925707a00>\u001b[0m in \u001b[0;36m<module>\u001b[0;34m\u001b[0m\n\u001b[1;32m     25\u001b[0m   \u001b[0mverbose\u001b[0m \u001b[0;34m=\u001b[0m \u001b[0;32mFalse\u001b[0m\u001b[0;34m\u001b[0m\u001b[0;34m\u001b[0m\u001b[0m\n\u001b[1;32m     26\u001b[0m   \u001b[0;31m#la función repeat está ejecutando 20 veces insertion_Sort con el arreglo a y retorna el mejor tiepo obtenido.\u001b[0m\u001b[0;34m\u001b[0m\u001b[0;34m\u001b[0m\u001b[0;34m\u001b[0m\u001b[0m\n\u001b[0;32m---> 27\u001b[0;31m   \u001b[0mt1\u001b[0m \u001b[0;34m=\u001b[0m \u001b[0mrepeat\u001b[0m\u001b[0;34m(\u001b[0m\u001b[0msetup\u001b[0m\u001b[0;34m=\u001b[0m\u001b[0;34m\"from __main__ import Kadane\"\u001b[0m\u001b[0;34m,\u001b[0m \u001b[0mstmt\u001b[0m\u001b[0;34m=\u001b[0m\u001b[0;34mf\"Kadane({a},{size})\"\u001b[0m\u001b[0;34m,\u001b[0m \u001b[0mrepeat\u001b[0m\u001b[0;34m=\u001b[0m\u001b[0;36m1\u001b[0m\u001b[0;34m,\u001b[0m \u001b[0mnumber\u001b[0m\u001b[0;34m=\u001b[0m\u001b[0;36m10\u001b[0m\u001b[0;34m)\u001b[0m\u001b[0;34m\u001b[0m\u001b[0;34m\u001b[0m\u001b[0m\n\u001b[0m\u001b[1;32m     28\u001b[0m   \u001b[0mt2\u001b[0m \u001b[0;34m=\u001b[0m \u001b[0mrepeat\u001b[0m\u001b[0;34m(\u001b[0m\u001b[0msetup\u001b[0m\u001b[0;34m=\u001b[0m\u001b[0;34m\"from __main__ import maxSubArray\"\u001b[0m\u001b[0;34m,\u001b[0m \u001b[0mstmt\u001b[0m\u001b[0;34m=\u001b[0m\u001b[0;34mf\"maxSubArray({a},{contador},{verbose})\"\u001b[0m\u001b[0;34m,\u001b[0m \u001b[0mrepeat\u001b[0m\u001b[0;34m=\u001b[0m\u001b[0;36m1\u001b[0m\u001b[0;34m,\u001b[0m \u001b[0mnumber\u001b[0m\u001b[0;34m=\u001b[0m\u001b[0;36m10\u001b[0m\u001b[0;34m)\u001b[0m\u001b[0;34m\u001b[0m\u001b[0;34m\u001b[0m\u001b[0m\n\u001b[1;32m     29\u001b[0m   \u001b[0mx\u001b[0m\u001b[0;34m.\u001b[0m\u001b[0mappend\u001b[0m\u001b[0;34m(\u001b[0m\u001b[0mn\u001b[0m\u001b[0;34m)\u001b[0m\u001b[0;34m\u001b[0m\u001b[0;34m\u001b[0m\u001b[0m\n",
            "\u001b[0;32m/usr/lib/python3.7/timeit.py\u001b[0m in \u001b[0;36mrepeat\u001b[0;34m(stmt, setup, timer, repeat, number, globals)\u001b[0m\n\u001b[1;32m    236\u001b[0m            repeat=default_repeat, number=default_number, globals=None):\n\u001b[1;32m    237\u001b[0m     \u001b[0;34m\"\"\"Convenience function to create Timer object and call repeat method.\"\"\"\u001b[0m\u001b[0;34m\u001b[0m\u001b[0;34m\u001b[0m\u001b[0m\n\u001b[0;32m--> 238\u001b[0;31m     \u001b[0;32mreturn\u001b[0m \u001b[0mTimer\u001b[0m\u001b[0;34m(\u001b[0m\u001b[0mstmt\u001b[0m\u001b[0;34m,\u001b[0m \u001b[0msetup\u001b[0m\u001b[0;34m,\u001b[0m \u001b[0mtimer\u001b[0m\u001b[0;34m,\u001b[0m \u001b[0mglobals\u001b[0m\u001b[0;34m)\u001b[0m\u001b[0;34m.\u001b[0m\u001b[0mrepeat\u001b[0m\u001b[0;34m(\u001b[0m\u001b[0mrepeat\u001b[0m\u001b[0;34m,\u001b[0m \u001b[0mnumber\u001b[0m\u001b[0;34m)\u001b[0m\u001b[0;34m\u001b[0m\u001b[0;34m\u001b[0m\u001b[0m\n\u001b[0m\u001b[1;32m    239\u001b[0m \u001b[0;34m\u001b[0m\u001b[0m\n\u001b[1;32m    240\u001b[0m \u001b[0;32mdef\u001b[0m \u001b[0mmain\u001b[0m\u001b[0;34m(\u001b[0m\u001b[0margs\u001b[0m\u001b[0;34m=\u001b[0m\u001b[0;32mNone\u001b[0m\u001b[0;34m,\u001b[0m \u001b[0;34m*\u001b[0m\u001b[0;34m,\u001b[0m \u001b[0m_wrap_timer\u001b[0m\u001b[0;34m=\u001b[0m\u001b[0;32mNone\u001b[0m\u001b[0;34m)\u001b[0m\u001b[0;34m:\u001b[0m\u001b[0;34m\u001b[0m\u001b[0;34m\u001b[0m\u001b[0m\n",
            "\u001b[0;32m/usr/lib/python3.7/timeit.py\u001b[0m in \u001b[0;36mrepeat\u001b[0;34m(self, repeat, number)\u001b[0m\n\u001b[1;32m    203\u001b[0m         \u001b[0mr\u001b[0m \u001b[0;34m=\u001b[0m \u001b[0;34m[\u001b[0m\u001b[0;34m]\u001b[0m\u001b[0;34m\u001b[0m\u001b[0;34m\u001b[0m\u001b[0m\n\u001b[1;32m    204\u001b[0m         \u001b[0;32mfor\u001b[0m \u001b[0mi\u001b[0m \u001b[0;32min\u001b[0m \u001b[0mrange\u001b[0m\u001b[0;34m(\u001b[0m\u001b[0mrepeat\u001b[0m\u001b[0;34m)\u001b[0m\u001b[0;34m:\u001b[0m\u001b[0;34m\u001b[0m\u001b[0;34m\u001b[0m\u001b[0m\n\u001b[0;32m--> 205\u001b[0;31m             \u001b[0mt\u001b[0m \u001b[0;34m=\u001b[0m \u001b[0mself\u001b[0m\u001b[0;34m.\u001b[0m\u001b[0mtimeit\u001b[0m\u001b[0;34m(\u001b[0m\u001b[0mnumber\u001b[0m\u001b[0;34m)\u001b[0m\u001b[0;34m\u001b[0m\u001b[0;34m\u001b[0m\u001b[0m\n\u001b[0m\u001b[1;32m    206\u001b[0m             \u001b[0mr\u001b[0m\u001b[0;34m.\u001b[0m\u001b[0mappend\u001b[0m\u001b[0;34m(\u001b[0m\u001b[0mt\u001b[0m\u001b[0;34m)\u001b[0m\u001b[0;34m\u001b[0m\u001b[0;34m\u001b[0m\u001b[0m\n\u001b[1;32m    207\u001b[0m         \u001b[0;32mreturn\u001b[0m \u001b[0mr\u001b[0m\u001b[0;34m\u001b[0m\u001b[0;34m\u001b[0m\u001b[0m\n",
            "\u001b[0;32m/usr/lib/python3.7/timeit.py\u001b[0m in \u001b[0;36mtimeit\u001b[0;34m(self, number)\u001b[0m\n\u001b[1;32m    175\u001b[0m         \u001b[0mgc\u001b[0m\u001b[0;34m.\u001b[0m\u001b[0mdisable\u001b[0m\u001b[0;34m(\u001b[0m\u001b[0;34m)\u001b[0m\u001b[0;34m\u001b[0m\u001b[0;34m\u001b[0m\u001b[0m\n\u001b[1;32m    176\u001b[0m         \u001b[0;32mtry\u001b[0m\u001b[0;34m:\u001b[0m\u001b[0;34m\u001b[0m\u001b[0;34m\u001b[0m\u001b[0m\n\u001b[0;32m--> 177\u001b[0;31m             \u001b[0mtiming\u001b[0m \u001b[0;34m=\u001b[0m \u001b[0mself\u001b[0m\u001b[0;34m.\u001b[0m\u001b[0minner\u001b[0m\u001b[0;34m(\u001b[0m\u001b[0mit\u001b[0m\u001b[0;34m,\u001b[0m \u001b[0mself\u001b[0m\u001b[0;34m.\u001b[0m\u001b[0mtimer\u001b[0m\u001b[0;34m)\u001b[0m\u001b[0;34m\u001b[0m\u001b[0;34m\u001b[0m\u001b[0m\n\u001b[0m\u001b[1;32m    178\u001b[0m         \u001b[0;32mfinally\u001b[0m\u001b[0;34m:\u001b[0m\u001b[0;34m\u001b[0m\u001b[0;34m\u001b[0m\u001b[0m\n\u001b[1;32m    179\u001b[0m             \u001b[0;32mif\u001b[0m \u001b[0mgcold\u001b[0m\u001b[0;34m:\u001b[0m\u001b[0;34m\u001b[0m\u001b[0;34m\u001b[0m\u001b[0m\n",
            "\u001b[0;32m/usr/lib/python3.7/timeit.py\u001b[0m in \u001b[0;36minner\u001b[0;34m(_it, _timer)\u001b[0m\n",
            "\u001b[0;31mImportError\u001b[0m: cannot import name 'Kadane' from '__main__' (unknown location)",
            "",
            "\u001b[0;31m---------------------------------------------------------------------------\u001b[0;32m\nNOTE: If your import is failing due to a missing package, you can\nmanually install dependencies using either !pip or !apt.\n\nTo view examples of installing some common dependencies, click the\n\"Open Examples\" button below.\n\u001b[0;31m---------------------------------------------------------------------------\u001b[0m\n"
          ],
          "errorDetails": {
            "actions": [
              {
                "action": "open_url",
                "actionText": "Open Examples",
                "url": "/notebooks/snippets/importing_libraries.ipynb"
              }
            ]
          }
        }
      ]
    },
    {
      "cell_type": "markdown",
      "source": [
        "El algoritmo con el principio divide y venceras tiene una complejidad de O(n log(n)) y el algoritmo de kedane tiene una complejidad de O(n) ya que el numero de operaciones depende directamente con el tamaño del problema"
      ],
      "metadata": {
        "id": "pUrLRyik5nh6"
      }
    },
    {
      "cell_type": "markdown",
      "source": [
        "## experimento 2"
      ],
      "metadata": {
        "id": "k5MeCqc1XZZd"
      }
    },
    {
      "cell_type": "code",
      "source": [
        "#retorna un arreglo con valores entre -20 y 20 de largo n\n",
        "def randomArray(n):\n",
        "  array = np.zeros(n)\n",
        "  for i in range (len(array)):\n",
        "    array[i] = int(random.randint(1,40) - 20)\n",
        "  return array\n",
        "\n",
        "def MaxSubArrayN2(array):\n",
        "  max = array[0]\n",
        "  for i in range(0,len(array)):\n",
        "    suma = 0\n",
        "    for j in range(i,len(array)):\n",
        "      suma = suma + array[j]\n",
        "      if suma>max:\n",
        "        max = suma\n",
        "  \n",
        "  return max\n",
        "\n",
        "\n",
        "z = np.zeros(500)\n",
        "y = np.zeros(500)\n",
        "w = np.zeros(500)\n",
        "x = [n for n in range(0,500)]\n",
        "for i in range (5,500):\n",
        "  array = randomArray(i)\n",
        "  start = time.time()\n",
        "  max = MaxSubArrayN2(array)\n",
        "  end = time.time()\n",
        "  y[i] = end - start\n",
        "\n",
        "  start = time.time()\n",
        "  contRecComp = [0,0]\n",
        "  a,b,c = maxSubArray(array,contRecComp)\n",
        "  end = time.time()\n",
        "  z[i] = end - start\n",
        "\n",
        "  start = time.time()\n",
        "  maxSumKadane = maxSubArraySum(array, len(array))\n",
        "  end = time.time()\n",
        "  w[i] = end - start\n",
        "\n",
        "\n",
        "plt.plot(x,y,z)\n",
        "plt.plot(x, w)\n",
        "plt.legend([\"O(n^2)\",\"Divide & Conquer\",\"kadane method\"])\n",
        "\n",
        "plt.xlabel('n')\n",
        "plt.ylabel('time in s')\n",
        "plt.show()\n",
        "  "
      ],
      "metadata": {
        "colab": {
          "base_uri": "https://localhost:8080/",
          "height": 390
        },
        "id": "Nq8PhThsUAhk",
        "outputId": "8e458184-89e7-44fd-f4bb-83852210ee16"
      },
      "execution_count": null,
      "outputs": [
        {
          "output_type": "error",
          "ename": "TypeError",
          "evalue": "ignored",
          "traceback": [
            "\u001b[0;31m---------------------------------------------------------------------------\u001b[0m",
            "\u001b[0;31mTypeError\u001b[0m                                 Traceback (most recent call last)",
            "\u001b[0;32m<ipython-input-29-861cb64d67c3>\u001b[0m in \u001b[0;36m<module>\u001b[0;34m\u001b[0m\n\u001b[1;32m     31\u001b[0m   \u001b[0mstart\u001b[0m \u001b[0;34m=\u001b[0m \u001b[0mtime\u001b[0m\u001b[0;34m.\u001b[0m\u001b[0mtime\u001b[0m\u001b[0;34m(\u001b[0m\u001b[0;34m)\u001b[0m\u001b[0;34m\u001b[0m\u001b[0;34m\u001b[0m\u001b[0m\n\u001b[1;32m     32\u001b[0m   \u001b[0mcontRecComp\u001b[0m \u001b[0;34m=\u001b[0m \u001b[0;34m[\u001b[0m\u001b[0;36m0\u001b[0m\u001b[0;34m,\u001b[0m\u001b[0;36m0\u001b[0m\u001b[0;34m]\u001b[0m\u001b[0;34m\u001b[0m\u001b[0;34m\u001b[0m\u001b[0m\n\u001b[0;32m---> 33\u001b[0;31m   \u001b[0ma\u001b[0m\u001b[0;34m,\u001b[0m\u001b[0mb\u001b[0m\u001b[0;34m,\u001b[0m\u001b[0mc\u001b[0m \u001b[0;34m=\u001b[0m \u001b[0mmaxSubArray\u001b[0m\u001b[0;34m(\u001b[0m\u001b[0marray\u001b[0m\u001b[0;34m,\u001b[0m\u001b[0mcontRecComp\u001b[0m\u001b[0;34m)\u001b[0m\u001b[0;34m\u001b[0m\u001b[0;34m\u001b[0m\u001b[0m\n\u001b[0m\u001b[1;32m     34\u001b[0m   \u001b[0mend\u001b[0m \u001b[0;34m=\u001b[0m \u001b[0mtime\u001b[0m\u001b[0;34m.\u001b[0m\u001b[0mtime\u001b[0m\u001b[0;34m(\u001b[0m\u001b[0;34m)\u001b[0m\u001b[0;34m\u001b[0m\u001b[0;34m\u001b[0m\u001b[0m\n\u001b[1;32m     35\u001b[0m   \u001b[0mz\u001b[0m\u001b[0;34m[\u001b[0m\u001b[0mi\u001b[0m\u001b[0;34m]\u001b[0m \u001b[0;34m=\u001b[0m \u001b[0mend\u001b[0m \u001b[0;34m-\u001b[0m \u001b[0mstart\u001b[0m\u001b[0;34m\u001b[0m\u001b[0;34m\u001b[0m\u001b[0m\n",
            "\u001b[0;32m<ipython-input-26-affd76ec3f66>\u001b[0m in \u001b[0;36mmaxSubArray\u001b[0;34m(arr, contador, l, h, verbose)\u001b[0m\n\u001b[1;32m     83\u001b[0m \u001b[0;31m# Llamadas recursivas\u001b[0m\u001b[0;34m\u001b[0m\u001b[0;34m\u001b[0m\u001b[0;34m\u001b[0m\u001b[0m\n\u001b[1;32m     84\u001b[0m   \u001b[0mcontador\u001b[0m\u001b[0;34m[\u001b[0m\u001b[0;36m0\u001b[0m\u001b[0;34m]\u001b[0m \u001b[0;34m=\u001b[0m \u001b[0mcontador\u001b[0m\u001b[0;34m[\u001b[0m\u001b[0;36m0\u001b[0m\u001b[0;34m]\u001b[0m \u001b[0;34m+\u001b[0m\u001b[0;36m1\u001b[0m\u001b[0;34m\u001b[0m\u001b[0;34m\u001b[0m\u001b[0m\n\u001b[0;32m---> 85\u001b[0;31m   \u001b[0mmaxLeft\u001b[0m\u001b[0;34m,\u001b[0m \u001b[0mlowLeft\u001b[0m\u001b[0;34m,\u001b[0m \u001b[0mhighLeft\u001b[0m \u001b[0;34m=\u001b[0m \u001b[0mmaxSubArray\u001b[0m\u001b[0;34m(\u001b[0m\u001b[0marr\u001b[0m\u001b[0;34m,\u001b[0m\u001b[0mcontador\u001b[0m\u001b[0;34m,\u001b[0m \u001b[0ml\u001b[0m\u001b[0;34m,\u001b[0m \u001b[0mmitad\u001b[0m \u001b[0;34m,\u001b[0m \u001b[0mverbose\u001b[0m\u001b[0;34m)\u001b[0m\u001b[0;34m\u001b[0m\u001b[0;34m\u001b[0m\u001b[0m\n\u001b[0m\u001b[1;32m     86\u001b[0m   \u001b[0mmaxRight\u001b[0m\u001b[0;34m,\u001b[0m \u001b[0mlowRight\u001b[0m\u001b[0;34m,\u001b[0m \u001b[0mhighRight\u001b[0m \u001b[0;34m=\u001b[0m \u001b[0mmaxSubArray\u001b[0m\u001b[0;34m(\u001b[0m\u001b[0marr\u001b[0m\u001b[0;34m,\u001b[0m\u001b[0mcontador\u001b[0m\u001b[0;34m,\u001b[0m \u001b[0mmitad\u001b[0m\u001b[0;34m,\u001b[0m \u001b[0mh\u001b[0m\u001b[0;34m,\u001b[0m \u001b[0mverbose\u001b[0m\u001b[0;34m)\u001b[0m\u001b[0;34m\u001b[0m\u001b[0;34m\u001b[0m\u001b[0m\n\u001b[1;32m     87\u001b[0m   \u001b[0mmaxMid\u001b[0m\u001b[0;34m,\u001b[0m \u001b[0mlowMid\u001b[0m\u001b[0;34m,\u001b[0m \u001b[0mhighMid\u001b[0m \u001b[0;34m=\u001b[0m \u001b[0mmaxCrossSubArray\u001b[0m\u001b[0;34m(\u001b[0m\u001b[0marr\u001b[0m\u001b[0;34m,\u001b[0m\u001b[0mcontador\u001b[0m\u001b[0;34m,\u001b[0m \u001b[0mmitad\u001b[0m\u001b[0;34m,\u001b[0m\u001b[0ml\u001b[0m\u001b[0;34m,\u001b[0m\u001b[0mh\u001b[0m\u001b[0;34m,\u001b[0m\u001b[0mverbose\u001b[0m\u001b[0;34m)\u001b[0m\u001b[0;34m\u001b[0m\u001b[0;34m\u001b[0m\u001b[0m\n",
            "\u001b[0;32m<ipython-input-26-affd76ec3f66>\u001b[0m in \u001b[0;36mmaxSubArray\u001b[0;34m(arr, contador, l, h, verbose)\u001b[0m\n\u001b[1;32m     85\u001b[0m   \u001b[0mmaxLeft\u001b[0m\u001b[0;34m,\u001b[0m \u001b[0mlowLeft\u001b[0m\u001b[0;34m,\u001b[0m \u001b[0mhighLeft\u001b[0m \u001b[0;34m=\u001b[0m \u001b[0mmaxSubArray\u001b[0m\u001b[0;34m(\u001b[0m\u001b[0marr\u001b[0m\u001b[0;34m,\u001b[0m\u001b[0mcontador\u001b[0m\u001b[0;34m,\u001b[0m \u001b[0ml\u001b[0m\u001b[0;34m,\u001b[0m \u001b[0mmitad\u001b[0m \u001b[0;34m,\u001b[0m \u001b[0mverbose\u001b[0m\u001b[0;34m)\u001b[0m\u001b[0;34m\u001b[0m\u001b[0;34m\u001b[0m\u001b[0m\n\u001b[1;32m     86\u001b[0m   \u001b[0mmaxRight\u001b[0m\u001b[0;34m,\u001b[0m \u001b[0mlowRight\u001b[0m\u001b[0;34m,\u001b[0m \u001b[0mhighRight\u001b[0m \u001b[0;34m=\u001b[0m \u001b[0mmaxSubArray\u001b[0m\u001b[0;34m(\u001b[0m\u001b[0marr\u001b[0m\u001b[0;34m,\u001b[0m\u001b[0mcontador\u001b[0m\u001b[0;34m,\u001b[0m \u001b[0mmitad\u001b[0m\u001b[0;34m,\u001b[0m \u001b[0mh\u001b[0m\u001b[0;34m,\u001b[0m \u001b[0mverbose\u001b[0m\u001b[0;34m)\u001b[0m\u001b[0;34m\u001b[0m\u001b[0;34m\u001b[0m\u001b[0m\n\u001b[0;32m---> 87\u001b[0;31m   \u001b[0mmaxMid\u001b[0m\u001b[0;34m,\u001b[0m \u001b[0mlowMid\u001b[0m\u001b[0;34m,\u001b[0m \u001b[0mhighMid\u001b[0m \u001b[0;34m=\u001b[0m \u001b[0mmaxCrossSubArray\u001b[0m\u001b[0;34m(\u001b[0m\u001b[0marr\u001b[0m\u001b[0;34m,\u001b[0m\u001b[0mcontador\u001b[0m\u001b[0;34m,\u001b[0m \u001b[0mmitad\u001b[0m\u001b[0;34m,\u001b[0m\u001b[0ml\u001b[0m\u001b[0;34m,\u001b[0m\u001b[0mh\u001b[0m\u001b[0;34m,\u001b[0m\u001b[0mverbose\u001b[0m\u001b[0;34m)\u001b[0m\u001b[0;34m\u001b[0m\u001b[0;34m\u001b[0m\u001b[0m\n\u001b[0m\u001b[1;32m     88\u001b[0m \u001b[0;34m\u001b[0m\u001b[0m\n\u001b[1;32m     89\u001b[0m   \u001b[0;31m# Se obtiene la máxima suma.\u001b[0m\u001b[0;34m\u001b[0m\u001b[0;34m\u001b[0m\u001b[0;34m\u001b[0m\u001b[0m\n",
            "\u001b[0;32m<ipython-input-26-affd76ec3f66>\u001b[0m in \u001b[0;36mmaxCrossSubArray\u001b[0;34m(arr, contador, mitad, l, h, verbose)\u001b[0m\n\u001b[1;32m     51\u001b[0m \u001b[0;34m\u001b[0m\u001b[0m\n\u001b[1;32m     52\u001b[0m \u001b[0;34m\u001b[0m\u001b[0m\n\u001b[0;32m---> 53\u001b[0;31m   \u001b[0mmaxSum\u001b[0m \u001b[0;34m=\u001b[0m \u001b[0mmax\u001b[0m \u001b[0;34m(\u001b[0m\u001b[0mmax_sum_izq\u001b[0m\u001b[0;34m,\u001b[0m \u001b[0mmax_sum_der\u001b[0m\u001b[0;34m,\u001b[0m \u001b[0mmax_cross_sum\u001b[0m\u001b[0;34m)\u001b[0m\u001b[0;34m\u001b[0m\u001b[0;34m\u001b[0m\u001b[0m\n\u001b[0m\u001b[1;32m     54\u001b[0m \u001b[0;34m\u001b[0m\u001b[0m\n\u001b[1;32m     55\u001b[0m \u001b[0;34m\u001b[0m\u001b[0m\n",
            "\u001b[0;31mTypeError\u001b[0m: 'numpy.float64' object is not callable"
          ]
        }
      ]
    },
    {
      "cell_type": "markdown",
      "source": [
        "Se puede apreciar en el grafico que el metodo recorriendo el arreglo completo y probando todas las combinaciones es el metodo mas ineficiente, sin embargo es interesante como la curva del metodo D&C en este grafico parece ser insignificante.\n",
        "\n",
        "Comparando este grafico y el anterior el metodo D&C parecia un poco ineficiente, pero al graficar los 3 metodos uno puede apreciar la importancia de implementar un metodo eficiente y que utilice pocos recursos"
      ],
      "metadata": {
        "id": "Z3arugFNXSG6"
      }
    }
  ]
}