{
  "nbformat": 4,
  "nbformat_minor": 0,
  "metadata": {
    "colab": {
      "provenance": [],
      "authorship_tag": "ABX9TyNnuxnK0JibxHsRdtC8mJdb"
    },
    "kernelspec": {
      "name": "python3",
      "display_name": "Python 3"
    },
    "language_info": {
      "name": "python"
    }
  },
  "cells": [
    {
      "cell_type": "markdown",
      "source": [
        "# 1. Problema: ***Árbol binario de búsqueda óptimo***\n",
        "\n",
        "La búsqueda en un árbol binario de búsqueda consiste en acceder a la raíz del árbol, si el elemento a localizar coincide con éste la búsqueda ha concluido con éxito, si el elemento es menor se busca en el subárbol izquierdo y si es mayor en el derecho.\n",
        "\n",
        "\n",
        "**Entrada**: Entrada: Secuencia ordenada de n claves: $K=\\left(k_1,k_2,...,k_n\\right)$. Cada clave $k_i$ tiene una probabilidad $p_i$ de ser buscada. Existen claves ficticias $d_i$ que representan búsquedas fallidas con $k_{i-1} \\leq d_i \\leq k_i$. Cada clave $d_i$ tiene una probabilidad $q_i$ de ser buscada. La suma de probabilidades debe ser uno, es decir: $\\sum\\limits_{i=1}^n p_i + \\sum\\limits_{j=0}^n q_i = 1$\n",
        "\n",
        "\n",
        "**Salida:** Construir un árbol de búsqueda óptimo, es decir, un árbol que minimice la cantidad esperada de nodos visitados (costo esperado).\n",
        "\n"
      ],
      "metadata": {
        "id": "BNbp47yxHhuL"
      }
    },
    {
      "cell_type": "markdown",
      "source": [
        "# 2. Descripcion del algoritmo"
      ],
      "metadata": {
        "id": "med6Xk6tK5mF"
      }
    },
    {
      "cell_type": "markdown",
      "source": [
        "## 2.1 Codigo\n"
      ],
      "metadata": {
        "id": "-DoIycJMLvy6"
      }
    },
    {
      "cell_type": "code",
      "source": [
        "import random\n",
        "import networkx as nx\n",
        "from networkx.drawing.nx_pydot import graphviz_layout\n",
        "import numpy as np\n"
      ],
      "metadata": {
        "id": "tVNx-qpyqsIG"
      },
      "execution_count": null,
      "outputs": []
    },
    {
      "cell_type": "code",
      "source": [
        "null_node = 0\n",
        "def generar_bst(t,a):\n",
        "\n",
        "    global null_node\n",
        "    if len(a)==1: \n",
        "      T.add_node(a[0])\n",
        "      return a[0]\n",
        "    else:\n",
        "      pivote = random.randint(0,len(a)-1)\n",
        "      T.add_node(a[pivote])\n",
        "\n",
        "      if pivote > 0:\n",
        "        left_node = generar_bst(T,a[0:pivote])\n",
        "        T.add_edge(a[pivote],left_node)\n",
        "      elif pivote ==0: \n",
        "        T.add_edge(a[pivote],\"nil\"+str(null_node)); null_node += 1\n",
        "      \n",
        "      if pivote < len(a)-1:\n",
        "        right_node = generar_bst(t,a[pivote+1:])\n",
        "        T.add_edge(a[pivote],right_node)\n",
        "      else: \n",
        "        T.add_edge(a[pivote],\"nil\"+str(null_node)); null_node +=1\n",
        "\n",
        "      return a[pivote]"
      ],
      "metadata": {
        "id": "q7cEhX9xrOiI"
      },
      "execution_count": null,
      "outputs": []
    },
    {
      "cell_type": "markdown",
      "source": [
        "### Forma Recursiva"
      ],
      "metadata": {
        "id": "SCLbL5_zqFz3"
      }
    },
    {
      "cell_type": "code",
      "source": [
        "llamadas = 0\n",
        "\n",
        "def BST_recursivo(frec, i, j, verbose):\n",
        "\n",
        "  global llamadas                                                \n",
        "  if j < i:                                                        \n",
        "      return 0\n",
        "  if j == i:     \n",
        "    return frec[i]\n",
        "  aux = 0                                                           \n",
        "  for k in range(i, j + 1):\n",
        "    aux += frec[k]\n",
        "  if verbose:\n",
        "    print(\"SUMA DE LAS FRECUANCIAS:\", aux)   \n",
        "  min = float(\"inf\")                                                    \n",
        "  for r in range(i, j + 1):                                         \n",
        "    if verbose:\n",
        "      print(f\"CÁLCULO DE COSTOS MINIMOS: {frec[i:r-1]} y {frec[r+1:j]} \")\n",
        "    llamadas += 2\n",
        "    costo = (BST_recursivo(frec, i, r - 1, verbose) + BST_recursivo(frec, r + 1, j, verbose))\n",
        "    if costo < min:\n",
        "      if verbose:\n",
        "        print(f\"BUSQUEDA DEL MENOR : {min} y {costo} \")\n",
        "      min = costo                                                       \n",
        "  if verbose:\n",
        "    print(\"-> COSTO MINIMO:\", min+aux)\n",
        "    print(\"\\n\")\n",
        "\n",
        "  return min + aux"
      ],
      "metadata": {
        "id": "EV1w6xnYqDFn"
      },
      "execution_count": null,
      "outputs": []
    },
    {
      "cell_type": "code",
      "source": [
        "claves = [10, 12, 20]\n",
        "frec = [34, 8, 50]\n",
        "n = len(claves)\n",
        "verbose = True\n",
        "\n",
        "print(\"COSTO MINIMO:\", BST_recursivo(frec,0, n-1, verbose))\n",
        "print(\"LLAMADAS: \",llamadas)\n",
        "print(\"\\n\")\n",
        "llamadas = 0\n",
        "\n",
        "T = nx.DiGraph()\n",
        "generar_bst(T,claves)\n",
        "pos = graphviz_layout(T, prog=\"dot\")\n",
        "nx.draw(T,pos, with_labels=True, node_size=550, font_color=\"white\", font_size=10, font_weight=\"black\", width= 1.0, edge_color =\"red\")\n",
        "null_node = 0"
      ],
      "metadata": {
        "colab": {
          "base_uri": "https://localhost:8080/",
          "height": 819
        },
        "id": "BjawcMEAqLpX",
        "outputId": "bfd1942e-3119-4b29-e298-a62a7fa1e0c9"
      },
      "execution_count": null,
      "outputs": [
        {
          "output_type": "stream",
          "name": "stdout",
          "text": [
            "SUMA DE LAS FRECUANCIAS: 92\n",
            "CÁLCULO DE COSTOS MINIMOS: [34, 8] y [8] \n",
            "SUMA DE LAS FRECUANCIAS: 58\n",
            "CÁLCULO DE COSTOS MINIMOS: [] y [] \n",
            "BUSQUEDA DEL MENOR : inf y 50 \n",
            "CÁLCULO DE COSTOS MINIMOS: [] y [] \n",
            "BUSQUEDA DEL MENOR : 50 y 8 \n",
            "-> COSTO MINIMO: 66\n",
            "\n",
            "\n",
            "BUSQUEDA DEL MENOR : inf y 66 \n",
            "CÁLCULO DE COSTOS MINIMOS: [] y [] \n",
            "CÁLCULO DE COSTOS MINIMOS: [34] y [] \n",
            "SUMA DE LAS FRECUANCIAS: 42\n",
            "CÁLCULO DE COSTOS MINIMOS: [34, 8] y [] \n",
            "BUSQUEDA DEL MENOR : inf y 8 \n",
            "CÁLCULO DE COSTOS MINIMOS: [] y [] \n",
            "-> COSTO MINIMO: 50\n",
            "\n",
            "\n",
            "BUSQUEDA DEL MENOR : 66 y 50 \n",
            "-> COSTO MINIMO: 142\n",
            "\n",
            "\n",
            "COSTO MINIMO: 142\n",
            "LLAMADAS:  14\n",
            "\n",
            "\n"
          ]
        },
        {
          "output_type": "display_data",
          "data": {
            "text/plain": [
              "<Figure size 432x288 with 1 Axes>"
            ],
            "image/png": "[encoded data removed]"
          },
          "metadata": {}
        }
      ]
    },
    {
      "cell_type": "markdown",
      "source": [
        "### Forma Dinamica"
      ],
      "metadata": {
        "id": "x6ho5_vNrgkv"
      }
    },
    {
      "cell_type": "code",
      "source": [
        "def BST(n):\n",
        "\n",
        "    clave = sorted(random.sample(range(1, 100), n))\n",
        "    arreglo = np.random.random(n*2+1)\n",
        "    arreglo /= arreglo.sum()\n",
        "    \n",
        "    p = list(arreglo[:n]) \n",
        "    q = arreglo[n:] \n",
        "    return claves, p, q\n",
        "\n",
        "\n",
        "cont = 0\n",
        "def BST_dinamico(claves,frec,n,verbose):\n",
        "\n",
        "  costo = [[0 for x in range(n)] for y in range(n)]                            \n",
        "  global cont\n",
        "\n",
        "  for i in range(n):                                                            \n",
        "    costo[i][i] = frec[i]\n",
        "\n",
        "  for l in range(2,n+1):\n",
        "    for i in range(n - l+1):\n",
        "      j = i + l - 1\n",
        "\n",
        "      if verbose:\n",
        "        print(\"-> CÁLCULO DE LAS FRECUENCIAS\")\n",
        "      suma = 0\n",
        "      for k in range(i, j+1):                                                   \n",
        "        suma += frec[k]\n",
        "\n",
        "      if verbose:\n",
        "        print(\"SUMA DE LAS FRECUANCIAS:\",suma)\n",
        "\n",
        "      if i >= n or j >=n:                                                       \n",
        "        break\n",
        "      costo[i][j] = float(\"inf\")                                                \n",
        "\n",
        "      for r in range(i,j+1):                                                    \n",
        "        if verbose:\n",
        "          print(\"-> BUSCANDO VALORES OPTIMOS\")\n",
        "        cont += 1\n",
        "        aux = 0\n",
        "        if r > i:\n",
        "          if verbose:\n",
        "            print(f\"COMPARAMOS {r} - {i}\")\n",
        "          aux += costo[i][r-1]\n",
        "          if verbose:\n",
        "            print(\"COSTO MINIMO:\", aux)\n",
        "        if r < j:\n",
        "          if verbose:\n",
        "            print(f\"COMPARAMOS {r+1} - {j}\")\n",
        "          aux += costo[r+1][j]\n",
        "        aux += suma\n",
        "        if verbose:\n",
        "          print(\"NUEVO COSTO:\" ,aux)\n",
        "        if aux < costo[i][j]:\n",
        "          costo[i][j] = aux\n",
        "\n",
        "        if verbose:\n",
        "          print(\"COSTO MINIMO:\",costo[0][n-1])\n",
        "          print(\"\\n\")\n",
        "\n",
        "  return costo[0][n-1]"
      ],
      "metadata": {
        "id": "9DuKHbtJrgB_"
      },
      "execution_count": null,
      "outputs": []
    },
    {
      "cell_type": "code",
      "source": [
        "claves = [10, 12, 20]\n",
        "frec = [34, 8, 50]\n",
        "n = len(claves)\n",
        "verbose = True\n",
        "\n",
        "print(f\"COSTO : {BST_dinamico(claves, frec, n, verbose)}\")\n",
        "print(f\"LLAMADAS : {cont} \" )\n",
        "print(\"\\n\")\n",
        "cont = 0\n",
        "\n",
        "T = nx.DiGraph()\n",
        "generar_bst(T,claves)\n",
        "\n",
        "pos = graphviz_layout(T, prog=\"dot\")\n",
        "\n",
        "nx.draw(T,pos, with_labels=True, node_size=550, font_color=\"white\", font_size=10, font_weight=\"black\", width  =1.0, edge_color =\"red\")\n",
        "null_node = 0\n",
        "     "
      ],
      "metadata": {
        "colab": {
          "base_uri": "https://localhost:8080/",
          "height": 1000
        },
        "id": "lNV4h62prlwc",
        "outputId": "5bd95f01-87bf-4d54-ea10-8fc99c7deca2"
      },
      "execution_count": null,
      "outputs": [
        {
          "output_type": "stream",
          "name": "stdout",
          "text": [
            "-> CÁLCULO DE LAS FRECUENCIAS\n",
            "SUMA DE LAS FRECUANCIAS: 42\n",
            "-> BUSCANDO VALORES OPTIMOS\n",
            "COMPARAMOS 1 - 1\n",
            "NUEVO COSTO: 50\n",
            "COSTO MINIMO: 0\n",
            "\n",
            "\n",
            "-> BUSCANDO VALORES OPTIMOS\n",
            "COMPARAMOS 1 - 0\n",
            "COSTO MINIMO: 34\n",
            "NUEVO COSTO: 76\n",
            "COSTO MINIMO: 0\n",
            "\n",
            "\n",
            "-> CÁLCULO DE LAS FRECUENCIAS\n",
            "SUMA DE LAS FRECUANCIAS: 58\n",
            "-> BUSCANDO VALORES OPTIMOS\n",
            "COMPARAMOS 2 - 2\n",
            "NUEVO COSTO: 108\n",
            "COSTO MINIMO: 0\n",
            "\n",
            "\n",
            "-> BUSCANDO VALORES OPTIMOS\n",
            "COMPARAMOS 2 - 1\n",
            "COSTO MINIMO: 8\n",
            "NUEVO COSTO: 66\n",
            "COSTO MINIMO: 0\n",
            "\n",
            "\n",
            "-> CÁLCULO DE LAS FRECUENCIAS\n",
            "SUMA DE LAS FRECUANCIAS: 92\n",
            "-> BUSCANDO VALORES OPTIMOS\n",
            "COMPARAMOS 1 - 2\n",
            "NUEVO COSTO: 158\n",
            "COSTO MINIMO: 158\n",
            "\n",
            "\n",
            "-> BUSCANDO VALORES OPTIMOS\n",
            "COMPARAMOS 1 - 0\n",
            "COSTO MINIMO: 34\n",
            "COMPARAMOS 2 - 2\n",
            "NUEVO COSTO: 176\n",
            "COSTO MINIMO: 158\n",
            "\n",
            "\n",
            "-> BUSCANDO VALORES OPTIMOS\n",
            "COMPARAMOS 2 - 0\n",
            "COSTO MINIMO: 50\n",
            "NUEVO COSTO: 142\n",
            "COSTO MINIMO: 142\n",
            "\n",
            "\n",
            "COSTO : 142\n",
            "LLAMADAS : 7 \n",
            "\n",
            "\n"
          ]
        },
        {
          "output_type": "display_data",
          "data": {
            "text/plain": [
              "<Figure size 432x288 with 1 Axes>"
            ],
            "image/png": "[encoded data removed]"
          },
          "metadata": {}
        }
      ]
    },
    {
      "cell_type": "markdown",
      "source": [
        "#2.2 Descripcion del Algoritmo:\n",
        "\n",
        "El objetivo es contruir un arbol que minimice el costo total de busqueda. No pretende conseguir un altura minima y tampoco es necasario que el padre del subarbol sea mayor que sus hijos.\n",
        "\n",
        "Considere la secuencia de $n$ claves $K = [ k_1, k_2, k_3, …, k_n]$ de distinta probabilidad en orden ordenado tal que $k_1< k_2< … < k_n $. Los elementos entre cada par de claves conducen a una **búsqueda fallida**, por lo que para $n$ claves, el árbol de búsqueda binaria contiene $n + 1$ claves ficticias $d_i$, que representan búsquedas fallidas.\n",
        "\n",
        "El coste corresponde al promedio de nodos que se debe visitar en una búsqueda. El coste de cada clave tiene directa relación con su nivel en el árbol.\n",
        "\n",
        "**Coste por busqueda para un nodo $i$ esta dado por**: \n",
        "\n",
        "* $cost(k_i) = depth(k_i)+1$\n",
        " \n",
        "**Y el coste de la busqueda en un BST (funcion que buscamos minimizar) se define:**  \n",
        "\n",
        "* $\\sum\\limits_{i=1}^n (depth(k_i)+1)p_i$\n",
        "\n"
      ],
      "metadata": {
        "id": "jXG_Xe81olLf"
      }
    },
    {
      "cell_type": "markdown",
      "source": [
        "# 3. Tiempo de ejecucion: \n",
        "\n",
        "### **3.1 FORMA RECURSIVA**\n",
        "▹ La complejidad del algoritmo de forma recursiva corresponde a $O(2^n)$\n",
        "\n",
        "$$T(n) = \\sum_{i=0}^{n-1}T(i)+n ≥ T(n-1) + T(n-2) ≥ F(n)$$\n",
        "\n",
        "▹ Este algoritmo se comporta parecido a la función Fibonacci, por lo que podemos demostrar que corresponde $T(n) = (2^{0(n)}) = O(2^n)$.\n",
        "\n",
        "### **3.2 ACERCAMIENTO BOTTOM-UP**\n",
        "\n",
        "▹ Como podemos observar en el código mostrado anteriormente, al observar existen 3 ciclos for anidados, por lo que la complejidad corresponde a $O(n^3)$. Para demostralo lo podemos calcular de la siguiente manera:\n",
        "\n",
        "$$T(n) = \\sum_{m=1}^{n} \\sum_{i=1}^{n-m+1} \\sum_{j=i}^{n-l} Θ(l)$$\n",
        "$$     = \\sum_{m=1}^{n} \\sum_{i=1}^{n-m+1}n =\\sum_{m=1}^{n}n^2$$\n",
        "$$     = Θ(n^3)$$\n"
      ],
      "metadata": {
        "id": "DLzwOuv7W9ZU"
      }
    },
    {
      "cell_type": "markdown",
      "source": [
        "# 4. Correctitud\n",
        " Supongamos que se nos da una lista de claves $k1 < k2 < . . . < k_n$, y una lista de probabilidades $p_i$ que cada llave sea buscada. Un árbol de búsqueda binario óptimo es un $BST T$ que minimiza la búsqueda esperada tiempo.\n",
        "\n",
        "$$\\sum\\limits_{i=1}^n p_i(depth_T(k_i)+1)$$\n",
        "\n",
        "donde la profundidad de la raíz es 0. Supondremos que las claves son los números $1, 2, . . . , n$. Mediante el uso programación dinámica, sin embargo, podemos resolver el problema de manera eficiente.\n",
        "\n",
        "Primero calcular el valor numérico del tiempo de búsqueda esperado para un BST óptimo, y luego consideraremos cómo modificar nuestra solución para encontrar el BST correspondiente. Sea $1 ≤ i ≤ j ≤ n$, y sea $T$ cualquier $BST$ en $i, . . . , J$. Definiremos el costo de $T$:\n",
        "\n",
        "$$C(T) = \\sum\\limits_{l=i}^j p_l(depth_T(l)+1)$$\n",
        "\n",
        "y los subproblemas:\n",
        "\n",
        "$$C_{ij} = min_\\text{T on i,...,j} C(T)$$\n",
        "\n",
        "\n",
        "El tiempo de búsqueda esperado para el $BST$ óptimo es $C_{1n}$.\n",
        "\n",
        "El costo de $T$ es: \n",
        "\n",
        "$$C(T_L) + C(T_R) + \\sum\\limits_{l=i}^j p_l$$\n",
        "\n",
        "Y así definimos la recurrencia $C'_{ij}$:\n",
        "\n",
        "$C'_{ij} =  \\begin{cases}\n",
        "    min_{i \\leq k \\leq j}\\{C'_{i, k-1} + C'_{k+1, j}\\}+\\sum\\limits_{l=i}^{j} p_l, & \\text{if $i < j$}.\\\\\n",
        "    p_i, & \\text{if $i = j$}.\\\\\n",
        "    0, & \\text{if $i > j$}\n",
        "  \\end{cases}$\n",
        "\n",
        "Se pretende que: $C'_{ij} = C_{ij}$\n",
        "\n",
        "La demostración se hace por inducción en $j − i$, el caso base es trivial.\n",
        "\n",
        "$C'_{ij} ≥ C_{ij}$, según el cálculo anterior $C'_{ij}$ es el costo de algunos BST en $i,....,j$ y $C_{ij}$ es el costo de un BST óptimo.\n",
        "\n",
        "$C'_{ij} ≤ C_{ij}$, supongamos que la raíz de la BST óptima es $k$. \n",
        "\n",
        "Entonces:\n",
        "\n",
        "$$C_{ij} = C_{i, k-1} + C_{k+1, j} + \\sum\\limits_{l=i}^{j} p_l$$\n",
        "\n",
        "$$≥ C'_{i, k-1} + C'_{k+1, j} + \\sum\\limits_{l=i}^{j} p_l$$\n",
        "\n",
        "$$≥ min_{i \\leq k \\leq j}\\{C'_{i, k-1} + C'_{k+1, j}\\} + \\sum\\limits_{l=i}^{j} p_l = C'_{ij}$$"
      ],
      "metadata": {
        "id": "Y8_Futu02Nle"
      }
    },
    {
      "cell_type": "markdown",
      "source": [
        "## Experimentos"
      ],
      "metadata": {
        "id": "p9Z-6eDxH0SH"
      }
    }
  ]
}