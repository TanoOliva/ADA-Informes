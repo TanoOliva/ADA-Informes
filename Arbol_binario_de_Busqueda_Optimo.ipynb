{
  "nbformat": 4,
  "nbformat_minor": 0,
  "metadata": {
    "colab": {
      "provenance": [],
      "authorship_tag": "ABX9TyMB+/nnyle1bYgTb2Cxh2wv",
      "include_colab_link": true
    },
    "kernelspec": {
      "name": "python3",
      "display_name": "Python 3"
    },
    "language_info": {
      "name": "python"
    }
  },
  "cells": [
    {
      "cell_type": "markdown",
      "metadata": {
        "id": "view-in-github",
        "colab_type": "text"
      },
      "source": [
        "<a href=\"https://colab.research.google.com/github/TanoOliva/ADA-Informes/blob/main/Arbol_binario_de_Busqueda_Optimo.ipynb\" target=\"_parent\"><img src=\"https://colab.research.google.com/assets/colab-badge.svg\" alt=\"Open In Colab\"/></a>"
      ]
    },
    {
      "cell_type": "markdown",
      "source": [
        "# 1. Problema: ***Árbol binario de búsqueda óptimo***\n",
        "\n",
        "La búsqueda en un árbol binario de búsqueda consiste en acceder a la raíz del árbol, si el elemento a localizar coincide con éste la búsqueda ha concluido con éxito, si el elemento es menor se busca en el subárbol izquierdo y si es mayor en el derecho.\n",
        "\n",
        "\n",
        "**Entrada**: Entrada: Secuencia ordenada de n claves: $K=\\left<k_1,k_2,...,k_n\\right>$. Cada clave $k_i$ tiene una probabilidad $p_i$ de ser buscada. Existen claves ficticias $d_i$ que representan búsquedas fallidas con $k_{i-1} \\leq d_i \\leq k_i$. Cada clave $d_i$ tiene una probabilidad $q_i$ de ser buscada. La suma de probabilidades debe ser uno, es decir: $\\sum\\limits_{i=1}^n p_i + \\sum\\limits_{j=0}^n q_i = 1$\n",
        "\n",
        "\n",
        "**Salida:** Construir un árbol de búsqueda óptimo, es decir, un árbol que minimice la cantidad esperada de nodos visitados (costo esperado).\n",
        "\n"
      ],
      "metadata": {
        "id": "BNbp47yxHhuL"
      }
    },
    {
      "cell_type": "markdown",
      "source": [
        "# 2. Descripcion del algoritmo"
      ],
      "metadata": {
        "id": "med6Xk6tK5mF"
      }
    },
    {
      "cell_type": "markdown",
      "source": [
        "## 2.1 Codigo\n",
        "\n"
      ],
      "metadata": {
        "id": "-DoIycJMLvy6"
      }
    },
    {
      "cell_type": "code",
      "source": [
        "import numpy as np\n",
        "\n",
        "def OptimalBinarySearchTree(q,p,n,e,root,w):\n",
        "    #n indica la cantidad de nodos internos\n",
        "    #w [i] [j] es la suma de las probabilidades de acceso del subárbol formado por los nodos internos bi a bj, incluidos los nodos hoja en ambos lados\n",
        "    #e [i] [j] significa costo de búsqueda\n",
        "    for i in range(n+1):\n",
        "        w[i+1][i]=q[i]\n",
        "        e[i+1][i]=0\n",
        "    for r in range(n):#r: Número de nodos -1\n",
        "        for i in range(1,n-r+1):\n",
        "            j=i+r\n",
        "            w[i][j]=round(w[i][j-1]+q[j]+p[j],3)\n",
        "            e[i][j]=round(e[i+1][j]+w[i][j],3)\n",
        "            root[i][j]=i\n",
        "            \n",
        "            #k significa usar diferentes elementos como nodo raíz\n",
        "            for k in range(i+1,j+1):\n",
        "                t=round(e[i][k-1]+e[k+1][j]+w[i][j],3)\n",
        "                if t<e[i][j]:\n",
        "                    e[i][j]=t\n",
        "                    root[i][j]=k\n",
        "    print(\"e\")\n",
        "    for i in range(1,n+2):\n",
        "        print(e[i][1:])\n",
        "    print('root')\n",
        "    for i in range(1,n+2):\n",
        "        print(root[i][1:])\n",
        "    print('w')\n",
        "    for i in range(1,n+2):\n",
        "        print(w[i])\n",
        "\n",
        "# Probabilidad de acceso del nodo hoja\n",
        "q=[0.05,0.10,0.05,0.05,0.05,0.10]\n",
        "# Probabilidad de acceso al nodo interno\n",
        "p=[0,0.15,0.10,0.05,0.10,0.20]\n",
        "n=len(p)-1\n",
        "e,root,w=[],[],[]\n",
        "for i in range(n+2):\n",
        "    e.append([0]*(n+1))\n",
        "    root.append([0]*(n+1))\n",
        "    w.append([0]*(n+1))\n",
        "OptimalBinarySearchTree(q,p,n,e,root,w)"
      ],
      "metadata": {
        "colab": {
          "base_uri": "https://localhost:8080/"
        },
        "id": "Zq25eHKwOpvQ",
        "outputId": "a8e35d7b-403a-48aa-b909-16af4837f537"
      },
      "execution_count": 1,
      "outputs": [
        {
          "output_type": "stream",
          "name": "stdout",
          "text": [
            "e\n",
            "[0.3, 0.7, 1.0, 1.45, 2.35]\n",
            "[0, 0.25, 0.5, 0.95, 1.65]\n",
            "[0, 0, 0.15, 0.45, 1.05]\n",
            "[0, 0, 0, 0.2, 0.7]\n",
            "[0, 0, 0, 0, 0.35]\n",
            "[0, 0, 0, 0, 0]\n",
            "root\n",
            "[1, 1, 2, 2, 2]\n",
            "[0, 2, 2, 2, 4]\n",
            "[0, 0, 3, 4, 5]\n",
            "[0, 0, 0, 4, 5]\n",
            "[0, 0, 0, 0, 5]\n",
            "[0, 0, 0, 0, 0]\n",
            "w\n",
            "[0.05, 0.3, 0.45, 0.55, 0.7, 1.0]\n",
            "[0, 0.1, 0.25, 0.35, 0.5, 0.8]\n",
            "[0, 0, 0.05, 0.15, 0.3, 0.6]\n",
            "[0, 0, 0, 0.05, 0.2, 0.5]\n",
            "[0, 0, 0, 0, 0.05, 0.35]\n",
            "[0, 0, 0, 0, 0, 0.1]\n"
          ]
        }
      ]
    },
    {
      "cell_type": "markdown",
      "source": [
        "# Tiempo de ejecucion: \n"
      ],
      "metadata": {
        "id": "DLzwOuv7W9ZU"
      }
    }
  ]
}